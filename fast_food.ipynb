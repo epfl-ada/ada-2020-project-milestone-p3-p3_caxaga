{
 "cells": [
  {
   "cell_type": "markdown",
   "metadata": {},
   "source": [
    "# Fast-food Analysis"
   ]
  },
  {
   "cell_type": "markdown",
   "metadata": {},
   "source": [
    "As we have studied if the nutritional informations of the average product per area was correlated to the wellbeing features, we now want to study the correlation between this nutrients composition and the number of fast foods per area.\n",
    "\n",
    "We were able to find the database from the Londonian data website, the same one as for the wellbeing features. "
   ]
  },
  {
   "cell_type": "code",
   "execution_count": 1,
   "metadata": {},
   "outputs": [],
   "source": [
    "# Imports\n",
    "from utils import calculate_nutripoints\n",
    "from sklearn.cluster import KMeans, DBSCAN\n",
    "from statsmodels.stats import diagnostic\n",
    "import statsmodels.formula.api as smf\n",
    "import statsmodels.api as sm\n",
    "from scipy import stats\n",
    "from scipy.stats import pearsonr\n",
    "from sklearn.preprocessing import StandardScaler\n",
    "from sklearn.decomposition import PCA\n",
    "from sklearn.metrics import silhouette_score\n",
    "from sklearn.linear_model import LinearRegression, LogisticRegression, Ridge\n",
    "from sklearn.neighbors import KNeighborsClassifier\n",
    "from sklearn.ensemble import GradientBoostingRegressor\n",
    "from sklearn.model_selection import cross_val_predict, train_test_split, cross_val_score\n",
    "from sklearn.metrics import mean_squared_error, auc, roc_curve, r2_score\n",
    "from sklearn.feature_selection import RFE\n",
    "import math\n",
    "from IPython.display import display\n",
    "import numpy as np\n",
    "import matplotlib.pyplot as plt\n",
    "import pandas as pd\n",
    "import seaborn as sns\n",
    "\n",
    "%matplotlib inline\n",
    "sns.set_theme()"
   ]
  },
  {
   "cell_type": "markdown",
   "metadata": {},
   "source": [
    "## I) Data Preparation \n",
    "\n",
    "### A) Data imports"
   ]
  },
  {
   "cell_type": "code",
   "execution_count": 2,
   "metadata": {
    "scrolled": true
   },
   "outputs": [
    {
     "data": {
      "text/html": [
       "<div>\n",
       "<style scoped>\n",
       "    .dataframe tbody tr th:only-of-type {\n",
       "        vertical-align: middle;\n",
       "    }\n",
       "\n",
       "    .dataframe tbody tr th {\n",
       "        vertical-align: top;\n",
       "    }\n",
       "\n",
       "    .dataframe thead th {\n",
       "        text-align: right;\n",
       "    }\n",
       "</style>\n",
       "<table border=\"1\" class=\"dataframe\">\n",
       "  <thead>\n",
       "    <tr style=\"text-align: right;\">\n",
       "      <th></th>\n",
       "      <th>2015 Ward code</th>\n",
       "      <th>Count of outlets</th>\n",
       "    </tr>\n",
       "  </thead>\n",
       "  <tbody>\n",
       "    <tr>\n",
       "      <th>0</th>\n",
       "      <td>E05001767</td>\n",
       "      <td>10</td>\n",
       "    </tr>\n",
       "    <tr>\n",
       "      <th>1</th>\n",
       "      <td>E05001768</td>\n",
       "      <td>10</td>\n",
       "    </tr>\n",
       "    <tr>\n",
       "      <th>2</th>\n",
       "      <td>E05001769</td>\n",
       "      <td>22</td>\n",
       "    </tr>\n",
       "    <tr>\n",
       "      <th>3</th>\n",
       "      <td>E05001770</td>\n",
       "      <td>81</td>\n",
       "    </tr>\n",
       "    <tr>\n",
       "      <th>4</th>\n",
       "      <td>E05001771</td>\n",
       "      <td>5</td>\n",
       "    </tr>\n",
       "  </tbody>\n",
       "</table>\n",
       "</div>"
      ],
      "text/plain": [
       "  2015 Ward code  Count of outlets\n",
       "0      E05001767                10\n",
       "1      E05001768                10\n",
       "2      E05001769                22\n",
       "3      E05001770                81\n",
       "4      E05001771                 5"
      ]
     },
     "metadata": {},
     "output_type": "display_data"
    },
    {
     "name": "stdout",
     "output_type": "stream",
     "text": [
      "(5832, 2)\n"
     ]
    },
    {
     "data": {
      "text/html": [
       "<div>\n",
       "<style scoped>\n",
       "    .dataframe tbody tr th:only-of-type {\n",
       "        vertical-align: middle;\n",
       "    }\n",
       "\n",
       "    .dataframe tbody tr th {\n",
       "        vertical-align: top;\n",
       "    }\n",
       "\n",
       "    .dataframe thead th {\n",
       "        text-align: right;\n",
       "    }\n",
       "</style>\n",
       "<table border=\"1\" class=\"dataframe\">\n",
       "  <thead>\n",
       "    <tr style=\"text-align: right;\">\n",
       "      <th></th>\n",
       "      <th>area_id</th>\n",
       "      <th>energy_fat</th>\n",
       "      <th>energy_saturate</th>\n",
       "      <th>energy_sugar</th>\n",
       "      <th>energy_protein</th>\n",
       "      <th>energy_carb</th>\n",
       "      <th>energy_fibre</th>\n",
       "      <th>energy_alcohol</th>\n",
       "      <th>energy_tot</th>\n",
       "      <th>h_nutrients_calories</th>\n",
       "      <th>...</th>\n",
       "      <th>Crime rate - Index</th>\n",
       "      <th>Deliberate Fires</th>\n",
       "      <th>Average Capped GCSE and Equivalent Point Score Per Pupil</th>\n",
       "      <th>Unauthorised Absence in All Schools (%)</th>\n",
       "      <th>Dependent children in out-of-work families</th>\n",
       "      <th>Public Transport Accessibility</th>\n",
       "      <th>Homes with access to open space &amp; nature, and % greenspace</th>\n",
       "      <th>Subjective well-being average score</th>\n",
       "      <th>Index Score 2013</th>\n",
       "      <th>nutri_label</th>\n",
       "    </tr>\n",
       "  </thead>\n",
       "  <tbody>\n",
       "    <tr>\n",
       "      <th>0</th>\n",
       "      <td>E05000336</td>\n",
       "      <td>78.864004</td>\n",
       "      <td>32.414378</td>\n",
       "      <td>38.719523</td>\n",
       "      <td>21.433875</td>\n",
       "      <td>71.160848</td>\n",
       "      <td>2.994211</td>\n",
       "      <td>1.741239</td>\n",
       "      <td>176.194176</td>\n",
       "      <td>1.582813</td>\n",
       "      <td>...</td>\n",
       "      <td>5.663200</td>\n",
       "      <td>1.732487</td>\n",
       "      <td>9.104353</td>\n",
       "      <td>14.362369</td>\n",
       "      <td>6.829642</td>\n",
       "      <td>-12.410936</td>\n",
       "      <td>5.496664</td>\n",
       "      <td>0.097080</td>\n",
       "      <td>4.798106</td>\n",
       "      <td>4</td>\n",
       "    </tr>\n",
       "    <tr>\n",
       "      <th>1</th>\n",
       "      <td>E05000605</td>\n",
       "      <td>84.561946</td>\n",
       "      <td>33.918637</td>\n",
       "      <td>36.141050</td>\n",
       "      <td>22.015479</td>\n",
       "      <td>69.832483</td>\n",
       "      <td>3.067818</td>\n",
       "      <td>1.697021</td>\n",
       "      <td>181.174746</td>\n",
       "      <td>1.575484</td>\n",
       "      <td>...</td>\n",
       "      <td>-17.140935</td>\n",
       "      <td>6.149262</td>\n",
       "      <td>5.553690</td>\n",
       "      <td>2.833274</td>\n",
       "      <td>2.724538</td>\n",
       "      <td>12.165452</td>\n",
       "      <td>-4.355219</td>\n",
       "      <td>4.064134</td>\n",
       "      <td>0.440499</td>\n",
       "      <td>0</td>\n",
       "    </tr>\n",
       "    <tr>\n",
       "      <th>2</th>\n",
       "      <td>E05000252</td>\n",
       "      <td>80.542785</td>\n",
       "      <td>31.635739</td>\n",
       "      <td>33.648475</td>\n",
       "      <td>22.141379</td>\n",
       "      <td>61.322242</td>\n",
       "      <td>3.149138</td>\n",
       "      <td>1.689631</td>\n",
       "      <td>168.845175</td>\n",
       "      <td>1.598050</td>\n",
       "      <td>...</td>\n",
       "      <td>5.477066</td>\n",
       "      <td>9.517488</td>\n",
       "      <td>18.843265</td>\n",
       "      <td>0.391431</td>\n",
       "      <td>4.402315</td>\n",
       "      <td>16.172939</td>\n",
       "      <td>-14.255212</td>\n",
       "      <td>9.646084</td>\n",
       "      <td>4.269507</td>\n",
       "      <td>1</td>\n",
       "    </tr>\n",
       "    <tr>\n",
       "      <th>3</th>\n",
       "      <td>E05000427</td>\n",
       "      <td>77.568453</td>\n",
       "      <td>30.521094</td>\n",
       "      <td>35.742617</td>\n",
       "      <td>22.364672</td>\n",
       "      <td>66.992603</td>\n",
       "      <td>2.985766</td>\n",
       "      <td>1.760651</td>\n",
       "      <td>171.672145</td>\n",
       "      <td>1.600125</td>\n",
       "      <td>...</td>\n",
       "      <td>-13.774964</td>\n",
       "      <td>8.269988</td>\n",
       "      <td>4.929764</td>\n",
       "      <td>7.254350</td>\n",
       "      <td>-10.552446</td>\n",
       "      <td>18.059347</td>\n",
       "      <td>-13.621024</td>\n",
       "      <td>1.783860</td>\n",
       "      <td>-2.659193</td>\n",
       "      <td>0</td>\n",
       "    </tr>\n",
       "    <tr>\n",
       "      <th>4</th>\n",
       "      <td>E05000595</td>\n",
       "      <td>82.975277</td>\n",
       "      <td>33.302798</td>\n",
       "      <td>37.707033</td>\n",
       "      <td>21.336347</td>\n",
       "      <td>71.447922</td>\n",
       "      <td>2.947414</td>\n",
       "      <td>1.372449</td>\n",
       "      <td>180.079409</td>\n",
       "      <td>1.559561</td>\n",
       "      <td>...</td>\n",
       "      <td>-6.697261</td>\n",
       "      <td>2.509921</td>\n",
       "      <td>-5.728663</td>\n",
       "      <td>-1.420357</td>\n",
       "      <td>3.504061</td>\n",
       "      <td>4.092038</td>\n",
       "      <td>9.694047</td>\n",
       "      <td>4.064134</td>\n",
       "      <td>-0.489500</td>\n",
       "      <td>0</td>\n",
       "    </tr>\n",
       "  </tbody>\n",
       "</table>\n",
       "<p>5 rows × 26 columns</p>\n",
       "</div>"
      ],
      "text/plain": [
       "     area_id  energy_fat  energy_saturate  energy_sugar  energy_protein  \\\n",
       "0  E05000336   78.864004        32.414378     38.719523       21.433875   \n",
       "1  E05000605   84.561946        33.918637     36.141050       22.015479   \n",
       "2  E05000252   80.542785        31.635739     33.648475       22.141379   \n",
       "3  E05000427   77.568453        30.521094     35.742617       22.364672   \n",
       "4  E05000595   82.975277        33.302798     37.707033       21.336347   \n",
       "\n",
       "   energy_carb  energy_fibre  energy_alcohol  energy_tot  \\\n",
       "0    71.160848      2.994211        1.741239  176.194176   \n",
       "1    69.832483      3.067818        1.697021  181.174746   \n",
       "2    61.322242      3.149138        1.689631  168.845175   \n",
       "3    66.992603      2.985766        1.760651  171.672145   \n",
       "4    71.447922      2.947414        1.372449  180.079409   \n",
       "\n",
       "   h_nutrients_calories  ...  Crime rate - Index Deliberate Fires  \\\n",
       "0              1.582813  ...            5.663200         1.732487   \n",
       "1              1.575484  ...          -17.140935         6.149262   \n",
       "2              1.598050  ...            5.477066         9.517488   \n",
       "3              1.600125  ...          -13.774964         8.269988   \n",
       "4              1.559561  ...           -6.697261         2.509921   \n",
       "\n",
       "   Average Capped GCSE and Equivalent Point Score Per Pupil  \\\n",
       "0                                           9.104353          \n",
       "1                                           5.553690          \n",
       "2                                          18.843265          \n",
       "3                                           4.929764          \n",
       "4                                          -5.728663          \n",
       "\n",
       "   Unauthorised Absence in All Schools (%)  \\\n",
       "0                                14.362369   \n",
       "1                                 2.833274   \n",
       "2                                 0.391431   \n",
       "3                                 7.254350   \n",
       "4                                -1.420357   \n",
       "\n",
       "   Dependent children in out-of-work families  Public Transport Accessibility  \\\n",
       "0                                    6.829642                      -12.410936   \n",
       "1                                    2.724538                       12.165452   \n",
       "2                                    4.402315                       16.172939   \n",
       "3                                  -10.552446                       18.059347   \n",
       "4                                    3.504061                        4.092038   \n",
       "\n",
       "   Homes with access to open space & nature, and % greenspace  \\\n",
       "0                                           5.496664            \n",
       "1                                          -4.355219            \n",
       "2                                         -14.255212            \n",
       "3                                         -13.621024            \n",
       "4                                           9.694047            \n",
       "\n",
       "   Subjective well-being average score  Index Score 2013  nutri_label  \n",
       "0                             0.097080          4.798106            4  \n",
       "1                             4.064134          0.440499            0  \n",
       "2                             9.646084          4.269507            1  \n",
       "3                             1.783860         -2.659193            0  \n",
       "4                             4.064134         -0.489500            0  \n",
       "\n",
       "[5 rows x 26 columns]"
      ]
     },
     "metadata": {},
     "output_type": "display_data"
    },
    {
     "name": "stdout",
     "output_type": "stream",
     "text": [
      "(414, 26)\n"
     ]
    },
    {
     "data": {
      "text/html": [
       "<div>\n",
       "<style scoped>\n",
       "    .dataframe tbody tr th:only-of-type {\n",
       "        vertical-align: middle;\n",
       "    }\n",
       "\n",
       "    .dataframe tbody tr th {\n",
       "        vertical-align: top;\n",
       "    }\n",
       "\n",
       "    .dataframe thead th {\n",
       "        text-align: right;\n",
       "    }\n",
       "</style>\n",
       "<table border=\"1\" class=\"dataframe\">\n",
       "  <thead>\n",
       "    <tr style=\"text-align: right;\">\n",
       "      <th></th>\n",
       "      <th>area_id</th>\n",
       "      <th>energy_fat</th>\n",
       "      <th>energy_saturate</th>\n",
       "      <th>energy_sugar</th>\n",
       "      <th>energy_protein</th>\n",
       "      <th>energy_carb</th>\n",
       "      <th>energy_fibre</th>\n",
       "      <th>energy_alcohol</th>\n",
       "      <th>energy_tot</th>\n",
       "      <th>h_nutrients_calories</th>\n",
       "      <th>nutripoints</th>\n",
       "      <th>nutri_label</th>\n",
       "    </tr>\n",
       "  </thead>\n",
       "  <tbody>\n",
       "    <tr>\n",
       "      <th>0</th>\n",
       "      <td>E05000336</td>\n",
       "      <td>78.864004</td>\n",
       "      <td>32.414378</td>\n",
       "      <td>38.719523</td>\n",
       "      <td>21.433875</td>\n",
       "      <td>71.160848</td>\n",
       "      <td>2.994211</td>\n",
       "      <td>1.741239</td>\n",
       "      <td>176.194176</td>\n",
       "      <td>1.582813</td>\n",
       "      <td>10.0</td>\n",
       "      <td>4</td>\n",
       "    </tr>\n",
       "    <tr>\n",
       "      <th>1</th>\n",
       "      <td>E05000605</td>\n",
       "      <td>84.561946</td>\n",
       "      <td>33.918637</td>\n",
       "      <td>36.141050</td>\n",
       "      <td>22.015479</td>\n",
       "      <td>69.832483</td>\n",
       "      <td>3.067818</td>\n",
       "      <td>1.697021</td>\n",
       "      <td>181.174746</td>\n",
       "      <td>1.575484</td>\n",
       "      <td>9.0</td>\n",
       "      <td>0</td>\n",
       "    </tr>\n",
       "    <tr>\n",
       "      <th>2</th>\n",
       "      <td>E05000252</td>\n",
       "      <td>80.542785</td>\n",
       "      <td>31.635739</td>\n",
       "      <td>33.648475</td>\n",
       "      <td>22.141379</td>\n",
       "      <td>61.322242</td>\n",
       "      <td>3.149138</td>\n",
       "      <td>1.689631</td>\n",
       "      <td>168.845175</td>\n",
       "      <td>1.598050</td>\n",
       "      <td>8.5</td>\n",
       "      <td>1</td>\n",
       "    </tr>\n",
       "    <tr>\n",
       "      <th>3</th>\n",
       "      <td>E05000427</td>\n",
       "      <td>77.568453</td>\n",
       "      <td>30.521094</td>\n",
       "      <td>35.742617</td>\n",
       "      <td>22.364672</td>\n",
       "      <td>66.992603</td>\n",
       "      <td>2.985766</td>\n",
       "      <td>1.760651</td>\n",
       "      <td>171.672145</td>\n",
       "      <td>1.600125</td>\n",
       "      <td>9.0</td>\n",
       "      <td>0</td>\n",
       "    </tr>\n",
       "    <tr>\n",
       "      <th>4</th>\n",
       "      <td>E05000595</td>\n",
       "      <td>82.975277</td>\n",
       "      <td>33.302798</td>\n",
       "      <td>37.707033</td>\n",
       "      <td>21.336347</td>\n",
       "      <td>71.447922</td>\n",
       "      <td>2.947414</td>\n",
       "      <td>1.372449</td>\n",
       "      <td>180.079409</td>\n",
       "      <td>1.559561</td>\n",
       "      <td>9.0</td>\n",
       "      <td>0</td>\n",
       "    </tr>\n",
       "  </tbody>\n",
       "</table>\n",
       "</div>"
      ],
      "text/plain": [
       "     area_id  energy_fat  energy_saturate  energy_sugar  energy_protein  \\\n",
       "0  E05000336   78.864004        32.414378     38.719523       21.433875   \n",
       "1  E05000605   84.561946        33.918637     36.141050       22.015479   \n",
       "2  E05000252   80.542785        31.635739     33.648475       22.141379   \n",
       "3  E05000427   77.568453        30.521094     35.742617       22.364672   \n",
       "4  E05000595   82.975277        33.302798     37.707033       21.336347   \n",
       "\n",
       "   energy_carb  energy_fibre  energy_alcohol  energy_tot  \\\n",
       "0    71.160848      2.994211        1.741239  176.194176   \n",
       "1    69.832483      3.067818        1.697021  181.174746   \n",
       "2    61.322242      3.149138        1.689631  168.845175   \n",
       "3    66.992603      2.985766        1.760651  171.672145   \n",
       "4    71.447922      2.947414        1.372449  180.079409   \n",
       "\n",
       "   h_nutrients_calories  nutripoints  nutri_label  \n",
       "0              1.582813         10.0            4  \n",
       "1              1.575484          9.0            0  \n",
       "2              1.598050          8.5            1  \n",
       "3              1.600125          9.0            0  \n",
       "4              1.559561          9.0            0  "
      ]
     },
     "metadata": {},
     "output_type": "display_data"
    },
    {
     "name": "stdout",
     "output_type": "stream",
     "text": [
      "(414, 12)\n"
     ]
    }
   ],
   "source": [
    "# Data Imports\n",
    "\n",
    "#year_grocery = pd.read_csv(\"data/year_osward_grocery.csv\")\n",
    "#display(year_grocery.head())\n",
    "\n",
    "fast_food = pd.read_excel(\n",
    "    \"data/Fast_food.xlsx\", sheet_name=\"Ward Data\", header=[3], usecols=\"E,G\")\n",
    "display(fast_food.head())\n",
    "print(fast_food.shape)\n",
    "\n",
    "\n",
    "wellbeing_grocery = pd.read_pickle(\"data/wellbeing_grocery.pkl\")\n",
    "display(wellbeing_grocery.head())\n",
    "print(wellbeing_grocery.shape)\n",
    "\n",
    "# Selecting the nutrition columns from wellbeing_grocery\n",
    "grocery_analysis = wellbeing_grocery.copy()\n",
    "list_column = [\"area_id\", \"energy_tot\", \"energy_fat\", \"energy_saturate\", \"energy_sugar\", \"energy_protein\", \"energy_carb\",\n",
    "               \"energy_fibre\", \"energy_alcohol\", \"h_nutrients_calories\", \"nutripoints\",\"nutri_label\"]\n",
    "grocery_analysis = grocery_analysis.loc[:,grocery_analysis.columns.isin(list(list_column))]\n",
    "\n",
    "display(grocery_analysis.head())\n",
    "print(grocery_analysis.shape)"
   ]
  },
  {
   "cell_type": "markdown",
   "metadata": {},
   "source": [
    "### B) Merging\n",
    "\n",
    "We compare the number of lines of grocery and fast food and try to see how many they have in common. We then merge the two datasets."
   ]
  },
  {
   "cell_type": "code",
   "execution_count": 31,
   "metadata": {},
   "outputs": [
    {
     "name": "stdout",
     "output_type": "stream",
     "text": [
      "True\n"
     ]
    }
   ],
   "source": [
    "boolean = not grocery_analysis[\"area_id\"].is_unique      # True (credit to @Carsten)\n",
    "print(boolean)"
   ]
  },
  {
   "cell_type": "code",
   "execution_count": 25,
   "metadata": {
    "scrolled": true
   },
   "outputs": [
    {
     "data": {
      "text/plain": [
       "387"
      ]
     },
     "execution_count": 25,
     "metadata": {},
     "output_type": "execute_result"
    }
   ],
   "source": [
    "len(set(grocery_analysis[\"area_id\"].values))"
   ]
  },
  {
   "cell_type": "code",
   "execution_count": 26,
   "metadata": {},
   "outputs": [
    {
     "data": {
      "text/plain": [
       "5832"
      ]
     },
     "execution_count": 26,
     "metadata": {},
     "output_type": "execute_result"
    }
   ],
   "source": [
    "len(set(fast_food[\"2015 Ward code\"].values))"
   ]
  },
  {
   "cell_type": "code",
   "execution_count": 27,
   "metadata": {},
   "outputs": [
    {
     "data": {
      "text/plain": [
       "382"
      ]
     },
     "execution_count": 27,
     "metadata": {},
     "output_type": "execute_result"
    }
   ],
   "source": [
    "len(set(fast_food[\"2015 Ward code\"].values)\n",
    "    & set(grocery_analysis[\"area_id\"].values))"
   ]
  },
  {
   "cell_type": "markdown",
   "metadata": {},
   "source": [
    "REVOIR: As fast food dataset lists all the fast-foods of England and that the final merging dataset has only 4 missing rows compared to grocery_analysis, we can say that the merging does not loose information.  "
   ]
  },
  {
   "cell_type": "code",
   "execution_count": 28,
   "metadata": {
    "scrolled": true
   },
   "outputs": [
    {
     "data": {
      "text/html": [
       "<div>\n",
       "<style scoped>\n",
       "    .dataframe tbody tr th:only-of-type {\n",
       "        vertical-align: middle;\n",
       "    }\n",
       "\n",
       "    .dataframe tbody tr th {\n",
       "        vertical-align: top;\n",
       "    }\n",
       "\n",
       "    .dataframe thead th {\n",
       "        text-align: right;\n",
       "    }\n",
       "</style>\n",
       "<table border=\"1\" class=\"dataframe\">\n",
       "  <thead>\n",
       "    <tr style=\"text-align: right;\">\n",
       "      <th></th>\n",
       "      <th>area_id</th>\n",
       "      <th>energy_fat</th>\n",
       "      <th>energy_saturate</th>\n",
       "      <th>energy_sugar</th>\n",
       "      <th>energy_protein</th>\n",
       "      <th>energy_carb</th>\n",
       "      <th>energy_fibre</th>\n",
       "      <th>energy_alcohol</th>\n",
       "      <th>energy_tot</th>\n",
       "      <th>h_nutrients_calories</th>\n",
       "      <th>nutripoints</th>\n",
       "      <th>nutri_label</th>\n",
       "      <th>Count of outlets</th>\n",
       "    </tr>\n",
       "  </thead>\n",
       "  <tbody>\n",
       "    <tr>\n",
       "      <th>0</th>\n",
       "      <td>E05000336</td>\n",
       "      <td>78.864004</td>\n",
       "      <td>32.414378</td>\n",
       "      <td>38.719523</td>\n",
       "      <td>21.433875</td>\n",
       "      <td>71.160848</td>\n",
       "      <td>2.994211</td>\n",
       "      <td>1.741239</td>\n",
       "      <td>176.194176</td>\n",
       "      <td>1.582813</td>\n",
       "      <td>10.0</td>\n",
       "      <td>4</td>\n",
       "      <td>15</td>\n",
       "    </tr>\n",
       "    <tr>\n",
       "      <th>1</th>\n",
       "      <td>E05000605</td>\n",
       "      <td>84.561946</td>\n",
       "      <td>33.918637</td>\n",
       "      <td>36.141050</td>\n",
       "      <td>22.015479</td>\n",
       "      <td>69.832483</td>\n",
       "      <td>3.067818</td>\n",
       "      <td>1.697021</td>\n",
       "      <td>181.174746</td>\n",
       "      <td>1.575484</td>\n",
       "      <td>9.0</td>\n",
       "      <td>0</td>\n",
       "      <td>13</td>\n",
       "    </tr>\n",
       "    <tr>\n",
       "      <th>2</th>\n",
       "      <td>E05000252</td>\n",
       "      <td>80.542785</td>\n",
       "      <td>31.635739</td>\n",
       "      <td>33.648475</td>\n",
       "      <td>22.141379</td>\n",
       "      <td>61.322242</td>\n",
       "      <td>3.149138</td>\n",
       "      <td>1.689631</td>\n",
       "      <td>168.845175</td>\n",
       "      <td>1.598050</td>\n",
       "      <td>8.5</td>\n",
       "      <td>1</td>\n",
       "      <td>8</td>\n",
       "    </tr>\n",
       "    <tr>\n",
       "      <th>3</th>\n",
       "      <td>E05000427</td>\n",
       "      <td>77.568453</td>\n",
       "      <td>30.521094</td>\n",
       "      <td>35.742617</td>\n",
       "      <td>22.364672</td>\n",
       "      <td>66.992603</td>\n",
       "      <td>2.985766</td>\n",
       "      <td>1.760651</td>\n",
       "      <td>171.672145</td>\n",
       "      <td>1.600125</td>\n",
       "      <td>9.0</td>\n",
       "      <td>0</td>\n",
       "      <td>14</td>\n",
       "    </tr>\n",
       "    <tr>\n",
       "      <th>4</th>\n",
       "      <td>E05000595</td>\n",
       "      <td>82.975277</td>\n",
       "      <td>33.302798</td>\n",
       "      <td>37.707033</td>\n",
       "      <td>21.336347</td>\n",
       "      <td>71.447922</td>\n",
       "      <td>2.947414</td>\n",
       "      <td>1.372449</td>\n",
       "      <td>180.079409</td>\n",
       "      <td>1.559561</td>\n",
       "      <td>9.0</td>\n",
       "      <td>0</td>\n",
       "      <td>25</td>\n",
       "    </tr>\n",
       "  </tbody>\n",
       "</table>\n",
       "</div>"
      ],
      "text/plain": [
       "     area_id  energy_fat  energy_saturate  energy_sugar  energy_protein  \\\n",
       "0  E05000336   78.864004        32.414378     38.719523       21.433875   \n",
       "1  E05000605   84.561946        33.918637     36.141050       22.015479   \n",
       "2  E05000252   80.542785        31.635739     33.648475       22.141379   \n",
       "3  E05000427   77.568453        30.521094     35.742617       22.364672   \n",
       "4  E05000595   82.975277        33.302798     37.707033       21.336347   \n",
       "\n",
       "   energy_carb  energy_fibre  energy_alcohol  energy_tot  \\\n",
       "0    71.160848      2.994211        1.741239  176.194176   \n",
       "1    69.832483      3.067818        1.697021  181.174746   \n",
       "2    61.322242      3.149138        1.689631  168.845175   \n",
       "3    66.992603      2.985766        1.760651  171.672145   \n",
       "4    71.447922      2.947414        1.372449  180.079409   \n",
       "\n",
       "   h_nutrients_calories  nutripoints  nutri_label  Count of outlets  \n",
       "0              1.582813         10.0            4                15  \n",
       "1              1.575484          9.0            0                13  \n",
       "2              1.598050          8.5            1                 8  \n",
       "3              1.600125          9.0            0                14  \n",
       "4              1.559561          9.0            0                25  "
      ]
     },
     "metadata": {},
     "output_type": "display_data"
    },
    {
     "name": "stdout",
     "output_type": "stream",
     "text": [
      "(407, 13)\n"
     ]
    }
   ],
   "source": [
    "fastfood_grocery = pd.merge(\n",
    "    left=grocery_analysis, right=fast_food, left_on='area_id', right_on=\"2015 Ward code\")\n",
    "fastfood_grocery = fastfood_grocery.drop(\"2015 Ward code\", axis=1)\n",
    "display(fastfood_grocery.head())\n",
    "print(fastfood_grocery.shape)"
   ]
  },
  {
   "cell_type": "markdown",
   "metadata": {},
   "source": [
    "## II) Comprehension of the data\n",
    "\n",
    "### A) Distribution of the values: describe, boxplot, distplot"
   ]
  },
  {
   "cell_type": "code",
   "execution_count": 32,
   "metadata": {
    "scrolled": true
   },
   "outputs": [
    {
     "data": {
      "text/plain": [
       "area_id                 False\n",
       "energy_fat              False\n",
       "energy_saturate         False\n",
       "energy_sugar            False\n",
       "energy_protein          False\n",
       "energy_carb             False\n",
       "energy_fibre            False\n",
       "energy_alcohol          False\n",
       "energy_tot              False\n",
       "h_nutrients_calories    False\n",
       "nutripoints             False\n",
       "nutri_label             False\n",
       "Count of outlets        False\n",
       "dtype: bool"
      ]
     },
     "execution_count": 32,
     "metadata": {},
     "output_type": "execute_result"
    }
   ],
   "source": [
    "#checking that they are no null value\n",
    "fastfood_grocery.isnull().any()"
   ]
  },
  {
   "cell_type": "code",
   "execution_count": 33,
   "metadata": {},
   "outputs": [
    {
     "data": {
      "text/html": [
       "<div>\n",
       "<style scoped>\n",
       "    .dataframe tbody tr th:only-of-type {\n",
       "        vertical-align: middle;\n",
       "    }\n",
       "\n",
       "    .dataframe tbody tr th {\n",
       "        vertical-align: top;\n",
       "    }\n",
       "\n",
       "    .dataframe thead th {\n",
       "        text-align: right;\n",
       "    }\n",
       "</style>\n",
       "<table border=\"1\" class=\"dataframe\">\n",
       "  <thead>\n",
       "    <tr style=\"text-align: right;\">\n",
       "      <th></th>\n",
       "      <th>energy_fat</th>\n",
       "      <th>energy_saturate</th>\n",
       "      <th>energy_sugar</th>\n",
       "      <th>energy_protein</th>\n",
       "      <th>energy_carb</th>\n",
       "      <th>energy_fibre</th>\n",
       "      <th>energy_alcohol</th>\n",
       "      <th>energy_tot</th>\n",
       "      <th>h_nutrients_calories</th>\n",
       "      <th>nutripoints</th>\n",
       "      <th>nutri_label</th>\n",
       "      <th>Count of outlets</th>\n",
       "    </tr>\n",
       "  </thead>\n",
       "  <tbody>\n",
       "    <tr>\n",
       "      <th>count</th>\n",
       "      <td>407.000000</td>\n",
       "      <td>407.000000</td>\n",
       "      <td>407.000000</td>\n",
       "      <td>407.000000</td>\n",
       "      <td>407.000000</td>\n",
       "      <td>407.000000</td>\n",
       "      <td>407.000000</td>\n",
       "      <td>407.000000</td>\n",
       "      <td>407.000000</td>\n",
       "      <td>407.000000</td>\n",
       "      <td>407.000000</td>\n",
       "      <td>407.000000</td>\n",
       "    </tr>\n",
       "    <tr>\n",
       "      <th>mean</th>\n",
       "      <td>80.784989</td>\n",
       "      <td>31.907750</td>\n",
       "      <td>40.296211</td>\n",
       "      <td>21.054377</td>\n",
       "      <td>72.155774</td>\n",
       "      <td>3.027468</td>\n",
       "      <td>1.678519</td>\n",
       "      <td>178.701127</td>\n",
       "      <td>1.571869</td>\n",
       "      <td>9.305897</td>\n",
       "      <td>1.744472</td>\n",
       "      <td>14.140049</td>\n",
       "    </tr>\n",
       "    <tr>\n",
       "      <th>std</th>\n",
       "      <td>2.831696</td>\n",
       "      <td>1.382985</td>\n",
       "      <td>3.250686</td>\n",
       "      <td>0.915000</td>\n",
       "      <td>5.274497</td>\n",
       "      <td>0.120171</td>\n",
       "      <td>0.350697</td>\n",
       "      <td>6.902516</td>\n",
       "      <td>0.024322</td>\n",
       "      <td>1.378196</td>\n",
       "      <td>1.578352</td>\n",
       "      <td>13.006347</td>\n",
       "    </tr>\n",
       "    <tr>\n",
       "      <th>min</th>\n",
       "      <td>67.111854</td>\n",
       "      <td>26.283257</td>\n",
       "      <td>33.119113</td>\n",
       "      <td>17.596480</td>\n",
       "      <td>58.462154</td>\n",
       "      <td>2.750710</td>\n",
       "      <td>0.715793</td>\n",
       "      <td>156.104396</td>\n",
       "      <td>1.465237</td>\n",
       "      <td>5.000000</td>\n",
       "      <td>0.000000</td>\n",
       "      <td>1.000000</td>\n",
       "    </tr>\n",
       "    <tr>\n",
       "      <th>25%</th>\n",
       "      <td>79.113366</td>\n",
       "      <td>31.032413</td>\n",
       "      <td>38.116707</td>\n",
       "      <td>20.592028</td>\n",
       "      <td>68.425923</td>\n",
       "      <td>2.947048</td>\n",
       "      <td>1.432738</td>\n",
       "      <td>174.190966</td>\n",
       "      <td>1.556295</td>\n",
       "      <td>8.500000</td>\n",
       "      <td>0.000000</td>\n",
       "      <td>7.000000</td>\n",
       "    </tr>\n",
       "    <tr>\n",
       "      <th>50%</th>\n",
       "      <td>80.523818</td>\n",
       "      <td>31.763461</td>\n",
       "      <td>39.809799</td>\n",
       "      <td>21.231804</td>\n",
       "      <td>72.175064</td>\n",
       "      <td>3.019550</td>\n",
       "      <td>1.669184</td>\n",
       "      <td>178.744798</td>\n",
       "      <td>1.573776</td>\n",
       "      <td>9.000000</td>\n",
       "      <td>1.000000</td>\n",
       "      <td>12.000000</td>\n",
       "    </tr>\n",
       "    <tr>\n",
       "      <th>75%</th>\n",
       "      <td>82.306504</td>\n",
       "      <td>32.659223</td>\n",
       "      <td>42.249893</td>\n",
       "      <td>21.682030</td>\n",
       "      <td>75.885690</td>\n",
       "      <td>3.095622</td>\n",
       "      <td>1.877371</td>\n",
       "      <td>182.698736</td>\n",
       "      <td>1.589703</td>\n",
       "      <td>10.500000</td>\n",
       "      <td>3.000000</td>\n",
       "      <td>17.000000</td>\n",
       "    </tr>\n",
       "    <tr>\n",
       "      <th>max</th>\n",
       "      <td>92.440804</td>\n",
       "      <td>38.690892</td>\n",
       "      <td>48.719140</td>\n",
       "      <td>23.005837</td>\n",
       "      <td>84.618879</td>\n",
       "      <td>3.617668</td>\n",
       "      <td>3.147601</td>\n",
       "      <td>197.674474</td>\n",
       "      <td>1.641436</td>\n",
       "      <td>14.500000</td>\n",
       "      <td>4.000000</td>\n",
       "      <td>147.000000</td>\n",
       "    </tr>\n",
       "  </tbody>\n",
       "</table>\n",
       "</div>"
      ],
      "text/plain": [
       "       energy_fat  energy_saturate  energy_sugar  energy_protein  energy_carb  \\\n",
       "count  407.000000       407.000000    407.000000      407.000000   407.000000   \n",
       "mean    80.784989        31.907750     40.296211       21.054377    72.155774   \n",
       "std      2.831696         1.382985      3.250686        0.915000     5.274497   \n",
       "min     67.111854        26.283257     33.119113       17.596480    58.462154   \n",
       "25%     79.113366        31.032413     38.116707       20.592028    68.425923   \n",
       "50%     80.523818        31.763461     39.809799       21.231804    72.175064   \n",
       "75%     82.306504        32.659223     42.249893       21.682030    75.885690   \n",
       "max     92.440804        38.690892     48.719140       23.005837    84.618879   \n",
       "\n",
       "       energy_fibre  energy_alcohol  energy_tot  h_nutrients_calories  \\\n",
       "count    407.000000      407.000000  407.000000            407.000000   \n",
       "mean       3.027468        1.678519  178.701127              1.571869   \n",
       "std        0.120171        0.350697    6.902516              0.024322   \n",
       "min        2.750710        0.715793  156.104396              1.465237   \n",
       "25%        2.947048        1.432738  174.190966              1.556295   \n",
       "50%        3.019550        1.669184  178.744798              1.573776   \n",
       "75%        3.095622        1.877371  182.698736              1.589703   \n",
       "max        3.617668        3.147601  197.674474              1.641436   \n",
       "\n",
       "       nutripoints  nutri_label  Count of outlets  \n",
       "count   407.000000   407.000000        407.000000  \n",
       "mean      9.305897     1.744472         14.140049  \n",
       "std       1.378196     1.578352         13.006347  \n",
       "min       5.000000     0.000000          1.000000  \n",
       "25%       8.500000     0.000000          7.000000  \n",
       "50%       9.000000     1.000000         12.000000  \n",
       "75%      10.500000     3.000000         17.000000  \n",
       "max      14.500000     4.000000        147.000000  "
      ]
     },
     "execution_count": 33,
     "metadata": {},
     "output_type": "execute_result"
    }
   ],
   "source": [
    "#Understanding better how the values are distributed\n",
    "fastfood_grocery.describe()"
   ]
  },
  {
   "cell_type": "code",
   "execution_count": 10,
   "metadata": {},
   "outputs": [
    {
     "data": {
      "text/plain": [
       "Text(0.5, 0.98, 'boxplot for each column')"
      ]
     },
     "execution_count": 10,
     "metadata": {},
     "output_type": "execute_result"
    },
    {
     "data": {
      "image/png": "[encoded data removed]",
      "text/plain": [
       "<Figure size 1152x576 with 12 Axes>"
      ]
     },
     "metadata": {},
     "output_type": "display_data"
    }
   ],
   "source": [
    "columns_grocery = [\n",
    "    'energy_fat',\n",
    "    'energy_saturate',\n",
    "    'energy_sugar',\n",
    "    'energy_protein',\n",
    "    'energy_carb',\n",
    "    'energy_fibre',\n",
    "    'energy_alcohol',\n",
    "    'energy_tot',\n",
    "    'h_nutrients_calories',\n",
    "    'nutripoints',\n",
    "    'Count of outlets'\n",
    "]\n",
    "\n",
    "column_boxplot = columns_grocery\n",
    "\n",
    "fastfood_grocery_analysis = fastfood_grocery[column_boxplot].copy()\n",
    "fig, ax = plt.subplots(4, 3, figsize=(16, 8), sharey=False)\n",
    "\n",
    "for i in range(len(column_boxplot)):\n",
    "    sbplt = ax[int(i/3), i % 3]\n",
    "\n",
    "    sns.boxplot(data=fastfood_grocery_analysis.iloc[:, i], ax=sbplt)\n",
    "    sbplt.set_xlabel('')\n",
    "    sbplt.set_ylabel('')\n",
    "    sbplt.set_title(\n",
    "        fastfood_grocery_analysis.columns[i], loc='center', wrap=True)\n",
    "\n",
    "fig.tight_layout()\n",
    "fig.subplots_adjust(top=0.9)\n",
    "\n",
    "fig.suptitle('boxplot for each column', fontsize=18)"
   ]
  },
  {
   "cell_type": "markdown",
   "metadata": {},
   "source": [
    "We observe that they are some outliers principally for the fast food. We will try to visualize it better later"
   ]
  },
  {
   "cell_type": "code",
   "execution_count": 11,
   "metadata": {
    "scrolled": true
   },
   "outputs": [
    {
     "data": {
      "text/plain": [
       "Text(0.5, 0.98, 'histplot for each column')"
      ]
     },
     "execution_count": 11,
     "metadata": {},
     "output_type": "execute_result"
    },
    {
     "data": {
      "image/png": "[encoded data removed]",
      "text/plain": [
       "<Figure size 1152x576 with 12 Axes>"
      ]
     },
     "metadata": {},
     "output_type": "display_data"
    }
   ],
   "source": [
    "fig, ax = plt.subplots(4, 3, figsize=(16, 8), sharey=False)\n",
    "\n",
    "for i in range(len(column_boxplot)):\n",
    "    sbplt = ax[int(i/3), i % 3]\n",
    "\n",
    "    sns.histplot(data=fastfood_grocery_analysis.iloc[:, i], ax=sbplt)\n",
    "    sbplt.set_xlabel('')\n",
    "    sbplt.set_ylabel('')\n",
    "    sbplt.set_title(fastfood_grocery_analysis.columns[i], wrap=True)\n",
    "\n",
    "fig.tight_layout()\n",
    "fig.subplots_adjust(top=0.9)\n",
    "\n",
    "fig.suptitle('histplot for each column', fontsize=18)"
   ]
  },
  {
   "cell_type": "markdown",
   "metadata": {},
   "source": [
    "Most of the nutritional variables seem to be normally distributed. On the other side, the number of outlets is more logarithmic. Most of the areas have between 5 and 10 fast foods but it go to 140! "
   ]
  },
  {
   "cell_type": "markdown",
   "metadata": {},
   "source": [
    "### B) Correlation between the different variables"
   ]
  },
  {
   "cell_type": "code",
   "execution_count": 34,
   "metadata": {
    "scrolled": true
   },
   "outputs": [
    {
     "data": {
      "text/plain": [
       "<AxesSubplot:>"
      ]
     },
     "execution_count": 34,
     "metadata": {},
     "output_type": "execute_result"
    },
    {
     "data": {
      "image/png": "[encoded data removed]",
      "text/plain": [
       "<Figure size 720x432 with 2 Axes>"
      ]
     },
     "metadata": {},
     "output_type": "display_data"
    }
   ],
   "source": [
    "# Heatmap to visualize the correlation between the variables\n",
    "fig = plt.figure(figsize=(10, 6))\n",
    "sns.heatmap(fastfood_grocery_analysis.corr())"
   ]
  },
  {
   "cell_type": "markdown",
   "metadata": {},
   "source": [
    "The correlation with the number of oulets (the last column or row) seems really lo as the colours are mainly red, corresponding to values around O. We will display the correlation table to better understand the importance of the correlation between the different variables. "
   ]
  },
  {
   "cell_type": "code",
   "execution_count": 13,
   "metadata": {
    "scrolled": true
   },
   "outputs": [
    {
     "data": {
      "text/html": [
       "<div>\n",
       "<style scoped>\n",
       "    .dataframe tbody tr th:only-of-type {\n",
       "        vertical-align: middle;\n",
       "    }\n",
       "\n",
       "    .dataframe tbody tr th {\n",
       "        vertical-align: top;\n",
       "    }\n",
       "\n",
       "    .dataframe thead th {\n",
       "        text-align: right;\n",
       "    }\n",
       "</style>\n",
       "<table border=\"1\" class=\"dataframe\">\n",
       "  <thead>\n",
       "    <tr style=\"text-align: right;\">\n",
       "      <th></th>\n",
       "      <th>energy_fat</th>\n",
       "      <th>energy_saturate</th>\n",
       "      <th>energy_sugar</th>\n",
       "      <th>energy_protein</th>\n",
       "      <th>energy_carb</th>\n",
       "      <th>energy_fibre</th>\n",
       "      <th>energy_alcohol</th>\n",
       "      <th>energy_tot</th>\n",
       "      <th>h_nutrients_calories</th>\n",
       "      <th>nutripoints</th>\n",
       "      <th>Count of outlets</th>\n",
       "    </tr>\n",
       "  </thead>\n",
       "  <tbody>\n",
       "    <tr>\n",
       "      <th>energy_fat</th>\n",
       "      <td>1.000000</td>\n",
       "      <td>0.801918</td>\n",
       "      <td>0.518136</td>\n",
       "      <td>-0.053873</td>\n",
       "      <td>0.525838</td>\n",
       "      <td>-0.019363</td>\n",
       "      <td>-0.305409</td>\n",
       "      <td>0.760481</td>\n",
       "      <td>-0.554461</td>\n",
       "      <td>0.491096</td>\n",
       "      <td>-0.093613</td>\n",
       "    </tr>\n",
       "    <tr>\n",
       "      <th>energy_saturate</th>\n",
       "      <td>0.801918</td>\n",
       "      <td>1.000000</td>\n",
       "      <td>0.430642</td>\n",
       "      <td>-0.176601</td>\n",
       "      <td>0.338711</td>\n",
       "      <td>-0.066967</td>\n",
       "      <td>-0.178426</td>\n",
       "      <td>0.520243</td>\n",
       "      <td>-0.428021</td>\n",
       "      <td>0.597296</td>\n",
       "      <td>-0.174806</td>\n",
       "    </tr>\n",
       "    <tr>\n",
       "      <th>energy_sugar</th>\n",
       "      <td>0.518136</td>\n",
       "      <td>0.430642</td>\n",
       "      <td>1.000000</td>\n",
       "      <td>-0.517018</td>\n",
       "      <td>0.840569</td>\n",
       "      <td>-0.299752</td>\n",
       "      <td>-0.390441</td>\n",
       "      <td>0.777607</td>\n",
       "      <td>-0.774996</td>\n",
       "      <td>0.447583</td>\n",
       "      <td>-0.077223</td>\n",
       "    </tr>\n",
       "    <tr>\n",
       "      <th>energy_protein</th>\n",
       "      <td>-0.053873</td>\n",
       "      <td>-0.176601</td>\n",
       "      <td>-0.517018</td>\n",
       "      <td>1.000000</td>\n",
       "      <td>-0.314546</td>\n",
       "      <td>0.374979</td>\n",
       "      <td>0.296345</td>\n",
       "      <td>-0.142548</td>\n",
       "      <td>0.551341</td>\n",
       "      <td>-0.319052</td>\n",
       "      <td>0.061245</td>\n",
       "    </tr>\n",
       "    <tr>\n",
       "      <th>energy_carb</th>\n",
       "      <td>0.525838</td>\n",
       "      <td>0.338711</td>\n",
       "      <td>0.840569</td>\n",
       "      <td>-0.314546</td>\n",
       "      <td>1.000000</td>\n",
       "      <td>-0.355473</td>\n",
       "      <td>-0.578671</td>\n",
       "      <td>0.930762</td>\n",
       "      <td>-0.858045</td>\n",
       "      <td>0.239123</td>\n",
       "      <td>-0.031150</td>\n",
       "    </tr>\n",
       "    <tr>\n",
       "      <th>energy_fibre</th>\n",
       "      <td>-0.019363</td>\n",
       "      <td>-0.066967</td>\n",
       "      <td>-0.299752</td>\n",
       "      <td>0.374979</td>\n",
       "      <td>-0.355473</td>\n",
       "      <td>1.000000</td>\n",
       "      <td>0.159259</td>\n",
       "      <td>-0.239326</td>\n",
       "      <td>0.408692</td>\n",
       "      <td>-0.446251</td>\n",
       "      <td>-0.232656</td>\n",
       "    </tr>\n",
       "    <tr>\n",
       "      <th>energy_alcohol</th>\n",
       "      <td>-0.305409</td>\n",
       "      <td>-0.178426</td>\n",
       "      <td>-0.390441</td>\n",
       "      <td>0.296345</td>\n",
       "      <td>-0.578671</td>\n",
       "      <td>0.159259</td>\n",
       "      <td>1.000000</td>\n",
       "      <td>-0.498126</td>\n",
       "      <td>0.801828</td>\n",
       "      <td>0.085766</td>\n",
       "      <td>0.056469</td>\n",
       "    </tr>\n",
       "    <tr>\n",
       "      <th>energy_tot</th>\n",
       "      <td>0.760481</td>\n",
       "      <td>0.520243</td>\n",
       "      <td>0.777607</td>\n",
       "      <td>-0.142548</td>\n",
       "      <td>0.930762</td>\n",
       "      <td>-0.239326</td>\n",
       "      <td>-0.498126</td>\n",
       "      <td>1.000000</td>\n",
       "      <td>-0.784482</td>\n",
       "      <td>0.324636</td>\n",
       "      <td>-0.046469</td>\n",
       "    </tr>\n",
       "    <tr>\n",
       "      <th>h_nutrients_calories</th>\n",
       "      <td>-0.554461</td>\n",
       "      <td>-0.428021</td>\n",
       "      <td>-0.774996</td>\n",
       "      <td>0.551341</td>\n",
       "      <td>-0.858045</td>\n",
       "      <td>0.408692</td>\n",
       "      <td>0.801828</td>\n",
       "      <td>-0.784482</td>\n",
       "      <td>1.000000</td>\n",
       "      <td>-0.294870</td>\n",
       "      <td>0.042514</td>\n",
       "    </tr>\n",
       "    <tr>\n",
       "      <th>nutripoints</th>\n",
       "      <td>0.491096</td>\n",
       "      <td>0.597296</td>\n",
       "      <td>0.447583</td>\n",
       "      <td>-0.319052</td>\n",
       "      <td>0.239123</td>\n",
       "      <td>-0.446251</td>\n",
       "      <td>0.085766</td>\n",
       "      <td>0.324636</td>\n",
       "      <td>-0.294870</td>\n",
       "      <td>1.000000</td>\n",
       "      <td>-0.000093</td>\n",
       "    </tr>\n",
       "    <tr>\n",
       "      <th>Count of outlets</th>\n",
       "      <td>-0.093613</td>\n",
       "      <td>-0.174806</td>\n",
       "      <td>-0.077223</td>\n",
       "      <td>0.061245</td>\n",
       "      <td>-0.031150</td>\n",
       "      <td>-0.232656</td>\n",
       "      <td>0.056469</td>\n",
       "      <td>-0.046469</td>\n",
       "      <td>0.042514</td>\n",
       "      <td>-0.000093</td>\n",
       "      <td>1.000000</td>\n",
       "    </tr>\n",
       "  </tbody>\n",
       "</table>\n",
       "</div>"
      ],
      "text/plain": [
       "                      energy_fat  energy_saturate  energy_sugar  \\\n",
       "energy_fat              1.000000         0.801918      0.518136   \n",
       "energy_saturate         0.801918         1.000000      0.430642   \n",
       "energy_sugar            0.518136         0.430642      1.000000   \n",
       "energy_protein         -0.053873        -0.176601     -0.517018   \n",
       "energy_carb             0.525838         0.338711      0.840569   \n",
       "energy_fibre           -0.019363        -0.066967     -0.299752   \n",
       "energy_alcohol         -0.305409        -0.178426     -0.390441   \n",
       "energy_tot              0.760481         0.520243      0.777607   \n",
       "h_nutrients_calories   -0.554461        -0.428021     -0.774996   \n",
       "nutripoints             0.491096         0.597296      0.447583   \n",
       "Count of outlets       -0.093613        -0.174806     -0.077223   \n",
       "\n",
       "                      energy_protein  energy_carb  energy_fibre  \\\n",
       "energy_fat                 -0.053873     0.525838     -0.019363   \n",
       "energy_saturate            -0.176601     0.338711     -0.066967   \n",
       "energy_sugar               -0.517018     0.840569     -0.299752   \n",
       "energy_protein              1.000000    -0.314546      0.374979   \n",
       "energy_carb                -0.314546     1.000000     -0.355473   \n",
       "energy_fibre                0.374979    -0.355473      1.000000   \n",
       "energy_alcohol              0.296345    -0.578671      0.159259   \n",
       "energy_tot                 -0.142548     0.930762     -0.239326   \n",
       "h_nutrients_calories        0.551341    -0.858045      0.408692   \n",
       "nutripoints                -0.319052     0.239123     -0.446251   \n",
       "Count of outlets            0.061245    -0.031150     -0.232656   \n",
       "\n",
       "                      energy_alcohol  energy_tot  h_nutrients_calories  \\\n",
       "energy_fat                 -0.305409    0.760481             -0.554461   \n",
       "energy_saturate            -0.178426    0.520243             -0.428021   \n",
       "energy_sugar               -0.390441    0.777607             -0.774996   \n",
       "energy_protein              0.296345   -0.142548              0.551341   \n",
       "energy_carb                -0.578671    0.930762             -0.858045   \n",
       "energy_fibre                0.159259   -0.239326              0.408692   \n",
       "energy_alcohol              1.000000   -0.498126              0.801828   \n",
       "energy_tot                 -0.498126    1.000000             -0.784482   \n",
       "h_nutrients_calories        0.801828   -0.784482              1.000000   \n",
       "nutripoints                 0.085766    0.324636             -0.294870   \n",
       "Count of outlets            0.056469   -0.046469              0.042514   \n",
       "\n",
       "                      nutripoints  Count of outlets  \n",
       "energy_fat               0.491096         -0.093613  \n",
       "energy_saturate          0.597296         -0.174806  \n",
       "energy_sugar             0.447583         -0.077223  \n",
       "energy_protein          -0.319052          0.061245  \n",
       "energy_carb              0.239123         -0.031150  \n",
       "energy_fibre            -0.446251         -0.232656  \n",
       "energy_alcohol           0.085766          0.056469  \n",
       "energy_tot               0.324636         -0.046469  \n",
       "h_nutrients_calories    -0.294870          0.042514  \n",
       "nutripoints              1.000000         -0.000093  \n",
       "Count of outlets        -0.000093          1.000000  "
      ]
     },
     "metadata": {},
     "output_type": "display_data"
    }
   ],
   "source": [
    "correlation = fastfood_grocery_analysis.corr(method=\"spearman\")\n",
    "display(correlation)"
   ]
  },
  {
   "cell_type": "code",
   "execution_count": 14,
   "metadata": {},
   "outputs": [
    {
     "data": {
      "text/plain": [
       "energy_fat             -0.093613\n",
       "energy_saturate        -0.174806\n",
       "energy_sugar           -0.077223\n",
       "energy_protein          0.061245\n",
       "energy_carb            -0.031150\n",
       "energy_fibre           -0.232656\n",
       "energy_alcohol          0.056469\n",
       "energy_tot             -0.046469\n",
       "h_nutrients_calories    0.042514\n",
       "nutripoints            -0.000093\n",
       "Count of outlets        1.000000\n",
       "Name: Count of outlets, dtype: float64"
      ]
     },
     "metadata": {},
     "output_type": "display_data"
    },
    {
     "data": {
      "image/png": "[encoded data removed]",
      "text/plain": [
       "<Figure size 1008x216 with 1 Axes>"
      ]
     },
     "metadata": {},
     "output_type": "display_data"
    }
   ],
   "source": [
    "plt.figure(figsize=(14, 3))\n",
    "display(correlation[\"Count of outlets\"])\n",
    "correlation[\"Count of outlets\"].plot.bar(\n",
    "    x=None, y=None, width=0.8, legend=None)\n",
    "plt.ylabel(\"Spearman R\")\n",
    "plt.title(\"Correlation fast food outlets\")\n",
    "plt.show()"
   ]
  },
  {
   "cell_type": "code",
   "execution_count": 17,
   "metadata": {},
   "outputs": [
    {
     "name": "stdout",
     "output_type": "stream",
     "text": [
      "                            OLS Regression Results                            \n",
      "==============================================================================\n",
      "Dep. Variable:            nutripoints   R-squared:                       0.000\n",
      "Model:                            OLS   Adj. R-squared:                 -0.002\n",
      "Method:                 Least Squares   F-statistic:                   0.08910\n",
      "Date:                Sat, 12 Dec 2020   Prob (F-statistic):              0.765\n",
      "Time:                        16:56:32   Log-Likelihood:                -707.52\n",
      "No. Observations:                 407   AIC:                             1419.\n",
      "Df Residuals:                     405   BIC:                             1427.\n",
      "Df Model:                           1                                         \n",
      "Covariance Type:            nonrobust                                         \n",
      "====================================================================================\n",
      "                       coef    std err          t      P>|t|      [0.025      0.975]\n",
      "------------------------------------------------------------------------------------\n",
      "const                9.3281      0.101     92.275      0.000       9.129       9.527\n",
      "Count of outlets    -0.0016      0.005     -0.299      0.765      -0.012       0.009\n",
      "==============================================================================\n",
      "Omnibus:                        4.262   Durbin-Watson:                   1.902\n",
      "Prob(Omnibus):                  0.119   Jarque-Bera (JB):                4.019\n",
      "Skew:                           0.231   Prob(JB):                        0.134\n",
      "Kurtosis:                       3.152   Cond. No.                         28.4\n",
      "==============================================================================\n",
      "\n",
      "Notes:\n",
      "[1] Standard Errors assume that the covariance matrix of the errors is correctly specified.\n"
     ]
    }
   ],
   "source": [
    "Y = fastfood_grocery[[\"nutripoints\"]]\n",
    "X = fastfood_grocery[[\"Count of outlets\"]]\n",
    "X = sm.add_constant(X)  # adding a constant\n",
    "\n",
    "model = sm.OLS(Y, X).fit()\n",
    "predictions = model.predict(X)\n",
    "\n",
    "print_model = model.summary()\n",
    "print(print_model)"
   ]
  },
  {
   "cell_type": "code",
   "execution_count": 19,
   "metadata": {},
   "outputs": [
    {
     "data": {
      "text/plain": [
       "LinearRegression()"
      ]
     },
     "execution_count": 19,
     "metadata": {},
     "output_type": "execute_result"
    }
   ],
   "source": [
    "## linear regression ##\n",
    "lin_reg = LinearRegression()  # create the model\n",
    "lin_reg.fit(X, Y)  # train it"
   ]
  },
  {
   "cell_type": "code",
   "execution_count": 20,
   "metadata": {},
   "outputs": [
    {
     "name": "stdout",
     "output_type": "stream",
     "text": [
      "[ 0.         -0.00157156] * Count of outlets + \n",
      "[9.3281187]\n"
     ]
    }
   ],
   "source": [
    "print(\"{0} * {1} + \".format(lin_reg.coef_[0], \"Count of outlets\"))\n",
    "print(lin_reg.intercept_)"
   ]
  },
  {
   "cell_type": "code",
   "execution_count": 21,
   "metadata": {},
   "outputs": [],
   "source": [
    "# train a gradient boosting regressor\n",
    "gradboost = GradientBoostingRegressor()\n",
    "\n",
    "# compute r^2 for this new model\n",
    "#r2_random_gradboost = gradboost_random.score(train_X, train_y)\n",
    "\n",
    "#print(f\"R² for the Gradient Boost Regression: {r2_random_gradboost}\")"
   ]
  },
  {
   "cell_type": "code",
   "execution_count": 22,
   "metadata": {},
   "outputs": [
    {
     "name": "stderr",
     "output_type": "stream",
     "text": [
      "C:\\Users\\agath\\anaconda3\\envs\\ada\\lib\\site-packages\\sklearn\\utils\\validation.py:72: DataConversionWarning: A column-vector y was passed when a 1d array was expected. Please change the shape of y to (n_samples, ), for example using ravel().\n",
      "  return f(**kwargs)\n",
      "C:\\Users\\agath\\anaconda3\\envs\\ada\\lib\\site-packages\\sklearn\\utils\\validation.py:72: DataConversionWarning: A column-vector y was passed when a 1d array was expected. Please change the shape of y to (n_samples, ), for example using ravel().\n",
      "  return f(**kwargs)\n",
      "C:\\Users\\agath\\anaconda3\\envs\\ada\\lib\\site-packages\\sklearn\\utils\\validation.py:72: DataConversionWarning: A column-vector y was passed when a 1d array was expected. Please change the shape of y to (n_samples, ), for example using ravel().\n",
      "  return f(**kwargs)\n",
      "C:\\Users\\agath\\anaconda3\\envs\\ada\\lib\\site-packages\\sklearn\\utils\\validation.py:72: DataConversionWarning: A column-vector y was passed when a 1d array was expected. Please change the shape of y to (n_samples, ), for example using ravel().\n",
      "  return f(**kwargs)\n",
      "C:\\Users\\agath\\anaconda3\\envs\\ada\\lib\\site-packages\\sklearn\\utils\\validation.py:72: DataConversionWarning: A column-vector y was passed when a 1d array was expected. Please change the shape of y to (n_samples, ), for example using ravel().\n",
      "  return f(**kwargs)\n"
     ]
    }
   ],
   "source": [
    "predicted_y = cross_val_predict(gradboost, X, Y, cv=5)"
   ]
  },
  {
   "cell_type": "code",
   "execution_count": 23,
   "metadata": {},
   "outputs": [
    {
     "data": {
      "image/png": "[encoded data removed]",
      "text/plain": [
       "<Figure size 864x576 with 1 Axes>"
      ]
     },
     "metadata": {},
     "output_type": "display_data"
    }
   ],
   "source": [
    "# Plot the results\n",
    "fig, ax = plt.subplots(figsize=(12, 8))\n",
    "ax.scatter(Y, predicted_y, edgecolors=(0, 0, 0))\n",
    "ax.set_xlabel('Original')\n",
    "ax.set_ylabel('Predicted')\n",
    "plt.show()"
   ]
  },
  {
   "cell_type": "code",
   "execution_count": 24,
   "metadata": {},
   "outputs": [
    {
     "name": "stdout",
     "output_type": "stream",
     "text": [
      "-0.15425485824356278 2.1870317596555773\n"
     ]
    }
   ],
   "source": [
    "r2 = r2_score(Y, predicted_y)\n",
    "mse = mean_squared_error(Y, predicted_y)\n",
    "print(r2, mse)"
   ]
  },
  {
   "cell_type": "code",
   "execution_count": null,
   "metadata": {},
   "outputs": [],
   "source": []
  }
 ],
 "metadata": {
  "kernelspec": {
   "display_name": "Python 3",
   "language": "python",
   "name": "python3"
  },
  "language_info": {
   "codemirror_mode": {
    "name": "ipython",
    "version": 3
   },
   "file_extension": ".py",
   "mimetype": "text/x-python",
   "name": "python",
   "nbconvert_exporter": "python",
   "pygments_lexer": "ipython3",
   "version": "3.8.5"
  }
 },
 "nbformat": 4,
 "nbformat_minor": 4
}
