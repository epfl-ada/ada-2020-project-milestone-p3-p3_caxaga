{
 "cells": [
  {
   "cell_type": "code",
   "execution_count": 35,
   "metadata": {},
   "outputs": [],
   "source": [
    "# Imports\n",
    "from sklearn.cluster import KMeans, DBSCAN\n",
    "from statsmodels.stats import diagnostic\n",
    "import statsmodels.formula.api as smf\n",
    "import statsmodels.api as sm\n",
    "from scipy import stats\n",
    "from scipy.stats import pearsonr\n",
    "from sklearn.preprocessing import StandardScaler\n",
    "from sklearn.decomposition import PCA\n",
    "from sklearn.metrics import silhouette_score\n",
    "from sklearn.linear_model import LinearRegression, LogisticRegression, Ridge\n",
    "from sklearn.neighbors import KNeighborsClassifier\n",
    "from sklearn.ensemble import GradientBoostingRegressor\n",
    "from sklearn.model_selection import cross_val_predict, train_test_split, cross_val_score\n",
    "from sklearn.metrics import mean_squared_error, auc, roc_curve, r2_score\n",
    "from sklearn.feature_selection import RFE\n",
    "import math\n",
    "from IPython.display import display\n",
    "import numpy as np\n",
    "import matplotlib.pyplot as plt\n",
    "import pandas as pd\n",
    "%matplotlib inline\n",
    "import seaborn as sns\n",
    "sns.set_theme()\n",
    "\n",
    "from utils import calculate_nutripoints\n",
    "\n",
    "# Load the statistical libraries"
   ]
  },
  {
   "cell_type": "code",
   "execution_count": 2,
   "metadata": {
    "scrolled": true
   },
   "outputs": [
    {
     "data": {
      "text/html": [
       "<div>\n",
       "<style scoped>\n",
       "    .dataframe tbody tr th:only-of-type {\n",
       "        vertical-align: middle;\n",
       "    }\n",
       "\n",
       "    .dataframe tbody tr th {\n",
       "        vertical-align: top;\n",
       "    }\n",
       "\n",
       "    .dataframe thead th {\n",
       "        text-align: right;\n",
       "    }\n",
       "</style>\n",
       "<table border=\"1\" class=\"dataframe\">\n",
       "  <thead>\n",
       "    <tr style=\"text-align: right;\">\n",
       "      <th></th>\n",
       "      <th>area_id</th>\n",
       "      <th>weight</th>\n",
       "      <th>weight_perc2.5</th>\n",
       "      <th>weight_perc25</th>\n",
       "      <th>weight_perc50</th>\n",
       "      <th>weight_perc75</th>\n",
       "      <th>weight_perc97.5</th>\n",
       "      <th>weight_std</th>\n",
       "      <th>weight_ci95</th>\n",
       "      <th>volume</th>\n",
       "      <th>...</th>\n",
       "      <th>man_day</th>\n",
       "      <th>population</th>\n",
       "      <th>male</th>\n",
       "      <th>female</th>\n",
       "      <th>age_0_17</th>\n",
       "      <th>age_18_64</th>\n",
       "      <th>age_65+</th>\n",
       "      <th>avg_age</th>\n",
       "      <th>area_sq_km</th>\n",
       "      <th>people_per_sq_km</th>\n",
       "    </tr>\n",
       "  </thead>\n",
       "  <tbody>\n",
       "    <tr>\n",
       "      <th>0</th>\n",
       "      <td>E05000026</td>\n",
       "      <td>449.535137</td>\n",
       "      <td>32.5</td>\n",
       "      <td>166.4</td>\n",
       "      <td>300.0</td>\n",
       "      <td>500.0</td>\n",
       "      <td>1500.0</td>\n",
       "      <td>771.349423</td>\n",
       "      <td>3.716832</td>\n",
       "      <td>125.960833</td>\n",
       "      <td>...</td>\n",
       "      <td>37315</td>\n",
       "      <td>14370.0</td>\n",
       "      <td>7469.0</td>\n",
       "      <td>6901.0</td>\n",
       "      <td>4211.0</td>\n",
       "      <td>9421.0</td>\n",
       "      <td>738.0</td>\n",
       "      <td>29.572999</td>\n",
       "      <td>1.26</td>\n",
       "      <td>11404.761905</td>\n",
       "    </tr>\n",
       "    <tr>\n",
       "      <th>1</th>\n",
       "      <td>E05000027</td>\n",
       "      <td>413.130263</td>\n",
       "      <td>32.5</td>\n",
       "      <td>150.0</td>\n",
       "      <td>300.0</td>\n",
       "      <td>500.0</td>\n",
       "      <td>1500.0</td>\n",
       "      <td>626.395178</td>\n",
       "      <td>5.164174</td>\n",
       "      <td>110.664114</td>\n",
       "      <td>...</td>\n",
       "      <td>14474</td>\n",
       "      <td>10845.0</td>\n",
       "      <td>5228.0</td>\n",
       "      <td>5617.0</td>\n",
       "      <td>3205.0</td>\n",
       "      <td>6608.0</td>\n",
       "      <td>1032.0</td>\n",
       "      <td>33.568004</td>\n",
       "      <td>1.36</td>\n",
       "      <td>7974.264706</td>\n",
       "    </tr>\n",
       "    <tr>\n",
       "      <th>2</th>\n",
       "      <td>E05000028</td>\n",
       "      <td>407.100472</td>\n",
       "      <td>32.5</td>\n",
       "      <td>160.0</td>\n",
       "      <td>300.0</td>\n",
       "      <td>500.0</td>\n",
       "      <td>1200.0</td>\n",
       "      <td>545.890959</td>\n",
       "      <td>2.710677</td>\n",
       "      <td>121.990710</td>\n",
       "      <td>...</td>\n",
       "      <td>32138</td>\n",
       "      <td>13856.0</td>\n",
       "      <td>6750.0</td>\n",
       "      <td>7106.0</td>\n",
       "      <td>4180.0</td>\n",
       "      <td>8537.0</td>\n",
       "      <td>1139.0</td>\n",
       "      <td>32.032693</td>\n",
       "      <td>1.29</td>\n",
       "      <td>10741.085271</td>\n",
       "    </tr>\n",
       "    <tr>\n",
       "      <th>3</th>\n",
       "      <td>E05000029</td>\n",
       "      <td>384.173858</td>\n",
       "      <td>30.0</td>\n",
       "      <td>150.0</td>\n",
       "      <td>250.0</td>\n",
       "      <td>454.0</td>\n",
       "      <td>1500.0</td>\n",
       "      <td>591.837557</td>\n",
       "      <td>4.968373</td>\n",
       "      <td>122.245578</td>\n",
       "      <td>...</td>\n",
       "      <td>16223</td>\n",
       "      <td>10850.0</td>\n",
       "      <td>5300.0</td>\n",
       "      <td>5550.0</td>\n",
       "      <td>3023.0</td>\n",
       "      <td>6251.0</td>\n",
       "      <td>1576.0</td>\n",
       "      <td>36.004793</td>\n",
       "      <td>3.38</td>\n",
       "      <td>3210.059172</td>\n",
       "    </tr>\n",
       "    <tr>\n",
       "      <th>4</th>\n",
       "      <td>E05000030</td>\n",
       "      <td>356.882607</td>\n",
       "      <td>30.0</td>\n",
       "      <td>140.0</td>\n",
       "      <td>250.0</td>\n",
       "      <td>450.0</td>\n",
       "      <td>1000.0</td>\n",
       "      <td>465.284180</td>\n",
       "      <td>3.880963</td>\n",
       "      <td>109.959688</td>\n",
       "      <td>...</td>\n",
       "      <td>17522</td>\n",
       "      <td>11348.0</td>\n",
       "      <td>5515.0</td>\n",
       "      <td>5833.0</td>\n",
       "      <td>2747.0</td>\n",
       "      <td>6961.0</td>\n",
       "      <td>1640.0</td>\n",
       "      <td>37.247444</td>\n",
       "      <td>3.45</td>\n",
       "      <td>3289.275362</td>\n",
       "    </tr>\n",
       "  </tbody>\n",
       "</table>\n",
       "<p>5 rows × 202 columns</p>\n",
       "</div>"
      ],
      "text/plain": [
       "     area_id      weight  weight_perc2.5  weight_perc25  weight_perc50  \\\n",
       "0  E05000026  449.535137            32.5          166.4          300.0   \n",
       "1  E05000027  413.130263            32.5          150.0          300.0   \n",
       "2  E05000028  407.100472            32.5          160.0          300.0   \n",
       "3  E05000029  384.173858            30.0          150.0          250.0   \n",
       "4  E05000030  356.882607            30.0          140.0          250.0   \n",
       "\n",
       "   weight_perc75  weight_perc97.5  weight_std  weight_ci95      volume  ...  \\\n",
       "0          500.0           1500.0  771.349423     3.716832  125.960833  ...   \n",
       "1          500.0           1500.0  626.395178     5.164174  110.664114  ...   \n",
       "2          500.0           1200.0  545.890959     2.710677  121.990710  ...   \n",
       "3          454.0           1500.0  591.837557     4.968373  122.245578  ...   \n",
       "4          450.0           1000.0  465.284180     3.880963  109.959688  ...   \n",
       "\n",
       "   man_day  population    male  female  age_0_17  age_18_64  age_65+  \\\n",
       "0    37315     14370.0  7469.0  6901.0    4211.0     9421.0    738.0   \n",
       "1    14474     10845.0  5228.0  5617.0    3205.0     6608.0   1032.0   \n",
       "2    32138     13856.0  6750.0  7106.0    4180.0     8537.0   1139.0   \n",
       "3    16223     10850.0  5300.0  5550.0    3023.0     6251.0   1576.0   \n",
       "4    17522     11348.0  5515.0  5833.0    2747.0     6961.0   1640.0   \n",
       "\n",
       "     avg_age  area_sq_km  people_per_sq_km  \n",
       "0  29.572999        1.26      11404.761905  \n",
       "1  33.568004        1.36       7974.264706  \n",
       "2  32.032693        1.29      10741.085271  \n",
       "3  36.004793        3.38       3210.059172  \n",
       "4  37.247444        3.45       3289.275362  \n",
       "\n",
       "[5 rows x 202 columns]"
      ]
     },
     "metadata": {},
     "output_type": "display_data"
    },
    {
     "name": "stdout",
     "output_type": "stream",
     "text": [
      "(638, 202)\n"
     ]
    },
    {
     "data": {
      "text/html": [
       "<div>\n",
       "<style scoped>\n",
       "    .dataframe tbody tr th:only-of-type {\n",
       "        vertical-align: middle;\n",
       "    }\n",
       "\n",
       "    .dataframe tbody tr th {\n",
       "        vertical-align: top;\n",
       "    }\n",
       "\n",
       "    .dataframe thead th {\n",
       "        text-align: right;\n",
       "    }\n",
       "</style>\n",
       "<table border=\"1\" class=\"dataframe\">\n",
       "  <thead>\n",
       "    <tr style=\"text-align: right;\">\n",
       "      <th></th>\n",
       "      <th>2015 Ward code</th>\n",
       "      <th>Count of outlets</th>\n",
       "    </tr>\n",
       "  </thead>\n",
       "  <tbody>\n",
       "    <tr>\n",
       "      <th>0</th>\n",
       "      <td>E05001767</td>\n",
       "      <td>10</td>\n",
       "    </tr>\n",
       "    <tr>\n",
       "      <th>1</th>\n",
       "      <td>E05001768</td>\n",
       "      <td>10</td>\n",
       "    </tr>\n",
       "    <tr>\n",
       "      <th>2</th>\n",
       "      <td>E05001769</td>\n",
       "      <td>22</td>\n",
       "    </tr>\n",
       "    <tr>\n",
       "      <th>3</th>\n",
       "      <td>E05001770</td>\n",
       "      <td>81</td>\n",
       "    </tr>\n",
       "    <tr>\n",
       "      <th>4</th>\n",
       "      <td>E05001771</td>\n",
       "      <td>5</td>\n",
       "    </tr>\n",
       "  </tbody>\n",
       "</table>\n",
       "</div>"
      ],
      "text/plain": [
       "  2015 Ward code  Count of outlets\n",
       "0      E05001767                10\n",
       "1      E05001768                10\n",
       "2      E05001769                22\n",
       "3      E05001770                81\n",
       "4      E05001771                 5"
      ]
     },
     "metadata": {},
     "output_type": "display_data"
    },
    {
     "name": "stdout",
     "output_type": "stream",
     "text": [
      "(5832, 2)\n"
     ]
    }
   ],
   "source": [
    "# Data Imports\n",
    "\n",
    "year_grocery = pd.read_csv(\"data/year_osward_grocery.csv\")\n",
    "display(year_grocery.head())\n",
    "print(year_grocery.shape)\n",
    "\n",
    "fast_food = pd.read_excel(\n",
    "    \"data/Fast_food.xlsx\", sheet_name=\"Ward Data\", header=[3], usecols=\"E,G\")\n",
    "display(fast_food.head())\n",
    "print(fast_food.shape)"
   ]
  },
  {
   "cell_type": "code",
   "execution_count": 3,
   "metadata": {},
   "outputs": [],
   "source": [
    "# year_grocery=year_grocery.sort_values(by='representativeness_norm', ascending=False, ignore_index=True)\n",
    "year_grocery = year_grocery.nlargest(\n",
    "    int(0.8*len(year_grocery)), 'representativeness_norm')"
   ]
  },
  {
   "cell_type": "code",
   "execution_count": 4,
   "metadata": {},
   "outputs": [
    {
     "data": {
      "text/plain": [
       "count    510.000000\n",
       "mean       9.237255\n",
       "std        1.469929\n",
       "min        0.500000\n",
       "25%        8.500000\n",
       "50%        9.000000\n",
       "75%       10.000000\n",
       "max       14.500000\n",
       "Name: nutripoints, dtype: float64"
      ]
     },
     "execution_count": 4,
     "metadata": {},
     "output_type": "execute_result"
    }
   ],
   "source": [
    "#nutripoints=['nutri_energy','nutri_sugar', 'nutri_saturate', 'nutri_sodium', 'nutri_fibre', 'nutri_protein', 'nutri_fruit_veg']\n",
    "year_grocery[\"nutripoints\"]=year_grocery.apply(calculate_nutripoints, axis=1)\n",
    "year_grocery[\"nutripoints\"].describe()"
   ]
  },
  {
   "cell_type": "code",
   "execution_count": 5,
   "metadata": {
    "scrolled": true
   },
   "outputs": [
    {
     "name": "stdout",
     "output_type": "stream",
     "text": [
      "area_id             False\n",
      "weight              False\n",
      "weight_perc2.5      False\n",
      "weight_perc25       False\n",
      "weight_perc50       False\n",
      "                    ...  \n",
      "age_65+             False\n",
      "avg_age             False\n",
      "area_sq_km          False\n",
      "people_per_sq_km    False\n",
      "nutripoints         False\n",
      "Length: 203, dtype: bool\n"
     ]
    },
    {
     "data": {
      "text/html": [
       "<div>\n",
       "<style scoped>\n",
       "    .dataframe tbody tr th:only-of-type {\n",
       "        vertical-align: middle;\n",
       "    }\n",
       "\n",
       "    .dataframe tbody tr th {\n",
       "        vertical-align: top;\n",
       "    }\n",
       "\n",
       "    .dataframe thead th {\n",
       "        text-align: right;\n",
       "    }\n",
       "</style>\n",
       "<table border=\"1\" class=\"dataframe\">\n",
       "  <thead>\n",
       "    <tr style=\"text-align: right;\">\n",
       "      <th></th>\n",
       "      <th>area_id</th>\n",
       "      <th>weight</th>\n",
       "      <th>weight_perc2.5</th>\n",
       "      <th>weight_perc25</th>\n",
       "      <th>weight_perc50</th>\n",
       "      <th>weight_perc75</th>\n",
       "      <th>weight_perc97.5</th>\n",
       "      <th>weight_std</th>\n",
       "      <th>weight_ci95</th>\n",
       "      <th>volume</th>\n",
       "      <th>...</th>\n",
       "      <th>population</th>\n",
       "      <th>male</th>\n",
       "      <th>female</th>\n",
       "      <th>age_0_17</th>\n",
       "      <th>age_18_64</th>\n",
       "      <th>age_65+</th>\n",
       "      <th>avg_age</th>\n",
       "      <th>area_sq_km</th>\n",
       "      <th>people_per_sq_km</th>\n",
       "      <th>nutripoints</th>\n",
       "    </tr>\n",
       "  </thead>\n",
       "  <tbody>\n",
       "    <tr>\n",
       "      <th>570</th>\n",
       "      <td>E05011117</td>\n",
       "      <td>382.039628</td>\n",
       "      <td>40.0</td>\n",
       "      <td>175.0</td>\n",
       "      <td>300.0</td>\n",
       "      <td>500.0</td>\n",
       "      <td>1000.0</td>\n",
       "      <td>363.202381</td>\n",
       "      <td>0.465398</td>\n",
       "      <td>105.990925</td>\n",
       "      <td>...</td>\n",
       "      <td>11911.0</td>\n",
       "      <td>6099.0</td>\n",
       "      <td>5812.0</td>\n",
       "      <td>1558.0</td>\n",
       "      <td>9552.0</td>\n",
       "      <td>801.0</td>\n",
       "      <td>34.867937</td>\n",
       "      <td>1.35</td>\n",
       "      <td>8822.962963</td>\n",
       "      <td>8.5</td>\n",
       "    </tr>\n",
       "    <tr>\n",
       "      <th>565</th>\n",
       "      <td>E05011112</td>\n",
       "      <td>398.825948</td>\n",
       "      <td>40.0</td>\n",
       "      <td>180.0</td>\n",
       "      <td>320.0</td>\n",
       "      <td>500.0</td>\n",
       "      <td>1000.0</td>\n",
       "      <td>397.149657</td>\n",
       "      <td>0.492467</td>\n",
       "      <td>107.602664</td>\n",
       "      <td>...</td>\n",
       "      <td>16365.0</td>\n",
       "      <td>8103.0</td>\n",
       "      <td>8262.0</td>\n",
       "      <td>2997.0</td>\n",
       "      <td>12218.0</td>\n",
       "      <td>1150.0</td>\n",
       "      <td>33.235625</td>\n",
       "      <td>1.30</td>\n",
       "      <td>12588.461538</td>\n",
       "      <td>8.0</td>\n",
       "    </tr>\n",
       "    <tr>\n",
       "      <th>246</th>\n",
       "      <td>E05000336</td>\n",
       "      <td>397.066289</td>\n",
       "      <td>40.0</td>\n",
       "      <td>180.0</td>\n",
       "      <td>300.0</td>\n",
       "      <td>500.0</td>\n",
       "      <td>1000.0</td>\n",
       "      <td>414.783419</td>\n",
       "      <td>0.608474</td>\n",
       "      <td>122.609742</td>\n",
       "      <td>...</td>\n",
       "      <td>11959.0</td>\n",
       "      <td>5764.0</td>\n",
       "      <td>6195.0</td>\n",
       "      <td>2625.0</td>\n",
       "      <td>7194.0</td>\n",
       "      <td>2140.0</td>\n",
       "      <td>40.250941</td>\n",
       "      <td>3.32</td>\n",
       "      <td>3602.108434</td>\n",
       "      <td>10.0</td>\n",
       "    </tr>\n",
       "    <tr>\n",
       "      <th>438</th>\n",
       "      <td>E05000605</td>\n",
       "      <td>416.199096</td>\n",
       "      <td>40.5</td>\n",
       "      <td>182.0</td>\n",
       "      <td>325.0</td>\n",
       "      <td>500.0</td>\n",
       "      <td>1200.0</td>\n",
       "      <td>506.239533</td>\n",
       "      <td>0.700727</td>\n",
       "      <td>107.997869</td>\n",
       "      <td>...</td>\n",
       "      <td>13599.0</td>\n",
       "      <td>7196.0</td>\n",
       "      <td>6403.0</td>\n",
       "      <td>2630.0</td>\n",
       "      <td>9919.0</td>\n",
       "      <td>1050.0</td>\n",
       "      <td>34.684389</td>\n",
       "      <td>1.31</td>\n",
       "      <td>10380.916031</td>\n",
       "      <td>9.0</td>\n",
       "    </tr>\n",
       "    <tr>\n",
       "      <th>162</th>\n",
       "      <td>E05000252</td>\n",
       "      <td>374.792470</td>\n",
       "      <td>40.0</td>\n",
       "      <td>173.7</td>\n",
       "      <td>300.0</td>\n",
       "      <td>500.0</td>\n",
       "      <td>1000.0</td>\n",
       "      <td>354.119901</td>\n",
       "      <td>0.563867</td>\n",
       "      <td>99.371843</td>\n",
       "      <td>...</td>\n",
       "      <td>12013.0</td>\n",
       "      <td>5828.0</td>\n",
       "      <td>6185.0</td>\n",
       "      <td>1709.0</td>\n",
       "      <td>8813.0</td>\n",
       "      <td>1491.0</td>\n",
       "      <td>37.502289</td>\n",
       "      <td>0.89</td>\n",
       "      <td>13497.752809</td>\n",
       "      <td>8.5</td>\n",
       "    </tr>\n",
       "  </tbody>\n",
       "</table>\n",
       "<p>5 rows × 203 columns</p>\n",
       "</div>"
      ],
      "text/plain": [
       "       area_id      weight  weight_perc2.5  weight_perc25  weight_perc50  \\\n",
       "570  E05011117  382.039628            40.0          175.0          300.0   \n",
       "565  E05011112  398.825948            40.0          180.0          320.0   \n",
       "246  E05000336  397.066289            40.0          180.0          300.0   \n",
       "438  E05000605  416.199096            40.5          182.0          325.0   \n",
       "162  E05000252  374.792470            40.0          173.7          300.0   \n",
       "\n",
       "     weight_perc75  weight_perc97.5  weight_std  weight_ci95      volume  ...  \\\n",
       "570          500.0           1000.0  363.202381     0.465398  105.990925  ...   \n",
       "565          500.0           1000.0  397.149657     0.492467  107.602664  ...   \n",
       "246          500.0           1000.0  414.783419     0.608474  122.609742  ...   \n",
       "438          500.0           1200.0  506.239533     0.700727  107.997869  ...   \n",
       "162          500.0           1000.0  354.119901     0.563867   99.371843  ...   \n",
       "\n",
       "     population    male  female  age_0_17  age_18_64  age_65+    avg_age  \\\n",
       "570     11911.0  6099.0  5812.0    1558.0     9552.0    801.0  34.867937   \n",
       "565     16365.0  8103.0  8262.0    2997.0    12218.0   1150.0  33.235625   \n",
       "246     11959.0  5764.0  6195.0    2625.0     7194.0   2140.0  40.250941   \n",
       "438     13599.0  7196.0  6403.0    2630.0     9919.0   1050.0  34.684389   \n",
       "162     12013.0  5828.0  6185.0    1709.0     8813.0   1491.0  37.502289   \n",
       "\n",
       "     area_sq_km  people_per_sq_km  nutripoints  \n",
       "570        1.35       8822.962963          8.5  \n",
       "565        1.30      12588.461538          8.0  \n",
       "246        3.32       3602.108434         10.0  \n",
       "438        1.31      10380.916031          9.0  \n",
       "162        0.89      13497.752809          8.5  \n",
       "\n",
       "[5 rows x 203 columns]"
      ]
     },
     "metadata": {},
     "output_type": "display_data"
    },
    {
     "name": "stdout",
     "output_type": "stream",
     "text": [
      "(510, 203)\n"
     ]
    }
   ],
   "source": [
    "print(year_grocery.isna().any())\n",
    "display(year_grocery.head())\n",
    "print(year_grocery.shape)"
   ]
  },
  {
   "cell_type": "code",
   "execution_count": 6,
   "metadata": {
    "scrolled": true
   },
   "outputs": [
    {
     "data": {
      "text/html": [
       "<div>\n",
       "<style scoped>\n",
       "    .dataframe tbody tr th:only-of-type {\n",
       "        vertical-align: middle;\n",
       "    }\n",
       "\n",
       "    .dataframe tbody tr th {\n",
       "        vertical-align: top;\n",
       "    }\n",
       "\n",
       "    .dataframe thead th {\n",
       "        text-align: right;\n",
       "    }\n",
       "</style>\n",
       "<table border=\"1\" class=\"dataframe\">\n",
       "  <thead>\n",
       "    <tr style=\"text-align: right;\">\n",
       "      <th></th>\n",
       "      <th>area_id</th>\n",
       "      <th>energy_fat</th>\n",
       "      <th>energy_saturate</th>\n",
       "      <th>energy_sugar</th>\n",
       "      <th>energy_protein</th>\n",
       "      <th>energy_carb</th>\n",
       "      <th>energy_fibre</th>\n",
       "      <th>energy_alcohol</th>\n",
       "      <th>energy_tot</th>\n",
       "      <th>h_nutrients_calories</th>\n",
       "      <th>nutripoints</th>\n",
       "    </tr>\n",
       "  </thead>\n",
       "  <tbody>\n",
       "    <tr>\n",
       "      <th>570</th>\n",
       "      <td>E05011117</td>\n",
       "      <td>78.438016</td>\n",
       "      <td>30.789383</td>\n",
       "      <td>34.635855</td>\n",
       "      <td>22.770981</td>\n",
       "      <td>65.237562</td>\n",
       "      <td>3.026622</td>\n",
       "      <td>1.892084</td>\n",
       "      <td>171.365266</td>\n",
       "      <td>1.608028</td>\n",
       "      <td>8.5</td>\n",
       "    </tr>\n",
       "    <tr>\n",
       "      <th>565</th>\n",
       "      <td>E05011112</td>\n",
       "      <td>78.516170</td>\n",
       "      <td>30.681996</td>\n",
       "      <td>36.415653</td>\n",
       "      <td>22.396706</td>\n",
       "      <td>68.789239</td>\n",
       "      <td>2.984949</td>\n",
       "      <td>1.558974</td>\n",
       "      <td>174.246039</td>\n",
       "      <td>1.589399</td>\n",
       "      <td>8.0</td>\n",
       "    </tr>\n",
       "    <tr>\n",
       "      <th>246</th>\n",
       "      <td>E05000336</td>\n",
       "      <td>78.864004</td>\n",
       "      <td>32.414378</td>\n",
       "      <td>38.719523</td>\n",
       "      <td>21.433875</td>\n",
       "      <td>71.160848</td>\n",
       "      <td>2.994211</td>\n",
       "      <td>1.741239</td>\n",
       "      <td>176.194176</td>\n",
       "      <td>1.582813</td>\n",
       "      <td>10.0</td>\n",
       "    </tr>\n",
       "    <tr>\n",
       "      <th>438</th>\n",
       "      <td>E05000605</td>\n",
       "      <td>84.561946</td>\n",
       "      <td>33.918637</td>\n",
       "      <td>36.141050</td>\n",
       "      <td>22.015479</td>\n",
       "      <td>69.832483</td>\n",
       "      <td>3.067818</td>\n",
       "      <td>1.697021</td>\n",
       "      <td>181.174746</td>\n",
       "      <td>1.575484</td>\n",
       "      <td>9.0</td>\n",
       "    </tr>\n",
       "    <tr>\n",
       "      <th>162</th>\n",
       "      <td>E05000252</td>\n",
       "      <td>80.542785</td>\n",
       "      <td>31.635739</td>\n",
       "      <td>33.648475</td>\n",
       "      <td>22.141379</td>\n",
       "      <td>61.322242</td>\n",
       "      <td>3.149138</td>\n",
       "      <td>1.689631</td>\n",
       "      <td>168.845175</td>\n",
       "      <td>1.598050</td>\n",
       "      <td>8.5</td>\n",
       "    </tr>\n",
       "  </tbody>\n",
       "</table>\n",
       "</div>"
      ],
      "text/plain": [
       "       area_id  energy_fat  energy_saturate  energy_sugar  energy_protein  \\\n",
       "570  E05011117   78.438016        30.789383     34.635855       22.770981   \n",
       "565  E05011112   78.516170        30.681996     36.415653       22.396706   \n",
       "246  E05000336   78.864004        32.414378     38.719523       21.433875   \n",
       "438  E05000605   84.561946        33.918637     36.141050       22.015479   \n",
       "162  E05000252   80.542785        31.635739     33.648475       22.141379   \n",
       "\n",
       "     energy_carb  energy_fibre  energy_alcohol  energy_tot  \\\n",
       "570    65.237562      3.026622        1.892084  171.365266   \n",
       "565    68.789239      2.984949        1.558974  174.246039   \n",
       "246    71.160848      2.994211        1.741239  176.194176   \n",
       "438    69.832483      3.067818        1.697021  181.174746   \n",
       "162    61.322242      3.149138        1.689631  168.845175   \n",
       "\n",
       "     h_nutrients_calories  nutripoints  \n",
       "570              1.608028          8.5  \n",
       "565              1.589399          8.0  \n",
       "246              1.582813         10.0  \n",
       "438              1.575484          9.0  \n",
       "162              1.598050          8.5  "
      ]
     },
     "metadata": {},
     "output_type": "display_data"
    }
   ],
   "source": [
    "list_column = [\"area_id\", \"energy_tot\", \"energy_fat\", \"energy_saturate\", \"energy_sugar\", \"energy_protein\", \"energy_carb\",\n",
    "               \"energy_fibre\", \"energy_alcohol\", \"h_nutrients_calories\", \"nutripoints\"]\n",
    "year_grocery = year_grocery.loc[:,year_grocery.columns.isin(list(list_column))]\n",
    "display(year_grocery.head())"
   ]
  },
  {
   "cell_type": "code",
   "execution_count": 7,
   "metadata": {
    "scrolled": true
   },
   "outputs": [
    {
     "data": {
      "text/plain": [
       "510"
      ]
     },
     "execution_count": 7,
     "metadata": {},
     "output_type": "execute_result"
    }
   ],
   "source": [
    "len(set(year_grocery[\"area_id\"].values))"
   ]
  },
  {
   "cell_type": "code",
   "execution_count": 8,
   "metadata": {},
   "outputs": [
    {
     "data": {
      "text/plain": [
       "5832"
      ]
     },
     "execution_count": 8,
     "metadata": {},
     "output_type": "execute_result"
    }
   ],
   "source": [
    "len(set(fast_food[\"2015 Ward code\"].values))"
   ]
  },
  {
   "cell_type": "code",
   "execution_count": 9,
   "metadata": {},
   "outputs": [
    {
     "data": {
      "text/plain": [
       "440"
      ]
     },
     "execution_count": 9,
     "metadata": {},
     "output_type": "execute_result"
    }
   ],
   "source": [
    "len(set(fast_food[\"2015 Ward code\"].values)\n",
    "    & set(year_grocery[\"area_id\"].values))"
   ]
  },
  {
   "cell_type": "code",
   "execution_count": 10,
   "metadata": {},
   "outputs": [
    {
     "data": {
      "text/html": [
       "<div>\n",
       "<style scoped>\n",
       "    .dataframe tbody tr th:only-of-type {\n",
       "        vertical-align: middle;\n",
       "    }\n",
       "\n",
       "    .dataframe tbody tr th {\n",
       "        vertical-align: top;\n",
       "    }\n",
       "\n",
       "    .dataframe thead th {\n",
       "        text-align: right;\n",
       "    }\n",
       "</style>\n",
       "<table border=\"1\" class=\"dataframe\">\n",
       "  <thead>\n",
       "    <tr style=\"text-align: right;\">\n",
       "      <th></th>\n",
       "      <th>area_id</th>\n",
       "      <th>energy_fat</th>\n",
       "      <th>energy_saturate</th>\n",
       "      <th>energy_sugar</th>\n",
       "      <th>energy_protein</th>\n",
       "      <th>energy_carb</th>\n",
       "      <th>energy_fibre</th>\n",
       "      <th>energy_alcohol</th>\n",
       "      <th>energy_tot</th>\n",
       "      <th>h_nutrients_calories</th>\n",
       "      <th>nutripoints</th>\n",
       "      <th>Count of outlets</th>\n",
       "    </tr>\n",
       "  </thead>\n",
       "  <tbody>\n",
       "    <tr>\n",
       "      <th>0</th>\n",
       "      <td>E05000336</td>\n",
       "      <td>78.864004</td>\n",
       "      <td>32.414378</td>\n",
       "      <td>38.719523</td>\n",
       "      <td>21.433875</td>\n",
       "      <td>71.160848</td>\n",
       "      <td>2.994211</td>\n",
       "      <td>1.741239</td>\n",
       "      <td>176.194176</td>\n",
       "      <td>1.582813</td>\n",
       "      <td>10.0</td>\n",
       "      <td>15</td>\n",
       "    </tr>\n",
       "    <tr>\n",
       "      <th>1</th>\n",
       "      <td>E05000605</td>\n",
       "      <td>84.561946</td>\n",
       "      <td>33.918637</td>\n",
       "      <td>36.141050</td>\n",
       "      <td>22.015479</td>\n",
       "      <td>69.832483</td>\n",
       "      <td>3.067818</td>\n",
       "      <td>1.697021</td>\n",
       "      <td>181.174746</td>\n",
       "      <td>1.575484</td>\n",
       "      <td>9.0</td>\n",
       "      <td>13</td>\n",
       "    </tr>\n",
       "    <tr>\n",
       "      <th>2</th>\n",
       "      <td>E05000252</td>\n",
       "      <td>80.542785</td>\n",
       "      <td>31.635739</td>\n",
       "      <td>33.648475</td>\n",
       "      <td>22.141379</td>\n",
       "      <td>61.322242</td>\n",
       "      <td>3.149138</td>\n",
       "      <td>1.689631</td>\n",
       "      <td>168.845175</td>\n",
       "      <td>1.598050</td>\n",
       "      <td>8.5</td>\n",
       "      <td>8</td>\n",
       "    </tr>\n",
       "    <tr>\n",
       "      <th>3</th>\n",
       "      <td>E05000427</td>\n",
       "      <td>77.568453</td>\n",
       "      <td>30.521094</td>\n",
       "      <td>35.742617</td>\n",
       "      <td>22.364672</td>\n",
       "      <td>66.992603</td>\n",
       "      <td>2.985766</td>\n",
       "      <td>1.760651</td>\n",
       "      <td>171.672145</td>\n",
       "      <td>1.600125</td>\n",
       "      <td>9.0</td>\n",
       "      <td>14</td>\n",
       "    </tr>\n",
       "    <tr>\n",
       "      <th>4</th>\n",
       "      <td>E05000595</td>\n",
       "      <td>82.975277</td>\n",
       "      <td>33.302798</td>\n",
       "      <td>37.707033</td>\n",
       "      <td>21.336347</td>\n",
       "      <td>71.447922</td>\n",
       "      <td>2.947414</td>\n",
       "      <td>1.372449</td>\n",
       "      <td>180.079409</td>\n",
       "      <td>1.559561</td>\n",
       "      <td>9.0</td>\n",
       "      <td>25</td>\n",
       "    </tr>\n",
       "  </tbody>\n",
       "</table>\n",
       "</div>"
      ],
      "text/plain": [
       "     area_id  energy_fat  energy_saturate  energy_sugar  energy_protein  \\\n",
       "0  E05000336   78.864004        32.414378     38.719523       21.433875   \n",
       "1  E05000605   84.561946        33.918637     36.141050       22.015479   \n",
       "2  E05000252   80.542785        31.635739     33.648475       22.141379   \n",
       "3  E05000427   77.568453        30.521094     35.742617       22.364672   \n",
       "4  E05000595   82.975277        33.302798     37.707033       21.336347   \n",
       "\n",
       "   energy_carb  energy_fibre  energy_alcohol  energy_tot  \\\n",
       "0    71.160848      2.994211        1.741239  176.194176   \n",
       "1    69.832483      3.067818        1.697021  181.174746   \n",
       "2    61.322242      3.149138        1.689631  168.845175   \n",
       "3    66.992603      2.985766        1.760651  171.672145   \n",
       "4    71.447922      2.947414        1.372449  180.079409   \n",
       "\n",
       "   h_nutrients_calories  nutripoints  Count of outlets  \n",
       "0              1.582813         10.0                15  \n",
       "1              1.575484          9.0                13  \n",
       "2              1.598050          8.5                 8  \n",
       "3              1.600125          9.0                14  \n",
       "4              1.559561          9.0                25  "
      ]
     },
     "metadata": {},
     "output_type": "display_data"
    },
    {
     "name": "stdout",
     "output_type": "stream",
     "text": [
      "(440, 12)\n"
     ]
    }
   ],
   "source": [
    "fastfood_grocery = pd.merge(\n",
    "    left=year_grocery, right=fast_food, left_on='area_id', right_on=\"2015 Ward code\")\n",
    "fastfood_grocery = fastfood_grocery.drop(\"2015 Ward code\", axis=1)\n",
    "display(fastfood_grocery.head())\n",
    "print(fastfood_grocery.shape)"
   ]
  },
  {
   "cell_type": "code",
   "execution_count": 13,
   "metadata": {},
   "outputs": [
    {
     "data": {
      "text/plain": [
       "['area_id',\n",
       " 'energy_fat',\n",
       " 'energy_saturate',\n",
       " 'energy_sugar',\n",
       " 'energy_protein',\n",
       " 'energy_carb',\n",
       " 'energy_fibre',\n",
       " 'energy_alcohol',\n",
       " 'energy_tot',\n",
       " 'h_nutrients_calories',\n",
       " 'nutripoints',\n",
       " 'Count of outlets']"
      ]
     },
     "execution_count": 13,
     "metadata": {},
     "output_type": "execute_result"
    }
   ],
   "source": [
    "# Comprehension of the data\n",
    "fastfood_grocery_columns = fastfood_grocery.columns.values.tolist()\n",
    "fastfood_grocery_columns"
   ]
  },
  {
   "cell_type": "code",
   "execution_count": 14,
   "metadata": {
    "scrolled": true
   },
   "outputs": [
    {
     "data": {
      "text/plain": [
       "area_id                 False\n",
       "energy_fat              False\n",
       "energy_saturate         False\n",
       "energy_sugar            False\n",
       "energy_protein          False\n",
       "energy_carb             False\n",
       "energy_fibre            False\n",
       "energy_alcohol          False\n",
       "energy_tot              False\n",
       "h_nutrients_calories    False\n",
       "nutripoints             False\n",
       "Count of outlets        False\n",
       "dtype: bool"
      ]
     },
     "execution_count": 14,
     "metadata": {},
     "output_type": "execute_result"
    }
   ],
   "source": [
    "fastfood_grocery.isnull().any()"
   ]
  },
  {
   "cell_type": "code",
   "execution_count": 15,
   "metadata": {},
   "outputs": [
    {
     "data": {
      "text/html": [
       "<div>\n",
       "<style scoped>\n",
       "    .dataframe tbody tr th:only-of-type {\n",
       "        vertical-align: middle;\n",
       "    }\n",
       "\n",
       "    .dataframe tbody tr th {\n",
       "        vertical-align: top;\n",
       "    }\n",
       "\n",
       "    .dataframe thead th {\n",
       "        text-align: right;\n",
       "    }\n",
       "</style>\n",
       "<table border=\"1\" class=\"dataframe\">\n",
       "  <thead>\n",
       "    <tr style=\"text-align: right;\">\n",
       "      <th></th>\n",
       "      <th>energy_fat</th>\n",
       "      <th>energy_saturate</th>\n",
       "      <th>energy_sugar</th>\n",
       "      <th>energy_protein</th>\n",
       "      <th>energy_carb</th>\n",
       "      <th>energy_fibre</th>\n",
       "      <th>energy_alcohol</th>\n",
       "      <th>energy_tot</th>\n",
       "      <th>h_nutrients_calories</th>\n",
       "      <th>nutripoints</th>\n",
       "      <th>Count of outlets</th>\n",
       "    </tr>\n",
       "  </thead>\n",
       "  <tbody>\n",
       "    <tr>\n",
       "      <th>count</th>\n",
       "      <td>440.000000</td>\n",
       "      <td>440.000000</td>\n",
       "      <td>440.000000</td>\n",
       "      <td>440.000000</td>\n",
       "      <td>440.000000</td>\n",
       "      <td>440.000000</td>\n",
       "      <td>440.000000</td>\n",
       "      <td>440.000000</td>\n",
       "      <td>440.000000</td>\n",
       "      <td>440.000000</td>\n",
       "      <td>440.000000</td>\n",
       "    </tr>\n",
       "    <tr>\n",
       "      <th>mean</th>\n",
       "      <td>80.653871</td>\n",
       "      <td>31.811113</td>\n",
       "      <td>40.031539</td>\n",
       "      <td>21.093016</td>\n",
       "      <td>71.787149</td>\n",
       "      <td>3.027993</td>\n",
       "      <td>1.679636</td>\n",
       "      <td>178.241665</td>\n",
       "      <td>1.573155</td>\n",
       "      <td>9.256818</td>\n",
       "      <td>14.397727</td>\n",
       "    </tr>\n",
       "    <tr>\n",
       "      <th>std</th>\n",
       "      <td>2.909051</td>\n",
       "      <td>1.388606</td>\n",
       "      <td>3.306468</td>\n",
       "      <td>0.855441</td>\n",
       "      <td>5.520788</td>\n",
       "      <td>0.117759</td>\n",
       "      <td>0.364883</td>\n",
       "      <td>7.281531</td>\n",
       "      <td>0.025258</td>\n",
       "      <td>1.365437</td>\n",
       "      <td>13.933081</td>\n",
       "    </tr>\n",
       "    <tr>\n",
       "      <th>min</th>\n",
       "      <td>67.111854</td>\n",
       "      <td>26.173163</td>\n",
       "      <td>30.149908</td>\n",
       "      <td>17.596480</td>\n",
       "      <td>52.921834</td>\n",
       "      <td>2.750710</td>\n",
       "      <td>0.715793</td>\n",
       "      <td>147.541243</td>\n",
       "      <td>1.465237</td>\n",
       "      <td>5.000000</td>\n",
       "      <td>1.000000</td>\n",
       "    </tr>\n",
       "    <tr>\n",
       "      <th>25%</th>\n",
       "      <td>78.989452</td>\n",
       "      <td>30.955484</td>\n",
       "      <td>37.927397</td>\n",
       "      <td>20.696160</td>\n",
       "      <td>68.159543</td>\n",
       "      <td>2.947692</td>\n",
       "      <td>1.433929</td>\n",
       "      <td>173.856481</td>\n",
       "      <td>1.556885</td>\n",
       "      <td>8.500000</td>\n",
       "      <td>7.000000</td>\n",
       "    </tr>\n",
       "    <tr>\n",
       "      <th>50%</th>\n",
       "      <td>80.448641</td>\n",
       "      <td>31.660923</td>\n",
       "      <td>39.643719</td>\n",
       "      <td>21.229909</td>\n",
       "      <td>71.872886</td>\n",
       "      <td>3.022663</td>\n",
       "      <td>1.660522</td>\n",
       "      <td>178.583441</td>\n",
       "      <td>1.573913</td>\n",
       "      <td>9.000000</td>\n",
       "      <td>11.000000</td>\n",
       "    </tr>\n",
       "    <tr>\n",
       "      <th>75%</th>\n",
       "      <td>82.164445</td>\n",
       "      <td>32.544245</td>\n",
       "      <td>42.018439</td>\n",
       "      <td>21.675982</td>\n",
       "      <td>75.687417</td>\n",
       "      <td>3.093645</td>\n",
       "      <td>1.873801</td>\n",
       "      <td>182.536718</td>\n",
       "      <td>1.590158</td>\n",
       "      <td>10.000000</td>\n",
       "      <td>18.000000</td>\n",
       "    </tr>\n",
       "    <tr>\n",
       "      <th>max</th>\n",
       "      <td>92.440804</td>\n",
       "      <td>38.690892</td>\n",
       "      <td>48.719140</td>\n",
       "      <td>23.005837</td>\n",
       "      <td>84.618879</td>\n",
       "      <td>3.617668</td>\n",
       "      <td>3.490972</td>\n",
       "      <td>197.674474</td>\n",
       "      <td>1.680088</td>\n",
       "      <td>14.500000</td>\n",
       "      <td>147.000000</td>\n",
       "    </tr>\n",
       "  </tbody>\n",
       "</table>\n",
       "</div>"
      ],
      "text/plain": [
       "       energy_fat  energy_saturate  energy_sugar  energy_protein  energy_carb  \\\n",
       "count  440.000000       440.000000    440.000000      440.000000   440.000000   \n",
       "mean    80.653871        31.811113     40.031539       21.093016    71.787149   \n",
       "std      2.909051         1.388606      3.306468        0.855441     5.520788   \n",
       "min     67.111854        26.173163     30.149908       17.596480    52.921834   \n",
       "25%     78.989452        30.955484     37.927397       20.696160    68.159543   \n",
       "50%     80.448641        31.660923     39.643719       21.229909    71.872886   \n",
       "75%     82.164445        32.544245     42.018439       21.675982    75.687417   \n",
       "max     92.440804        38.690892     48.719140       23.005837    84.618879   \n",
       "\n",
       "       energy_fibre  energy_alcohol  energy_tot  h_nutrients_calories  \\\n",
       "count    440.000000      440.000000  440.000000            440.000000   \n",
       "mean       3.027993        1.679636  178.241665              1.573155   \n",
       "std        0.117759        0.364883    7.281531              0.025258   \n",
       "min        2.750710        0.715793  147.541243              1.465237   \n",
       "25%        2.947692        1.433929  173.856481              1.556885   \n",
       "50%        3.022663        1.660522  178.583441              1.573913   \n",
       "75%        3.093645        1.873801  182.536718              1.590158   \n",
       "max        3.617668        3.490972  197.674474              1.680088   \n",
       "\n",
       "       nutripoints  Count of outlets  \n",
       "count   440.000000        440.000000  \n",
       "mean      9.256818         14.397727  \n",
       "std       1.365437         13.933081  \n",
       "min       5.000000          1.000000  \n",
       "25%       8.500000          7.000000  \n",
       "50%       9.000000         11.000000  \n",
       "75%      10.000000         18.000000  \n",
       "max      14.500000        147.000000  "
      ]
     },
     "execution_count": 15,
     "metadata": {},
     "output_type": "execute_result"
    }
   ],
   "source": [
    "fastfood_grocery.describe()"
   ]
  },
  {
   "cell_type": "code",
   "execution_count": 16,
   "metadata": {},
   "outputs": [
    {
     "data": {
      "text/plain": [
       "Text(0.5, 0.98, 'boxplot for each column')"
      ]
     },
     "execution_count": 16,
     "metadata": {},
     "output_type": "execute_result"
    },
    {
     "data": {
      "image/png": "[encoded data removed]",
      "text/plain": [
       "<Figure size 1152x576 with 12 Axes>"
      ]
     },
     "metadata": {},
     "output_type": "display_data"
    }
   ],
   "source": [
    "columns_grocery = [\n",
    "    'energy_fat',\n",
    "    'energy_saturate',\n",
    "    'energy_sugar',\n",
    "    'energy_protein',\n",
    "    'energy_carb',\n",
    "    'energy_fibre',\n",
    "    'energy_alcohol',\n",
    "    'energy_tot',\n",
    "    'h_nutrients_calories', \n",
    "    'nutripoints',\n",
    "    'Count of outlets'\n",
    "]\n",
    "\n",
    "column_boxplot = columns_grocery\n",
    "\n",
    "fastfood_grocery_analysis = fastfood_grocery[column_boxplot].copy()\n",
    "fig, ax = plt.subplots(4, 3, figsize=(16, 8), sharey=False)\n",
    "\n",
    "for i in range(len(column_boxplot)):\n",
    "    sbplt = ax[int(i/3), i % 3]\n",
    "\n",
    "    sns.boxplot(data=fastfood_grocery_analysis.iloc[:, i], ax=sbplt)\n",
    "    sbplt.set_xlabel('')\n",
    "    sbplt.set_ylabel('')\n",
    "    sbplt.set_title(fastfood_grocery_analysis.columns[i], loc='center', wrap=True)\n",
    "\n",
    "fig.tight_layout()\n",
    "fig.subplots_adjust(top=0.9)\n",
    "\n",
    "fig.suptitle('boxplot for each column', fontsize=18)"
   ]
  },
  {
   "cell_type": "markdown",
   "metadata": {},
   "source": [
    "We observe that they are some outliers for the different variables. This is due to the differences between the different ward. "
   ]
  },
  {
   "cell_type": "code",
   "execution_count": 18,
   "metadata": {
    "scrolled": true
   },
   "outputs": [
    {
     "data": {
      "text/plain": [
       "Text(0.5, 0.98, 'histplot for each column')"
      ]
     },
     "execution_count": 18,
     "metadata": {},
     "output_type": "execute_result"
    },
    {
     "data": {
      "image/png": "[encoded data removed]",
      "text/plain": [
       "<Figure size 1152x576 with 12 Axes>"
      ]
     },
     "metadata": {},
     "output_type": "display_data"
    }
   ],
   "source": [
    "fig, ax = plt.subplots(4, 3, figsize=(16, 8), sharey=False)\n",
    "\n",
    "for i in range(len(column_boxplot)):\n",
    "    sbplt = ax[int(i/3), i % 3]\n",
    "\n",
    "    sns.histplot(data=fastfood_grocery_analysis.iloc[:, i], ax=sbplt)\n",
    "    sbplt.set_xlabel('')\n",
    "    sbplt.set_ylabel('')\n",
    "    sbplt.set_title(fastfood_grocery_analysis.columns[i], wrap=True)\n",
    "\n",
    "fig.tight_layout()\n",
    "fig.subplots_adjust(top=0.9)\n",
    "\n",
    "fig.suptitle('histplot for each column', fontsize=18)"
   ]
  },
  {
   "cell_type": "code",
   "execution_count": 37,
   "metadata": {},
   "outputs": [
    {
     "data": {
      "text/plain": [
       "<AxesSubplot:>"
      ]
     },
     "execution_count": 37,
     "metadata": {},
     "output_type": "execute_result"
    },
    {
     "data": {
      "image/png": "[encoded data removed]",
      "text/plain": [
       "<Figure size 720x432 with 2 Axes>"
      ]
     },
     "metadata": {},
     "output_type": "display_data"
    }
   ],
   "source": [
    "# correlations\n",
    "fig = plt.figure(figsize=(10, 6))\n",
    "sns.heatmap(fastfood_grocery_analysis.corr())"
   ]
  },
  {
   "cell_type": "code",
   "execution_count": 19,
   "metadata": {
    "scrolled": true
   },
   "outputs": [
    {
     "data": {
      "text/html": [
       "<div>\n",
       "<style scoped>\n",
       "    .dataframe tbody tr th:only-of-type {\n",
       "        vertical-align: middle;\n",
       "    }\n",
       "\n",
       "    .dataframe tbody tr th {\n",
       "        vertical-align: top;\n",
       "    }\n",
       "\n",
       "    .dataframe thead th {\n",
       "        text-align: right;\n",
       "    }\n",
       "</style>\n",
       "<table border=\"1\" class=\"dataframe\">\n",
       "  <thead>\n",
       "    <tr style=\"text-align: right;\">\n",
       "      <th></th>\n",
       "      <th>energy_fat</th>\n",
       "      <th>energy_saturate</th>\n",
       "      <th>energy_sugar</th>\n",
       "      <th>energy_protein</th>\n",
       "      <th>energy_carb</th>\n",
       "      <th>energy_fibre</th>\n",
       "      <th>energy_alcohol</th>\n",
       "      <th>energy_tot</th>\n",
       "      <th>h_nutrients_calories</th>\n",
       "      <th>nutripoints</th>\n",
       "      <th>Count of outlets</th>\n",
       "    </tr>\n",
       "  </thead>\n",
       "  <tbody>\n",
       "    <tr>\n",
       "      <th>energy_fat</th>\n",
       "      <td>1.000000</td>\n",
       "      <td>0.803704</td>\n",
       "      <td>0.572517</td>\n",
       "      <td>-0.075554</td>\n",
       "      <td>0.578959</td>\n",
       "      <td>-0.056916</td>\n",
       "      <td>-0.367048</td>\n",
       "      <td>0.789285</td>\n",
       "      <td>-0.614130</td>\n",
       "      <td>0.503449</td>\n",
       "      <td>-0.010292</td>\n",
       "    </tr>\n",
       "    <tr>\n",
       "      <th>energy_saturate</th>\n",
       "      <td>0.803704</td>\n",
       "      <td>1.000000</td>\n",
       "      <td>0.476986</td>\n",
       "      <td>-0.172232</td>\n",
       "      <td>0.384106</td>\n",
       "      <td>-0.071635</td>\n",
       "      <td>-0.218584</td>\n",
       "      <td>0.554786</td>\n",
       "      <td>-0.462356</td>\n",
       "      <td>0.598202</td>\n",
       "      <td>-0.105991</td>\n",
       "    </tr>\n",
       "    <tr>\n",
       "      <th>energy_sugar</th>\n",
       "      <td>0.572517</td>\n",
       "      <td>0.476986</td>\n",
       "      <td>1.000000</td>\n",
       "      <td>-0.492247</td>\n",
       "      <td>0.854858</td>\n",
       "      <td>-0.298361</td>\n",
       "      <td>-0.424235</td>\n",
       "      <td>0.804899</td>\n",
       "      <td>-0.786125</td>\n",
       "      <td>0.453315</td>\n",
       "      <td>-0.012535</td>\n",
       "    </tr>\n",
       "    <tr>\n",
       "      <th>energy_protein</th>\n",
       "      <td>-0.075554</td>\n",
       "      <td>-0.172232</td>\n",
       "      <td>-0.492247</td>\n",
       "      <td>1.000000</td>\n",
       "      <td>-0.304961</td>\n",
       "      <td>0.367520</td>\n",
       "      <td>0.285014</td>\n",
       "      <td>-0.150903</td>\n",
       "      <td>0.521516</td>\n",
       "      <td>-0.321298</td>\n",
       "      <td>0.052572</td>\n",
       "    </tr>\n",
       "    <tr>\n",
       "      <th>energy_carb</th>\n",
       "      <td>0.578959</td>\n",
       "      <td>0.384106</td>\n",
       "      <td>0.854858</td>\n",
       "      <td>-0.304961</td>\n",
       "      <td>1.000000</td>\n",
       "      <td>-0.354216</td>\n",
       "      <td>-0.595897</td>\n",
       "      <td>0.939228</td>\n",
       "      <td>-0.869891</td>\n",
       "      <td>0.267263</td>\n",
       "      <td>0.034797</td>\n",
       "    </tr>\n",
       "    <tr>\n",
       "      <th>energy_fibre</th>\n",
       "      <td>-0.056916</td>\n",
       "      <td>-0.071635</td>\n",
       "      <td>-0.298361</td>\n",
       "      <td>0.367520</td>\n",
       "      <td>-0.354216</td>\n",
       "      <td>1.000000</td>\n",
       "      <td>0.180452</td>\n",
       "      <td>-0.250381</td>\n",
       "      <td>0.411269</td>\n",
       "      <td>-0.455087</td>\n",
       "      <td>-0.213410</td>\n",
       "    </tr>\n",
       "    <tr>\n",
       "      <th>energy_alcohol</th>\n",
       "      <td>-0.367048</td>\n",
       "      <td>-0.218584</td>\n",
       "      <td>-0.424235</td>\n",
       "      <td>0.285014</td>\n",
       "      <td>-0.595897</td>\n",
       "      <td>0.180452</td>\n",
       "      <td>1.000000</td>\n",
       "      <td>-0.529745</td>\n",
       "      <td>0.812003</td>\n",
       "      <td>0.028423</td>\n",
       "      <td>0.000670</td>\n",
       "    </tr>\n",
       "    <tr>\n",
       "      <th>energy_tot</th>\n",
       "      <td>0.789285</td>\n",
       "      <td>0.554786</td>\n",
       "      <td>0.804899</td>\n",
       "      <td>-0.150903</td>\n",
       "      <td>0.939228</td>\n",
       "      <td>-0.250381</td>\n",
       "      <td>-0.529745</td>\n",
       "      <td>1.000000</td>\n",
       "      <td>-0.811788</td>\n",
       "      <td>0.349160</td>\n",
       "      <td>0.028182</td>\n",
       "    </tr>\n",
       "    <tr>\n",
       "      <th>h_nutrients_calories</th>\n",
       "      <td>-0.614130</td>\n",
       "      <td>-0.462356</td>\n",
       "      <td>-0.786125</td>\n",
       "      <td>0.521516</td>\n",
       "      <td>-0.869891</td>\n",
       "      <td>0.411269</td>\n",
       "      <td>0.812003</td>\n",
       "      <td>-0.811788</td>\n",
       "      <td>1.000000</td>\n",
       "      <td>-0.327422</td>\n",
       "      <td>-0.018201</td>\n",
       "    </tr>\n",
       "    <tr>\n",
       "      <th>nutripoints</th>\n",
       "      <td>0.503449</td>\n",
       "      <td>0.598202</td>\n",
       "      <td>0.453315</td>\n",
       "      <td>-0.321298</td>\n",
       "      <td>0.267263</td>\n",
       "      <td>-0.455087</td>\n",
       "      <td>0.028423</td>\n",
       "      <td>0.349160</td>\n",
       "      <td>-0.327422</td>\n",
       "      <td>1.000000</td>\n",
       "      <td>0.007811</td>\n",
       "    </tr>\n",
       "    <tr>\n",
       "      <th>Count of outlets</th>\n",
       "      <td>-0.010292</td>\n",
       "      <td>-0.105991</td>\n",
       "      <td>-0.012535</td>\n",
       "      <td>0.052572</td>\n",
       "      <td>0.034797</td>\n",
       "      <td>-0.213410</td>\n",
       "      <td>0.000670</td>\n",
       "      <td>0.028182</td>\n",
       "      <td>-0.018201</td>\n",
       "      <td>0.007811</td>\n",
       "      <td>1.000000</td>\n",
       "    </tr>\n",
       "  </tbody>\n",
       "</table>\n",
       "</div>"
      ],
      "text/plain": [
       "                      energy_fat  energy_saturate  energy_sugar  \\\n",
       "energy_fat              1.000000         0.803704      0.572517   \n",
       "energy_saturate         0.803704         1.000000      0.476986   \n",
       "energy_sugar            0.572517         0.476986      1.000000   \n",
       "energy_protein         -0.075554        -0.172232     -0.492247   \n",
       "energy_carb             0.578959         0.384106      0.854858   \n",
       "energy_fibre           -0.056916        -0.071635     -0.298361   \n",
       "energy_alcohol         -0.367048        -0.218584     -0.424235   \n",
       "energy_tot              0.789285         0.554786      0.804899   \n",
       "h_nutrients_calories   -0.614130        -0.462356     -0.786125   \n",
       "nutripoints             0.503449         0.598202      0.453315   \n",
       "Count of outlets       -0.010292        -0.105991     -0.012535   \n",
       "\n",
       "                      energy_protein  energy_carb  energy_fibre  \\\n",
       "energy_fat                 -0.075554     0.578959     -0.056916   \n",
       "energy_saturate            -0.172232     0.384106     -0.071635   \n",
       "energy_sugar               -0.492247     0.854858     -0.298361   \n",
       "energy_protein              1.000000    -0.304961      0.367520   \n",
       "energy_carb                -0.304961     1.000000     -0.354216   \n",
       "energy_fibre                0.367520    -0.354216      1.000000   \n",
       "energy_alcohol              0.285014    -0.595897      0.180452   \n",
       "energy_tot                 -0.150903     0.939228     -0.250381   \n",
       "h_nutrients_calories        0.521516    -0.869891      0.411269   \n",
       "nutripoints                -0.321298     0.267263     -0.455087   \n",
       "Count of outlets            0.052572     0.034797     -0.213410   \n",
       "\n",
       "                      energy_alcohol  energy_tot  h_nutrients_calories  \\\n",
       "energy_fat                 -0.367048    0.789285             -0.614130   \n",
       "energy_saturate            -0.218584    0.554786             -0.462356   \n",
       "energy_sugar               -0.424235    0.804899             -0.786125   \n",
       "energy_protein              0.285014   -0.150903              0.521516   \n",
       "energy_carb                -0.595897    0.939228             -0.869891   \n",
       "energy_fibre                0.180452   -0.250381              0.411269   \n",
       "energy_alcohol              1.000000   -0.529745              0.812003   \n",
       "energy_tot                 -0.529745    1.000000             -0.811788   \n",
       "h_nutrients_calories        0.812003   -0.811788              1.000000   \n",
       "nutripoints                 0.028423    0.349160             -0.327422   \n",
       "Count of outlets            0.000670    0.028182             -0.018201   \n",
       "\n",
       "                      nutripoints  Count of outlets  \n",
       "energy_fat               0.503449         -0.010292  \n",
       "energy_saturate          0.598202         -0.105991  \n",
       "energy_sugar             0.453315         -0.012535  \n",
       "energy_protein          -0.321298          0.052572  \n",
       "energy_carb              0.267263          0.034797  \n",
       "energy_fibre            -0.455087         -0.213410  \n",
       "energy_alcohol           0.028423          0.000670  \n",
       "energy_tot               0.349160          0.028182  \n",
       "h_nutrients_calories    -0.327422         -0.018201  \n",
       "nutripoints              1.000000          0.007811  \n",
       "Count of outlets         0.007811          1.000000  "
      ]
     },
     "metadata": {},
     "output_type": "display_data"
    }
   ],
   "source": [
    "correlation = fastfood_grocery_analysis.corr(method=\"spearman\")\n",
    "display(correlation)"
   ]
  },
  {
   "cell_type": "code",
   "execution_count": 38,
   "metadata": {},
   "outputs": [
    {
     "data": {
      "text/plain": [
       "energy_fat             -0.010292\n",
       "energy_saturate        -0.105991\n",
       "energy_sugar           -0.012535\n",
       "energy_protein          0.052572\n",
       "energy_carb             0.034797\n",
       "energy_fibre           -0.213410\n",
       "energy_alcohol          0.000670\n",
       "energy_tot              0.028182\n",
       "h_nutrients_calories   -0.018201\n",
       "nutripoints             0.007811\n",
       "Count of outlets        1.000000\n",
       "Name: Count of outlets, dtype: float64"
      ]
     },
     "metadata": {},
     "output_type": "display_data"
    },
    {
     "data": {
      "image/png": "[encoded data removed]",
      "text/plain": [
       "<Figure size 1008x216 with 1 Axes>"
      ]
     },
     "metadata": {},
     "output_type": "display_data"
    }
   ],
   "source": [
    "plt.figure(figsize=(14, 3))\n",
    "display(correlation[\"Count of outlets\"])\n",
    "correlation[\"Count of outlets\"].plot.bar(x=None, y=None, width=0.8, legend=None)\n",
    "plt.ylabel(\"Spearman R\")\n",
    "plt.title(\"Correlation fast food outlets\")\n",
    "plt.show()"
   ]
  },
  {
   "cell_type": "code",
   "execution_count": 25,
   "metadata": {},
   "outputs": [
    {
     "data": {
      "image/png": "[encoded data removed]",
      "text/plain": [
       "<Figure size 1008x216 with 1 Axes>"
      ]
     },
     "metadata": {},
     "output_type": "display_data"
    }
   ],
   "source": [
    "plt.figure(figsize=(14, 3))\n",
    "correlation[\"h_nutrients_calories\"].plot.bar(\n",
    "    x=None, y=None, width=0.8, legend=None)\n",
    "plt.ylabel(\"Spearman R\")\n",
    "plt.title(\"Correlation entropy\")\n",
    "plt.show()"
   ]
  },
  {
   "cell_type": "code",
   "execution_count": 27,
   "metadata": {
    "scrolled": true
   },
   "outputs": [
    {
     "data": {
      "image/png": "[encoded data removed]",
      "text/plain": [
       "<Figure size 1008x216 with 1 Axes>"
      ]
     },
     "metadata": {},
     "output_type": "display_data"
    }
   ],
   "source": [
    "plt.figure(figsize=(14, 3))\n",
    "correlation[\"nutripoints\"].plot.bar(x=None, y=None, width=0.8, legend=None)\n",
    "plt.ylabel(\"Spearman R\")\n",
    "plt.title(\"Correlation energy tot\")\n",
    "plt.show()"
   ]
  },
  {
   "cell_type": "code",
   "execution_count": 28,
   "metadata": {},
   "outputs": [
    {
     "data": {
      "text/html": [
       "<div>\n",
       "<style scoped>\n",
       "    .dataframe tbody tr th:only-of-type {\n",
       "        vertical-align: middle;\n",
       "    }\n",
       "\n",
       "    .dataframe tbody tr th {\n",
       "        vertical-align: top;\n",
       "    }\n",
       "\n",
       "    .dataframe thead th {\n",
       "        text-align: right;\n",
       "    }\n",
       "</style>\n",
       "<table border=\"1\" class=\"dataframe\">\n",
       "  <thead>\n",
       "    <tr style=\"text-align: right;\">\n",
       "      <th></th>\n",
       "      <th>energy_fat</th>\n",
       "      <th>energy_saturate</th>\n",
       "      <th>energy_sugar</th>\n",
       "      <th>energy_protein</th>\n",
       "      <th>energy_carb</th>\n",
       "      <th>energy_fibre</th>\n",
       "      <th>energy_alcohol</th>\n",
       "      <th>energy_tot</th>\n",
       "      <th>h_nutrients_calories</th>\n",
       "      <th>nutripoints</th>\n",
       "      <th>Count of outlets</th>\n",
       "    </tr>\n",
       "  </thead>\n",
       "  <tbody>\n",
       "    <tr>\n",
       "      <th>count</th>\n",
       "      <td>4.400000e+02</td>\n",
       "      <td>4.400000e+02</td>\n",
       "      <td>4.400000e+02</td>\n",
       "      <td>4.400000e+02</td>\n",
       "      <td>4.400000e+02</td>\n",
       "      <td>4.400000e+02</td>\n",
       "      <td>4.400000e+02</td>\n",
       "      <td>4.400000e+02</td>\n",
       "      <td>4.400000e+02</td>\n",
       "      <td>4.400000e+02</td>\n",
       "      <td>4.400000e+02</td>\n",
       "    </tr>\n",
       "    <tr>\n",
       "      <th>mean</th>\n",
       "      <td>3.229740e-16</td>\n",
       "      <td>-1.735985e-15</td>\n",
       "      <td>1.291896e-16</td>\n",
       "      <td>1.065814e-15</td>\n",
       "      <td>-4.440892e-16</td>\n",
       "      <td>-2.083182e-15</td>\n",
       "      <td>-4.198662e-16</td>\n",
       "      <td>-2.115480e-15</td>\n",
       "      <td>-3.092476e-15</td>\n",
       "      <td>6.459479e-16</td>\n",
       "      <td>-5.652044e-17</td>\n",
       "    </tr>\n",
       "    <tr>\n",
       "      <th>std</th>\n",
       "      <td>1.001138e+00</td>\n",
       "      <td>1.001138e+00</td>\n",
       "      <td>1.001138e+00</td>\n",
       "      <td>1.001138e+00</td>\n",
       "      <td>1.001138e+00</td>\n",
       "      <td>1.001138e+00</td>\n",
       "      <td>1.001138e+00</td>\n",
       "      <td>1.001138e+00</td>\n",
       "      <td>1.001138e+00</td>\n",
       "      <td>1.001138e+00</td>\n",
       "      <td>1.001138e+00</td>\n",
       "    </tr>\n",
       "    <tr>\n",
       "      <th>min</th>\n",
       "      <td>-4.660432e+00</td>\n",
       "      <td>-4.064772e+00</td>\n",
       "      <td>-2.991977e+00</td>\n",
       "      <td>-4.092060e+00</td>\n",
       "      <td>-3.421032e+00</td>\n",
       "      <td>-2.357331e+00</td>\n",
       "      <td>-2.644519e+00</td>\n",
       "      <td>-4.221003e+00</td>\n",
       "      <td>-4.277534e+00</td>\n",
       "      <td>-3.121099e+00</td>\n",
       "      <td>-9.626714e-01</td>\n",
       "    </tr>\n",
       "    <tr>\n",
       "      <th>25%</th>\n",
       "      <td>-5.728032e-01</td>\n",
       "      <td>-6.168797e-01</td>\n",
       "      <td>-6.370957e-01</td>\n",
       "      <td>-4.644476e-01</td>\n",
       "      <td>-6.578292e-01</td>\n",
       "      <td>-6.826793e-01</td>\n",
       "      <td>-6.741527e-01</td>\n",
       "      <td>-6.029193e-01</td>\n",
       "      <td>-6.448873e-01</td>\n",
       "      <td>-5.548990e-01</td>\n",
       "      <td>-5.315514e-01</td>\n",
       "    </tr>\n",
       "    <tr>\n",
       "      <th>50%</th>\n",
       "      <td>-7.062881e-02</td>\n",
       "      <td>-1.082820e-01</td>\n",
       "      <td>-1.174246e-01</td>\n",
       "      <td>1.602082e-01</td>\n",
       "      <td>1.554742e-02</td>\n",
       "      <td>-4.530949e-02</td>\n",
       "      <td>-5.244545e-02</td>\n",
       "      <td>4.699077e-02</td>\n",
       "      <td>3.007327e-02</td>\n",
       "      <td>-1.882991e-01</td>\n",
       "      <td>-2.441380e-01</td>\n",
       "    </tr>\n",
       "    <tr>\n",
       "      <th>75%</th>\n",
       "      <td>5.198583e-01</td>\n",
       "      <td>5.285635e-01</td>\n",
       "      <td>6.015973e-01</td>\n",
       "      <td>6.822562e-01</td>\n",
       "      <td>7.072736e-01</td>\n",
       "      <td>5.581446e-01</td>\n",
       "      <td>5.327337e-01</td>\n",
       "      <td>5.905271e-01</td>\n",
       "      <td>6.739627e-01</td>\n",
       "      <td>5.449009e-01</td>\n",
       "      <td>2.588353e-01</td>\n",
       "    </tr>\n",
       "    <tr>\n",
       "      <th>max</th>\n",
       "      <td>4.056427e+00</td>\n",
       "      <td>4.960090e+00</td>\n",
       "      <td>2.630447e+00</td>\n",
       "      <td>2.238609e+00</td>\n",
       "      <td>2.326903e+00</td>\n",
       "      <td>5.013161e+00</td>\n",
       "      <td>4.969802e+00</td>\n",
       "      <td>2.671818e+00</td>\n",
       "      <td>4.238500e+00</td>\n",
       "      <td>3.844301e+00</td>\n",
       "      <td>9.527915e+00</td>\n",
       "    </tr>\n",
       "  </tbody>\n",
       "</table>\n",
       "</div>"
      ],
      "text/plain": [
       "         energy_fat  energy_saturate  energy_sugar  energy_protein  \\\n",
       "count  4.400000e+02     4.400000e+02  4.400000e+02    4.400000e+02   \n",
       "mean   3.229740e-16    -1.735985e-15  1.291896e-16    1.065814e-15   \n",
       "std    1.001138e+00     1.001138e+00  1.001138e+00    1.001138e+00   \n",
       "min   -4.660432e+00    -4.064772e+00 -2.991977e+00   -4.092060e+00   \n",
       "25%   -5.728032e-01    -6.168797e-01 -6.370957e-01   -4.644476e-01   \n",
       "50%   -7.062881e-02    -1.082820e-01 -1.174246e-01    1.602082e-01   \n",
       "75%    5.198583e-01     5.285635e-01  6.015973e-01    6.822562e-01   \n",
       "max    4.056427e+00     4.960090e+00  2.630447e+00    2.238609e+00   \n",
       "\n",
       "        energy_carb  energy_fibre  energy_alcohol    energy_tot  \\\n",
       "count  4.400000e+02  4.400000e+02    4.400000e+02  4.400000e+02   \n",
       "mean  -4.440892e-16 -2.083182e-15   -4.198662e-16 -2.115480e-15   \n",
       "std    1.001138e+00  1.001138e+00    1.001138e+00  1.001138e+00   \n",
       "min   -3.421032e+00 -2.357331e+00   -2.644519e+00 -4.221003e+00   \n",
       "25%   -6.578292e-01 -6.826793e-01   -6.741527e-01 -6.029193e-01   \n",
       "50%    1.554742e-02 -4.530949e-02   -5.244545e-02  4.699077e-02   \n",
       "75%    7.072736e-01  5.581446e-01    5.327337e-01  5.905271e-01   \n",
       "max    2.326903e+00  5.013161e+00    4.969802e+00  2.671818e+00   \n",
       "\n",
       "       h_nutrients_calories   nutripoints  Count of outlets  \n",
       "count          4.400000e+02  4.400000e+02      4.400000e+02  \n",
       "mean          -3.092476e-15  6.459479e-16     -5.652044e-17  \n",
       "std            1.001138e+00  1.001138e+00      1.001138e+00  \n",
       "min           -4.277534e+00 -3.121099e+00     -9.626714e-01  \n",
       "25%           -6.448873e-01 -5.548990e-01     -5.315514e-01  \n",
       "50%            3.007327e-02 -1.882991e-01     -2.441380e-01  \n",
       "75%            6.739627e-01  5.449009e-01      2.588353e-01  \n",
       "max            4.238500e+00  3.844301e+00      9.527915e+00  "
      ]
     },
     "execution_count": 28,
     "metadata": {},
     "output_type": "execute_result"
    }
   ],
   "source": [
    "scaler = StandardScaler()\n",
    "fastfood_grocery_analysis[fastfood_grocery_analysis.columns] = scaler.fit_transform(fastfood_grocery_analysis\n",
    "                                                                                      [fastfood_grocery_analysis.columns])\n",
    "fastfood_grocery_analysis.describe()"
   ]
  },
  {
   "cell_type": "code",
   "execution_count": 58,
   "metadata": {},
   "outputs": [
    {
     "name": "stdout",
     "output_type": "stream",
     "text": [
      "                            OLS Regression Results                            \n",
      "==============================================================================\n",
      "Dep. Variable:            nutripoints   R-squared:                       0.002\n",
      "Model:                            OLS   Adj. R-squared:                 -0.001\n",
      "Method:                 Least Squares   F-statistic:                    0.6930\n",
      "Date:                Mon, 07 Dec 2020   Prob (F-statistic):              0.406\n",
      "Time:                        12:26:54   Log-Likelihood:                -760.53\n",
      "No. Observations:                 440   AIC:                             1525.\n",
      "Df Residuals:                     438   BIC:                             1533.\n",
      "Df Model:                           1                                         \n",
      "Covariance Type:            nonrobust                                         \n",
      "====================================================================================\n",
      "                       coef    std err          t      P>|t|      [0.025      0.975]\n",
      "------------------------------------------------------------------------------------\n",
      "const                9.3129      0.094     99.398      0.000       9.129       9.497\n",
      "Count of outlets    -0.0039      0.005     -0.832      0.406      -0.013       0.005\n",
      "==============================================================================\n",
      "Omnibus:                        4.974   Durbin-Watson:                   1.928\n",
      "Prob(Omnibus):                  0.083   Jarque-Bera (JB):                4.741\n",
      "Skew:                           0.239   Prob(JB):                       0.0934\n",
      "Kurtosis:                       3.176   Cond. No.                         28.8\n",
      "==============================================================================\n",
      "\n",
      "Notes:\n",
      "[1] Standard Errors assume that the covariance matrix of the errors is correctly specified.\n"
     ]
    }
   ],
   "source": [
    "Y=fastfood_grocery[[\"nutripoints\"]]\n",
    "X=fastfood_grocery[[\"Count of outlets\"]]\n",
    "X = sm.add_constant(X) # adding a constant\n",
    "\n",
    "model = sm.OLS(Y, X).fit()\n",
    "predictions = model.predict(X) \n",
    "\n",
    "print_model = model.summary()\n",
    "print(print_model)"
   ]
  },
  {
   "cell_type": "code",
   "execution_count": 59,
   "metadata": {},
   "outputs": [
    {
     "data": {
      "image/png": "[encoded data removed]",
      "text/plain": [
       "<Figure size 432x288 with 1 Axes>"
      ]
     },
     "metadata": {},
     "output_type": "display_data"
    }
   ],
   "source": [
    "columns_kmeans = ['nutripoints']\n",
    "fastfood_grocery_kmeans=fastfood_grocery[columns_kmeans].copy()\n",
    "\n",
    "def plot_sse(X, start=2, end=11):\n",
    "    sse = []\n",
    "    for k in range(start, end):\n",
    "        # Assign the labels to the clusters\n",
    "        kmeans = KMeans(n_clusters=k, random_state=10).fit(X)\n",
    "        sse.append({\"k\": k, \"sse\": kmeans.inertia_})\n",
    "    sse = pd.DataFrame(sse)\n",
    "        # Plot the data\n",
    "    plt.plot(sse.k, sse.sse)\n",
    "    plt.xlabel(\"K\")\n",
    "    plt.ylabel(\"Sum of Squared Errors\")\n",
    "    \n",
    "plot_sse(fastfood_grocery_kmeans)\n"
   ]
  },
  {
   "cell_type": "code",
   "execution_count": 60,
   "metadata": {},
   "outputs": [
    {
     "data": {
      "text/plain": [
       "Text(0, 0.5, 'Silhouette score')"
      ]
     },
     "execution_count": 60,
     "metadata": {},
     "output_type": "execute_result"
    },
    {
     "data": {
      "image/png": "[encoded data removed]",
      "text/plain": [
       "<Figure size 432x288 with 1 Axes>"
      ]
     },
     "metadata": {},
     "output_type": "display_data"
    }
   ],
   "source": [
    "#######    silhouette scores to choose k    #########\n",
    "silhouettes = []\n",
    "for k in range(2, 11): # Try multiple k\n",
    "    # Cluster the data and assigne the labels\n",
    "    labels = KMeans(n_clusters=k, random_state=10).fit_predict(fastfood_grocery_kmeans)\n",
    "    # Get the Silhouette score\n",
    "    score = silhouette_score(fastfood_grocery_kmeans, labels)\n",
    "    silhouettes.append({\"k\": k, \"score\": score})\n",
    "    \n",
    "silhouettes = pd.DataFrame(silhouettes) # Convert to dataframe\n",
    "\n",
    "# Plot the data\n",
    "plt.plot(silhouettes.k, silhouettes.score)\n",
    "plt.xlabel(\"K\")\n",
    "plt.ylabel(\"Silhouette score\")"
   ]
  },
  {
   "cell_type": "code",
   "execution_count": 61,
   "metadata": {},
   "outputs": [
    {
     "data": {
      "text/plain": [
       "<AxesSubplot:xlabel='nutripoints'>"
      ]
     },
     "execution_count": 61,
     "metadata": {},
     "output_type": "execute_result"
    },
    {
     "data": {
      "image/png": "[encoded data removed]",
      "text/plain": [
       "<Figure size 720x576 with 1 Axes>"
      ]
     },
     "metadata": {},
     "output_type": "display_data"
    }
   ],
   "source": [
    "fig, axs = plt.subplots(1, 1, figsize=(10,8), sharey=True, sharex=True)\n",
    "\n",
    "# Cluster the data with the current number of clusters\n",
    "kmean = KMeans(n_clusters=4, random_state=42).fit(fastfood_grocery_kmeans)\n",
    "\n",
    "# Plot the data by using the labels as color\n",
    "#axs.scatter(wellbeing_grocery_kmeans, wellbeing_grocery_kmeans, c=kmean.labels_)\n",
    "fastfood_grocery_kmeans['label']=kmean.labels_\n",
    "sns.swarmplot(data=fastfood_grocery_kmeans, x='nutripoints', ax=axs, hue=fastfood_grocery_kmeans.label)\n",
    "# Plot the centroids\n",
    "#for c in kmean.cluster_centers_:\n",
    "    #axs.scatter(c[0], c[1], marker=\"+\", color=\"red\")"
   ]
  },
  {
   "cell_type": "code",
   "execution_count": 62,
   "metadata": {
    "scrolled": true
   },
   "outputs": [
    {
     "data": {
      "text/plain": [
       "nutri_label\n",
       "0    10.5\n",
       "1     8.0\n",
       "2     5.0\n",
       "3     9.5\n",
       "Name: nutripoints, dtype: float64"
      ]
     },
     "execution_count": 62,
     "metadata": {},
     "output_type": "execute_result"
    }
   ],
   "source": [
    "fastfood_grocery[\"nutri_label\"]=kmean.labels_\n",
    "fastfood_grocery.groupby(\"nutri_label\")[\"nutripoints\"].min()"
   ]
  },
  {
   "cell_type": "code",
   "execution_count": 63,
   "metadata": {},
   "outputs": [
    {
     "data": {
      "text/plain": [
       "LinearRegression()"
      ]
     },
     "execution_count": 63,
     "metadata": {},
     "output_type": "execute_result"
    }
   ],
   "source": [
    "## linear regression ##\n",
    "lin_reg = LinearRegression()  # create the model\n",
    "lin_reg.fit(X,Y)  # train it"
   ]
  },
  {
   "cell_type": "code",
   "execution_count": 65,
   "metadata": {},
   "outputs": [
    {
     "name": "stdout",
     "output_type": "stream",
     "text": [
      "[ 0.         -0.00389498] * Count of outlets + \n",
      "[9.312897]\n"
     ]
    }
   ],
   "source": [
    "print(\"{0} * {1} + \".format(lin_reg.coef_[0], \"Count of outlets\"))\n",
    "print(lin_reg.intercept_)"
   ]
  },
  {
   "cell_type": "code",
   "execution_count": 66,
   "metadata": {},
   "outputs": [],
   "source": [
    "# train a gradient boosting regressor\n",
    "gradboost = GradientBoostingRegressor()\n",
    "\n",
    "# compute r^2 for this new model\n",
    "#r2_random_gradboost = gradboost_random.score(train_X, train_y)\n",
    "\n",
    "#print(f\"R² for the Gradient Boost Regression: {r2_random_gradboost}\")"
   ]
  },
  {
   "cell_type": "code",
   "execution_count": 67,
   "metadata": {},
   "outputs": [
    {
     "name": "stderr",
     "output_type": "stream",
     "text": [
      "C:\\Users\\agath\\anaconda3\\envs\\ada\\lib\\site-packages\\sklearn\\utils\\validation.py:72: DataConversionWarning: A column-vector y was passed when a 1d array was expected. Please change the shape of y to (n_samples, ), for example using ravel().\n",
      "  return f(**kwargs)\n",
      "C:\\Users\\agath\\anaconda3\\envs\\ada\\lib\\site-packages\\sklearn\\utils\\validation.py:72: DataConversionWarning: A column-vector y was passed when a 1d array was expected. Please change the shape of y to (n_samples, ), for example using ravel().\n",
      "  return f(**kwargs)\n",
      "C:\\Users\\agath\\anaconda3\\envs\\ada\\lib\\site-packages\\sklearn\\utils\\validation.py:72: DataConversionWarning: A column-vector y was passed when a 1d array was expected. Please change the shape of y to (n_samples, ), for example using ravel().\n",
      "  return f(**kwargs)\n",
      "C:\\Users\\agath\\anaconda3\\envs\\ada\\lib\\site-packages\\sklearn\\utils\\validation.py:72: DataConversionWarning: A column-vector y was passed when a 1d array was expected. Please change the shape of y to (n_samples, ), for example using ravel().\n",
      "  return f(**kwargs)\n",
      "C:\\Users\\agath\\anaconda3\\envs\\ada\\lib\\site-packages\\sklearn\\utils\\validation.py:72: DataConversionWarning: A column-vector y was passed when a 1d array was expected. Please change the shape of y to (n_samples, ), for example using ravel().\n",
      "  return f(**kwargs)\n"
     ]
    }
   ],
   "source": [
    "predicted_y = cross_val_predict(gradboost, X, Y, cv=5)"
   ]
  },
  {
   "cell_type": "code",
   "execution_count": 68,
   "metadata": {},
   "outputs": [
    {
     "data": {
      "image/png": "[encoded data removed]",
      "text/plain": [
       "<Figure size 864x576 with 1 Axes>"
      ]
     },
     "metadata": {},
     "output_type": "display_data"
    }
   ],
   "source": [
    "# Plot the results\n",
    "fig, ax = plt.subplots(figsize=(12, 8))\n",
    "ax.scatter(Y, predicted_y, edgecolors=(0, 0, 0))\n",
    "ax.set_xlabel('Original')\n",
    "ax.set_ylabel('Predicted')\n",
    "plt.show()"
   ]
  },
  {
   "cell_type": "code",
   "execution_count": 70,
   "metadata": {},
   "outputs": [
    {
     "name": "stdout",
     "output_type": "stream",
     "text": [
      "-0.12766332059740226 2.0976576410643757\n"
     ]
    }
   ],
   "source": [
    "r2=r2_score(Y, predicted_y)\n",
    "mse=mean_squared_error(Y, predicted_y)\n",
    "print(r2, mse)"
   ]
  },
  {
   "cell_type": "code",
   "execution_count": null,
   "metadata": {},
   "outputs": [],
   "source": []
  }
 ],
 "metadata": {
  "kernelspec": {
   "display_name": "Python 3",
   "language": "python",
   "name": "python3"
  },
  "language_info": {
   "codemirror_mode": {
    "name": "ipython",
    "version": 3
   },
   "file_extension": ".py",
   "mimetype": "text/x-python",
   "name": "python",
   "nbconvert_exporter": "python",
   "pygments_lexer": "ipython3",
   "version": "3.8.5"
  }
 },
 "nbformat": 4,
 "nbformat_minor": 4
}
