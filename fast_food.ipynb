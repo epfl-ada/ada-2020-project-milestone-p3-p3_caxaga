{
 "cells": [
  {
   "cell_type": "markdown",
   "metadata": {},
   "source": [
    "# Fast-food Analysis"
   ]
  },
  {
   "cell_type": "markdown",
   "metadata": {},
   "source": [
    "As we have studied if the nutritional informations of the average product per area were correlated to the wellbeing features, we now want to study the correlation between the nutrients composition and the number of fast foods per area.\n",
    "\n",
    "We were able to find the database from the Londonian data website, the same one as for the wellbeing features. "
   ]
  },
  {
   "cell_type": "code",
   "execution_count": 1,
   "metadata": {},
   "outputs": [],
   "source": [
    "# Imports\n",
    "from utils import calculate_nutripoints\n",
    "from sklearn.cluster import KMeans, DBSCAN\n",
    "from statsmodels.stats import diagnostic\n",
    "import statsmodels.formula.api as smf\n",
    "import statsmodels.api as sm\n",
    "from scipy import stats\n",
    "from scipy.stats import pearsonr\n",
    "from sklearn.preprocessing import StandardScaler\n",
    "from sklearn.decomposition import PCA\n",
    "from sklearn.metrics import silhouette_score\n",
    "from sklearn.linear_model import LinearRegression, LogisticRegression, Ridge\n",
    "from sklearn.neighbors import KNeighborsClassifier\n",
    "from sklearn.ensemble import GradientBoostingRegressor\n",
    "from sklearn.model_selection import cross_val_predict, train_test_split, cross_val_score\n",
    "from sklearn.metrics import mean_squared_error, auc, roc_curve, r2_score\n",
    "from sklearn.feature_selection import RFE\n",
    "import math\n",
    "from IPython.display import display\n",
    "import numpy as np\n",
    "import matplotlib.pyplot as plt\n",
    "import pandas as pd\n",
    "import seaborn as sns\n",
    "\n",
    "%matplotlib inline\n",
    "sns.set_theme()"
   ]
  },
  {
   "cell_type": "markdown",
   "metadata": {},
   "source": [
    "## I) Data Preparation \n",
    "\n",
    "### A) Data imports"
   ]
  },
  {
   "cell_type": "code",
   "execution_count": 3,
   "metadata": {
    "scrolled": true
   },
   "outputs": [
    {
     "data": {
      "text/html": [
       "<div>\n",
       "<style scoped>\n",
       "    .dataframe tbody tr th:only-of-type {\n",
       "        vertical-align: middle;\n",
       "    }\n",
       "\n",
       "    .dataframe tbody tr th {\n",
       "        vertical-align: top;\n",
       "    }\n",
       "\n",
       "    .dataframe thead th {\n",
       "        text-align: right;\n",
       "    }\n",
       "</style>\n",
       "<table border=\"1\" class=\"dataframe\">\n",
       "  <thead>\n",
       "    <tr style=\"text-align: right;\">\n",
       "      <th></th>\n",
       "      <th>2015 Ward code</th>\n",
       "      <th>Count of outlets</th>\n",
       "    </tr>\n",
       "  </thead>\n",
       "  <tbody>\n",
       "    <tr>\n",
       "      <th>0</th>\n",
       "      <td>E05001767</td>\n",
       "      <td>10</td>\n",
       "    </tr>\n",
       "    <tr>\n",
       "      <th>1</th>\n",
       "      <td>E05001768</td>\n",
       "      <td>10</td>\n",
       "    </tr>\n",
       "    <tr>\n",
       "      <th>2</th>\n",
       "      <td>E05001769</td>\n",
       "      <td>22</td>\n",
       "    </tr>\n",
       "    <tr>\n",
       "      <th>3</th>\n",
       "      <td>E05001770</td>\n",
       "      <td>81</td>\n",
       "    </tr>\n",
       "    <tr>\n",
       "      <th>4</th>\n",
       "      <td>E05001771</td>\n",
       "      <td>5</td>\n",
       "    </tr>\n",
       "  </tbody>\n",
       "</table>\n",
       "</div>"
      ],
      "text/plain": [
       "  2015 Ward code  Count of outlets\n",
       "0      E05001767                10\n",
       "1      E05001768                10\n",
       "2      E05001769                22\n",
       "3      E05001770                81\n",
       "4      E05001771                 5"
      ]
     },
     "metadata": {},
     "output_type": "display_data"
    },
    {
     "name": "stdout",
     "output_type": "stream",
     "text": [
      "(5832, 2)\n"
     ]
    },
    {
     "data": {
      "text/html": [
       "<div>\n",
       "<style scoped>\n",
       "    .dataframe tbody tr th:only-of-type {\n",
       "        vertical-align: middle;\n",
       "    }\n",
       "\n",
       "    .dataframe tbody tr th {\n",
       "        vertical-align: top;\n",
       "    }\n",
       "\n",
       "    .dataframe thead th {\n",
       "        text-align: right;\n",
       "    }\n",
       "</style>\n",
       "<table border=\"1\" class=\"dataframe\">\n",
       "  <thead>\n",
       "    <tr style=\"text-align: right;\">\n",
       "      <th></th>\n",
       "      <th>area_id</th>\n",
       "      <th>energy_fat</th>\n",
       "      <th>energy_saturate</th>\n",
       "      <th>energy_sugar</th>\n",
       "      <th>energy_protein</th>\n",
       "      <th>energy_carb</th>\n",
       "      <th>energy_fibre</th>\n",
       "      <th>energy_alcohol</th>\n",
       "      <th>energy_tot</th>\n",
       "      <th>h_nutrients_calories</th>\n",
       "      <th>nutripoints</th>\n",
       "      <th>nutri_class</th>\n",
       "    </tr>\n",
       "  </thead>\n",
       "  <tbody>\n",
       "    <tr>\n",
       "      <th>570</th>\n",
       "      <td>E05011117</td>\n",
       "      <td>78.438016</td>\n",
       "      <td>30.789383</td>\n",
       "      <td>34.635855</td>\n",
       "      <td>22.770981</td>\n",
       "      <td>65.237562</td>\n",
       "      <td>3.026622</td>\n",
       "      <td>1.892084</td>\n",
       "      <td>171.365266</td>\n",
       "      <td>1.608028</td>\n",
       "      <td>8.5</td>\n",
       "      <td>4</td>\n",
       "    </tr>\n",
       "    <tr>\n",
       "      <th>565</th>\n",
       "      <td>E05011112</td>\n",
       "      <td>78.516170</td>\n",
       "      <td>30.681996</td>\n",
       "      <td>36.415653</td>\n",
       "      <td>22.396706</td>\n",
       "      <td>68.789239</td>\n",
       "      <td>2.984949</td>\n",
       "      <td>1.558974</td>\n",
       "      <td>174.246039</td>\n",
       "      <td>1.589399</td>\n",
       "      <td>8.0</td>\n",
       "      <td>1</td>\n",
       "    </tr>\n",
       "    <tr>\n",
       "      <th>246</th>\n",
       "      <td>E05000336</td>\n",
       "      <td>78.864004</td>\n",
       "      <td>32.414378</td>\n",
       "      <td>38.719523</td>\n",
       "      <td>21.433875</td>\n",
       "      <td>71.160848</td>\n",
       "      <td>2.994211</td>\n",
       "      <td>1.741239</td>\n",
       "      <td>176.194176</td>\n",
       "      <td>1.582813</td>\n",
       "      <td>10.0</td>\n",
       "      <td>0</td>\n",
       "    </tr>\n",
       "    <tr>\n",
       "      <th>438</th>\n",
       "      <td>E05000605</td>\n",
       "      <td>84.561946</td>\n",
       "      <td>33.918637</td>\n",
       "      <td>36.141050</td>\n",
       "      <td>22.015479</td>\n",
       "      <td>69.832483</td>\n",
       "      <td>3.067818</td>\n",
       "      <td>1.697021</td>\n",
       "      <td>181.174746</td>\n",
       "      <td>1.575484</td>\n",
       "      <td>9.0</td>\n",
       "      <td>4</td>\n",
       "    </tr>\n",
       "    <tr>\n",
       "      <th>162</th>\n",
       "      <td>E05000252</td>\n",
       "      <td>80.542785</td>\n",
       "      <td>31.635739</td>\n",
       "      <td>33.648475</td>\n",
       "      <td>22.141379</td>\n",
       "      <td>61.322242</td>\n",
       "      <td>3.149138</td>\n",
       "      <td>1.689631</td>\n",
       "      <td>168.845175</td>\n",
       "      <td>1.598050</td>\n",
       "      <td>8.5</td>\n",
       "      <td>4</td>\n",
       "    </tr>\n",
       "  </tbody>\n",
       "</table>\n",
       "</div>"
      ],
      "text/plain": [
       "       area_id  energy_fat  energy_saturate  energy_sugar  energy_protein  \\\n",
       "570  E05011117   78.438016        30.789383     34.635855       22.770981   \n",
       "565  E05011112   78.516170        30.681996     36.415653       22.396706   \n",
       "246  E05000336   78.864004        32.414378     38.719523       21.433875   \n",
       "438  E05000605   84.561946        33.918637     36.141050       22.015479   \n",
       "162  E05000252   80.542785        31.635739     33.648475       22.141379   \n",
       "\n",
       "     energy_carb  energy_fibre  energy_alcohol  energy_tot  \\\n",
       "570    65.237562      3.026622        1.892084  171.365266   \n",
       "565    68.789239      2.984949        1.558974  174.246039   \n",
       "246    71.160848      2.994211        1.741239  176.194176   \n",
       "438    69.832483      3.067818        1.697021  181.174746   \n",
       "162    61.322242      3.149138        1.689631  168.845175   \n",
       "\n",
       "     h_nutrients_calories  nutripoints  nutri_class  \n",
       "570              1.608028          8.5            4  \n",
       "565              1.589399          8.0            1  \n",
       "246              1.582813         10.0            0  \n",
       "438              1.575484          9.0            4  \n",
       "162              1.598050          8.5            4  "
      ]
     },
     "metadata": {},
     "output_type": "display_data"
    },
    {
     "name": "stdout",
     "output_type": "stream",
     "text": [
      "(510, 12)\n"
     ]
    }
   ],
   "source": [
    "# Data Imports\n",
    "\n",
    "#year_grocery = pd.read_csv(\"data/year_osward_grocery.csv\")\n",
    "#display(year_grocery.head())\n",
    "\n",
    "fast_food = pd.read_excel(\n",
    "    \"data/fast_food_ward.xlsx\", sheet_name=\"Ward Data\", header=[3], usecols=\"E,G\")\n",
    "display(fast_food.head())\n",
    "print(fast_food.shape)\n",
    "\n",
    "grocery_analysis = pd.read_pickle(\"data/grocery_nutripoints.pkl\")\n",
    "display(grocery_analysis.head())\n",
    "print(grocery_analysis.shape)"
   ]
  },
  {
   "cell_type": "markdown",
   "metadata": {},
   "source": [
    "### B) Merging\n",
    "\n",
    "We compare the number of lines of grocery and fast food and try to see how many they have in common. We then merge the two datasets."
   ]
  },
  {
   "cell_type": "code",
   "execution_count": 4,
   "metadata": {},
   "outputs": [
    {
     "name": "stdout",
     "output_type": "stream",
     "text": [
      "False\n"
     ]
    }
   ],
   "source": [
    "boolean = not grocery_analysis[\"area_id\"].is_unique      # True (credit to @Carsten)\n",
    "print(boolean)"
   ]
  },
  {
   "cell_type": "code",
   "execution_count": 5,
   "metadata": {
    "scrolled": true
   },
   "outputs": [
    {
     "data": {
      "text/plain": [
       "510"
      ]
     },
     "execution_count": 5,
     "metadata": {},
     "output_type": "execute_result"
    }
   ],
   "source": [
    "len(set(grocery_analysis[\"area_id\"].values))"
   ]
  },
  {
   "cell_type": "code",
   "execution_count": 16,
   "metadata": {},
   "outputs": [
    {
     "data": {
      "text/plain": [
       "area_id                 False\n",
       "energy_fat              False\n",
       "energy_saturate         False\n",
       "energy_sugar            False\n",
       "energy_protein          False\n",
       "energy_carb             False\n",
       "energy_fibre            False\n",
       "energy_alcohol          False\n",
       "energy_tot              False\n",
       "h_nutrients_calories    False\n",
       "nutripoints             False\n",
       "nutri_class             False\n",
       "dtype: bool"
      ]
     },
     "execution_count": 16,
     "metadata": {},
     "output_type": "execute_result"
    }
   ],
   "source": [
    "grocery_analysis.isna().any()"
   ]
  },
  {
   "cell_type": "code",
   "execution_count": 6,
   "metadata": {},
   "outputs": [
    {
     "data": {
      "text/plain": [
       "5832"
      ]
     },
     "execution_count": 6,
     "metadata": {},
     "output_type": "execute_result"
    }
   ],
   "source": [
    "len(set(fast_food[\"2015 Ward code\"].values))"
   ]
  },
  {
   "cell_type": "code",
   "execution_count": 15,
   "metadata": {},
   "outputs": [
    {
     "data": {
      "text/plain": [
       "2015 Ward code      False\n",
       "Count of outlets    False\n",
       "dtype: bool"
      ]
     },
     "execution_count": 15,
     "metadata": {},
     "output_type": "execute_result"
    }
   ],
   "source": [
    "fast_food.isna().any()"
   ]
  },
  {
   "cell_type": "code",
   "execution_count": 17,
   "metadata": {},
   "outputs": [
    {
     "data": {
      "text/plain": [
       "2015 Ward code      False\n",
       "Count of outlets    False\n",
       "dtype: bool"
      ]
     },
     "execution_count": 17,
     "metadata": {},
     "output_type": "execute_result"
    }
   ],
   "source": [
    "fast_food.isnull().any()"
   ]
  },
  {
   "cell_type": "code",
   "execution_count": 13,
   "metadata": {},
   "outputs": [
    {
     "data": {
      "text/plain": [
       "440"
      ]
     },
     "execution_count": 13,
     "metadata": {},
     "output_type": "execute_result"
    }
   ],
   "source": [
    "len(set(fast_food[\"2015 Ward code\"].values)\n",
    "    & set(grocery_analysis[\"area_id\"].values))"
   ]
  },
  {
   "cell_type": "markdown",
   "metadata": {},
   "source": [
    "We loose 70 values by merging.  "
   ]
  },
  {
   "cell_type": "code",
   "execution_count": 14,
   "metadata": {
    "scrolled": true
   },
   "outputs": [
    {
     "data": {
      "text/html": [
       "<div>\n",
       "<style scoped>\n",
       "    .dataframe tbody tr th:only-of-type {\n",
       "        vertical-align: middle;\n",
       "    }\n",
       "\n",
       "    .dataframe tbody tr th {\n",
       "        vertical-align: top;\n",
       "    }\n",
       "\n",
       "    .dataframe thead th {\n",
       "        text-align: right;\n",
       "    }\n",
       "</style>\n",
       "<table border=\"1\" class=\"dataframe\">\n",
       "  <thead>\n",
       "    <tr style=\"text-align: right;\">\n",
       "      <th></th>\n",
       "      <th>area_id</th>\n",
       "      <th>energy_fat</th>\n",
       "      <th>energy_saturate</th>\n",
       "      <th>energy_sugar</th>\n",
       "      <th>energy_protein</th>\n",
       "      <th>energy_carb</th>\n",
       "      <th>energy_fibre</th>\n",
       "      <th>energy_alcohol</th>\n",
       "      <th>energy_tot</th>\n",
       "      <th>h_nutrients_calories</th>\n",
       "      <th>nutripoints</th>\n",
       "      <th>nutri_class</th>\n",
       "      <th>Count of outlets</th>\n",
       "    </tr>\n",
       "  </thead>\n",
       "  <tbody>\n",
       "    <tr>\n",
       "      <th>0</th>\n",
       "      <td>E05000336</td>\n",
       "      <td>78.864004</td>\n",
       "      <td>32.414378</td>\n",
       "      <td>38.719523</td>\n",
       "      <td>21.433875</td>\n",
       "      <td>71.160848</td>\n",
       "      <td>2.994211</td>\n",
       "      <td>1.741239</td>\n",
       "      <td>176.194176</td>\n",
       "      <td>1.582813</td>\n",
       "      <td>10.0</td>\n",
       "      <td>0</td>\n",
       "      <td>15</td>\n",
       "    </tr>\n",
       "    <tr>\n",
       "      <th>1</th>\n",
       "      <td>E05000605</td>\n",
       "      <td>84.561946</td>\n",
       "      <td>33.918637</td>\n",
       "      <td>36.141050</td>\n",
       "      <td>22.015479</td>\n",
       "      <td>69.832483</td>\n",
       "      <td>3.067818</td>\n",
       "      <td>1.697021</td>\n",
       "      <td>181.174746</td>\n",
       "      <td>1.575484</td>\n",
       "      <td>9.0</td>\n",
       "      <td>4</td>\n",
       "      <td>13</td>\n",
       "    </tr>\n",
       "    <tr>\n",
       "      <th>2</th>\n",
       "      <td>E05000252</td>\n",
       "      <td>80.542785</td>\n",
       "      <td>31.635739</td>\n",
       "      <td>33.648475</td>\n",
       "      <td>22.141379</td>\n",
       "      <td>61.322242</td>\n",
       "      <td>3.149138</td>\n",
       "      <td>1.689631</td>\n",
       "      <td>168.845175</td>\n",
       "      <td>1.598050</td>\n",
       "      <td>8.5</td>\n",
       "      <td>4</td>\n",
       "      <td>8</td>\n",
       "    </tr>\n",
       "    <tr>\n",
       "      <th>3</th>\n",
       "      <td>E05000427</td>\n",
       "      <td>77.568453</td>\n",
       "      <td>30.521094</td>\n",
       "      <td>35.742617</td>\n",
       "      <td>22.364672</td>\n",
       "      <td>66.992603</td>\n",
       "      <td>2.985766</td>\n",
       "      <td>1.760651</td>\n",
       "      <td>171.672145</td>\n",
       "      <td>1.600125</td>\n",
       "      <td>9.0</td>\n",
       "      <td>4</td>\n",
       "      <td>14</td>\n",
       "    </tr>\n",
       "    <tr>\n",
       "      <th>4</th>\n",
       "      <td>E05000595</td>\n",
       "      <td>82.975277</td>\n",
       "      <td>33.302798</td>\n",
       "      <td>37.707033</td>\n",
       "      <td>21.336347</td>\n",
       "      <td>71.447922</td>\n",
       "      <td>2.947414</td>\n",
       "      <td>1.372449</td>\n",
       "      <td>180.079409</td>\n",
       "      <td>1.559561</td>\n",
       "      <td>9.0</td>\n",
       "      <td>4</td>\n",
       "      <td>25</td>\n",
       "    </tr>\n",
       "  </tbody>\n",
       "</table>\n",
       "</div>"
      ],
      "text/plain": [
       "     area_id  energy_fat  energy_saturate  energy_sugar  energy_protein  \\\n",
       "0  E05000336   78.864004        32.414378     38.719523       21.433875   \n",
       "1  E05000605   84.561946        33.918637     36.141050       22.015479   \n",
       "2  E05000252   80.542785        31.635739     33.648475       22.141379   \n",
       "3  E05000427   77.568453        30.521094     35.742617       22.364672   \n",
       "4  E05000595   82.975277        33.302798     37.707033       21.336347   \n",
       "\n",
       "   energy_carb  energy_fibre  energy_alcohol  energy_tot  \\\n",
       "0    71.160848      2.994211        1.741239  176.194176   \n",
       "1    69.832483      3.067818        1.697021  181.174746   \n",
       "2    61.322242      3.149138        1.689631  168.845175   \n",
       "3    66.992603      2.985766        1.760651  171.672145   \n",
       "4    71.447922      2.947414        1.372449  180.079409   \n",
       "\n",
       "   h_nutrients_calories  nutripoints  nutri_class  Count of outlets  \n",
       "0              1.582813         10.0            0                15  \n",
       "1              1.575484          9.0            4                13  \n",
       "2              1.598050          8.5            4                 8  \n",
       "3              1.600125          9.0            4                14  \n",
       "4              1.559561          9.0            4                25  "
      ]
     },
     "metadata": {},
     "output_type": "display_data"
    },
    {
     "name": "stdout",
     "output_type": "stream",
     "text": [
      "(440, 13)\n"
     ]
    }
   ],
   "source": [
    "fastfood_grocery = pd.merge(\n",
    "    left=grocery_analysis, right=fast_food, left_on='area_id', right_on=\"2015 Ward code\")\n",
    "fastfood_grocery = fastfood_grocery.drop(\"2015 Ward code\", axis=1)\n",
    "display(fastfood_grocery.head())\n",
    "print(fastfood_grocery.shape)"
   ]
  },
  {
   "cell_type": "markdown",
   "metadata": {},
   "source": [
    "## II) Comprehension of the data\n",
    "\n",
    "### A) Distribution of the values: describe, boxplot, distplot"
   ]
  },
  {
   "cell_type": "code",
   "execution_count": 19,
   "metadata": {},
   "outputs": [
    {
     "data": {
      "text/html": [
       "<div>\n",
       "<style scoped>\n",
       "    .dataframe tbody tr th:only-of-type {\n",
       "        vertical-align: middle;\n",
       "    }\n",
       "\n",
       "    .dataframe tbody tr th {\n",
       "        vertical-align: top;\n",
       "    }\n",
       "\n",
       "    .dataframe thead th {\n",
       "        text-align: right;\n",
       "    }\n",
       "</style>\n",
       "<table border=\"1\" class=\"dataframe\">\n",
       "  <thead>\n",
       "    <tr style=\"text-align: right;\">\n",
       "      <th></th>\n",
       "      <th>energy_fat</th>\n",
       "      <th>energy_saturate</th>\n",
       "      <th>energy_sugar</th>\n",
       "      <th>energy_protein</th>\n",
       "      <th>energy_carb</th>\n",
       "      <th>energy_fibre</th>\n",
       "      <th>energy_alcohol</th>\n",
       "      <th>energy_tot</th>\n",
       "      <th>h_nutrients_calories</th>\n",
       "      <th>nutripoints</th>\n",
       "      <th>nutri_class</th>\n",
       "      <th>Count of outlets</th>\n",
       "    </tr>\n",
       "  </thead>\n",
       "  <tbody>\n",
       "    <tr>\n",
       "      <th>count</th>\n",
       "      <td>440.000000</td>\n",
       "      <td>440.000000</td>\n",
       "      <td>440.000000</td>\n",
       "      <td>440.000000</td>\n",
       "      <td>440.000000</td>\n",
       "      <td>440.000000</td>\n",
       "      <td>440.000000</td>\n",
       "      <td>440.000000</td>\n",
       "      <td>440.000000</td>\n",
       "      <td>440.000000</td>\n",
       "      <td>440.000000</td>\n",
       "      <td>440.000000</td>\n",
       "    </tr>\n",
       "    <tr>\n",
       "      <th>mean</th>\n",
       "      <td>80.653871</td>\n",
       "      <td>31.811113</td>\n",
       "      <td>40.031539</td>\n",
       "      <td>21.093016</td>\n",
       "      <td>71.787149</td>\n",
       "      <td>3.027993</td>\n",
       "      <td>1.679636</td>\n",
       "      <td>178.241665</td>\n",
       "      <td>1.573155</td>\n",
       "      <td>9.256818</td>\n",
       "      <td>1.752273</td>\n",
       "      <td>14.397727</td>\n",
       "    </tr>\n",
       "    <tr>\n",
       "      <th>std</th>\n",
       "      <td>2.909051</td>\n",
       "      <td>1.388606</td>\n",
       "      <td>3.306468</td>\n",
       "      <td>0.855441</td>\n",
       "      <td>5.520788</td>\n",
       "      <td>0.117759</td>\n",
       "      <td>0.364883</td>\n",
       "      <td>7.281531</td>\n",
       "      <td>0.025258</td>\n",
       "      <td>1.365437</td>\n",
       "      <td>1.656077</td>\n",
       "      <td>13.933081</td>\n",
       "    </tr>\n",
       "    <tr>\n",
       "      <th>min</th>\n",
       "      <td>67.111854</td>\n",
       "      <td>26.173163</td>\n",
       "      <td>30.149908</td>\n",
       "      <td>17.596480</td>\n",
       "      <td>52.921834</td>\n",
       "      <td>2.750710</td>\n",
       "      <td>0.715793</td>\n",
       "      <td>147.541243</td>\n",
       "      <td>1.465237</td>\n",
       "      <td>5.000000</td>\n",
       "      <td>0.000000</td>\n",
       "      <td>1.000000</td>\n",
       "    </tr>\n",
       "    <tr>\n",
       "      <th>25%</th>\n",
       "      <td>78.989452</td>\n",
       "      <td>30.955484</td>\n",
       "      <td>37.927397</td>\n",
       "      <td>20.696160</td>\n",
       "      <td>68.159543</td>\n",
       "      <td>2.947692</td>\n",
       "      <td>1.433929</td>\n",
       "      <td>173.856481</td>\n",
       "      <td>1.556885</td>\n",
       "      <td>8.500000</td>\n",
       "      <td>0.000000</td>\n",
       "      <td>7.000000</td>\n",
       "    </tr>\n",
       "    <tr>\n",
       "      <th>50%</th>\n",
       "      <td>80.448641</td>\n",
       "      <td>31.660923</td>\n",
       "      <td>39.643719</td>\n",
       "      <td>21.229909</td>\n",
       "      <td>71.872886</td>\n",
       "      <td>3.022663</td>\n",
       "      <td>1.660522</td>\n",
       "      <td>178.583441</td>\n",
       "      <td>1.573913</td>\n",
       "      <td>9.000000</td>\n",
       "      <td>1.000000</td>\n",
       "      <td>11.000000</td>\n",
       "    </tr>\n",
       "    <tr>\n",
       "      <th>75%</th>\n",
       "      <td>82.164445</td>\n",
       "      <td>32.544245</td>\n",
       "      <td>42.018439</td>\n",
       "      <td>21.675982</td>\n",
       "      <td>75.687417</td>\n",
       "      <td>3.093645</td>\n",
       "      <td>1.873801</td>\n",
       "      <td>182.536718</td>\n",
       "      <td>1.590158</td>\n",
       "      <td>10.000000</td>\n",
       "      <td>4.000000</td>\n",
       "      <td>18.000000</td>\n",
       "    </tr>\n",
       "    <tr>\n",
       "      <th>max</th>\n",
       "      <td>92.440804</td>\n",
       "      <td>38.690892</td>\n",
       "      <td>48.719140</td>\n",
       "      <td>23.005837</td>\n",
       "      <td>84.618879</td>\n",
       "      <td>3.617668</td>\n",
       "      <td>3.490972</td>\n",
       "      <td>197.674474</td>\n",
       "      <td>1.680088</td>\n",
       "      <td>14.500000</td>\n",
       "      <td>4.000000</td>\n",
       "      <td>147.000000</td>\n",
       "    </tr>\n",
       "  </tbody>\n",
       "</table>\n",
       "</div>"
      ],
      "text/plain": [
       "       energy_fat  energy_saturate  energy_sugar  energy_protein  energy_carb  \\\n",
       "count  440.000000       440.000000    440.000000      440.000000   440.000000   \n",
       "mean    80.653871        31.811113     40.031539       21.093016    71.787149   \n",
       "std      2.909051         1.388606      3.306468        0.855441     5.520788   \n",
       "min     67.111854        26.173163     30.149908       17.596480    52.921834   \n",
       "25%     78.989452        30.955484     37.927397       20.696160    68.159543   \n",
       "50%     80.448641        31.660923     39.643719       21.229909    71.872886   \n",
       "75%     82.164445        32.544245     42.018439       21.675982    75.687417   \n",
       "max     92.440804        38.690892     48.719140       23.005837    84.618879   \n",
       "\n",
       "       energy_fibre  energy_alcohol  energy_tot  h_nutrients_calories  \\\n",
       "count    440.000000      440.000000  440.000000            440.000000   \n",
       "mean       3.027993        1.679636  178.241665              1.573155   \n",
       "std        0.117759        0.364883    7.281531              0.025258   \n",
       "min        2.750710        0.715793  147.541243              1.465237   \n",
       "25%        2.947692        1.433929  173.856481              1.556885   \n",
       "50%        3.022663        1.660522  178.583441              1.573913   \n",
       "75%        3.093645        1.873801  182.536718              1.590158   \n",
       "max        3.617668        3.490972  197.674474              1.680088   \n",
       "\n",
       "       nutripoints  nutri_class  Count of outlets  \n",
       "count   440.000000   440.000000        440.000000  \n",
       "mean      9.256818     1.752273         14.397727  \n",
       "std       1.365437     1.656077         13.933081  \n",
       "min       5.000000     0.000000          1.000000  \n",
       "25%       8.500000     0.000000          7.000000  \n",
       "50%       9.000000     1.000000         11.000000  \n",
       "75%      10.000000     4.000000         18.000000  \n",
       "max      14.500000     4.000000        147.000000  "
      ]
     },
     "execution_count": 19,
     "metadata": {},
     "output_type": "execute_result"
    }
   ],
   "source": [
    "#Understanding better how the values are distributed\n",
    "fastfood_grocery.describe()"
   ]
  },
  {
   "cell_type": "code",
   "execution_count": 27,
   "metadata": {},
   "outputs": [
    {
     "data": {
      "text/plain": [
       "<AxesSubplot:ylabel='Count of outlets'>"
      ]
     },
     "execution_count": 27,
     "metadata": {},
     "output_type": "execute_result"
    },
    {
     "data": {
      "image/png": "[encoded data removed]",
      "text/plain": [
       "<Figure size 288x360 with 1 Axes>"
      ]
     },
     "metadata": {},
     "output_type": "display_data"
    }
   ],
   "source": [
    "fig = plt.figure(figsize=(4, 5))\n",
    "\n",
    "sns.boxplot(y=fastfood_grocery_analysis[\"Count of outlets\"])\n"
   ]
  },
  {
   "cell_type": "markdown",
   "metadata": {},
   "source": [
    "They are many outliers for the number of outlets going up to 147 whereas the median is at 11. Due to this phenomenom, the mean is quite high whereas half 75% of the values are between 1 and 18. "
   ]
  },
  {
   "cell_type": "code",
   "execution_count": 28,
   "metadata": {
    "scrolled": true
   },
   "outputs": [
    {
     "data": {
      "text/plain": [
       "Text(0.5, 0.98, 'histplot for each column')"
      ]
     },
     "execution_count": 28,
     "metadata": {},
     "output_type": "execute_result"
    },
    {
     "data": {
      "image/png": "[encoded data removed]",
      "text/plain": [
       "<Figure size 1152x576 with 12 Axes>"
      ]
     },
     "metadata": {},
     "output_type": "display_data"
    }
   ],
   "source": [
    "fig, ax = plt.subplots(4, 3, figsize=(16, 8), sharey=False)\n",
    "\n",
    "for i in range(len(column_boxplot)):\n",
    "    sbplt = ax[int(i/3), i % 3]\n",
    "\n",
    "    sns.histplot(data=fastfood_grocery_analysis.iloc[:, i], ax=sbplt)\n",
    "    sbplt.set_xlabel('')\n",
    "    sbplt.set_ylabel('')\n",
    "    sbplt.set_title(fastfood_grocery_analysis.columns[i], wrap=True)\n",
    "\n",
    "fig.tight_layout()\n",
    "fig.subplots_adjust(top=0.9)\n",
    "\n",
    "fig.suptitle('histplot for each column', fontsize=18)"
   ]
  },
  {
   "cell_type": "markdown",
   "metadata": {},
   "source": [
    "Most of the nutritional variables seem to be normally distributed. On the other side, the number of outlets is more logarithmic. Most of the areas have between 5 and 10 fast foods but it go to 140! "
   ]
  },
  {
   "cell_type": "markdown",
   "metadata": {},
   "source": [
    "### B) Correlation between the number of fast food and the different nutritional variables"
   ]
  },
  {
   "cell_type": "code",
   "execution_count": 29,
   "metadata": {
    "scrolled": true
   },
   "outputs": [
    {
     "data": {
      "text/plain": [
       "<AxesSubplot:>"
      ]
     },
     "execution_count": 29,
     "metadata": {},
     "output_type": "execute_result"
    },
    {
     "data": {
      "image/png": "[encoded data removed]",
      "text/plain": [
       "<Figure size 720x432 with 2 Axes>"
      ]
     },
     "metadata": {},
     "output_type": "display_data"
    }
   ],
   "source": [
    "# Heatmap to visualize the correlation between the variables\n",
    "fig = plt.figure(figsize=(10, 6))\n",
    "sns.heatmap(fastfood_grocery_analysis.corr())"
   ]
  },
  {
   "cell_type": "markdown",
   "metadata": {},
   "source": [
    "The correlation with the number of oulets (the last column or row) seems really low as the colours are mainly red, corresponding to values around 0. We will display the correlation table for the count of outlets to better understand the importance of the correlation with the nutritional variables. "
   ]
  },
  {
   "cell_type": "code",
   "execution_count": 35,
   "metadata": {
    "scrolled": true
   },
   "outputs": [
    {
     "data": {
      "text/html": [
       "<div>\n",
       "<style scoped>\n",
       "    .dataframe tbody tr th:only-of-type {\n",
       "        vertical-align: middle;\n",
       "    }\n",
       "\n",
       "    .dataframe tbody tr th {\n",
       "        vertical-align: top;\n",
       "    }\n",
       "\n",
       "    .dataframe thead th {\n",
       "        text-align: right;\n",
       "    }\n",
       "</style>\n",
       "<table border=\"1\" class=\"dataframe\">\n",
       "  <thead>\n",
       "    <tr style=\"text-align: right;\">\n",
       "      <th></th>\n",
       "      <th>Count of outlets</th>\n",
       "    </tr>\n",
       "  </thead>\n",
       "  <tbody>\n",
       "    <tr>\n",
       "      <th>energy_fat</th>\n",
       "      <td>-0.010292</td>\n",
       "    </tr>\n",
       "    <tr>\n",
       "      <th>energy_saturate</th>\n",
       "      <td>-0.105991</td>\n",
       "    </tr>\n",
       "    <tr>\n",
       "      <th>energy_sugar</th>\n",
       "      <td>-0.012535</td>\n",
       "    </tr>\n",
       "    <tr>\n",
       "      <th>energy_protein</th>\n",
       "      <td>0.052572</td>\n",
       "    </tr>\n",
       "    <tr>\n",
       "      <th>energy_carb</th>\n",
       "      <td>0.034797</td>\n",
       "    </tr>\n",
       "    <tr>\n",
       "      <th>energy_fibre</th>\n",
       "      <td>-0.213410</td>\n",
       "    </tr>\n",
       "    <tr>\n",
       "      <th>energy_alcohol</th>\n",
       "      <td>0.000670</td>\n",
       "    </tr>\n",
       "    <tr>\n",
       "      <th>energy_tot</th>\n",
       "      <td>0.028182</td>\n",
       "    </tr>\n",
       "    <tr>\n",
       "      <th>h_nutrients_calories</th>\n",
       "      <td>-0.018201</td>\n",
       "    </tr>\n",
       "    <tr>\n",
       "      <th>nutripoints</th>\n",
       "      <td>0.007811</td>\n",
       "    </tr>\n",
       "    <tr>\n",
       "      <th>Count of outlets</th>\n",
       "      <td>1.000000</td>\n",
       "    </tr>\n",
       "  </tbody>\n",
       "</table>\n",
       "</div>"
      ],
      "text/plain": [
       "                      Count of outlets\n",
       "energy_fat                   -0.010292\n",
       "energy_saturate              -0.105991\n",
       "energy_sugar                 -0.012535\n",
       "energy_protein                0.052572\n",
       "energy_carb                   0.034797\n",
       "energy_fibre                 -0.213410\n",
       "energy_alcohol                0.000670\n",
       "energy_tot                    0.028182\n",
       "h_nutrients_calories         -0.018201\n",
       "nutripoints                   0.007811\n",
       "Count of outlets              1.000000"
      ]
     },
     "metadata": {},
     "output_type": "display_data"
    }
   ],
   "source": [
    "correlation = fastfood_grocery_analysis.corr(method=\"spearman\")\n",
    "display(correlation[[\"Count of outlets\"]])"
   ]
  },
  {
   "cell_type": "code",
   "execution_count": 32,
   "metadata": {},
   "outputs": [
    {
     "data": {
      "image/png": "[encoded data removed]",
      "text/plain": [
       "<Figure size 1008x216 with 1 Axes>"
      ]
     },
     "metadata": {},
     "output_type": "display_data"
    }
   ],
   "source": [
    "plt.figure(figsize=(14, 3))\n",
    "correlation[\"Count of outlets\"].plot.bar(\n",
    "    x=None, y=None, width=0.8, legend=None)\n",
    "plt.ylabel(\"Spearman R\")\n",
    "plt.title(\"Correlation fast food outlets\")\n",
    "plt.show()"
   ]
  },
  {
   "cell_type": "markdown",
   "metadata": {},
   "source": [
    "The number of fast food is not at all correlated with the nutripoints. Furthermore, there is almost no correlation with other variables. Therefore, it is hardly justifiable to predict the nutritional informations of the avergae product of an area from the number of fast food.\n",
    "\n",
    "We will however try to further investigate this correlation. "
   ]
  },
  {
   "cell_type": "markdown",
   "metadata": {},
   "source": [
    "## Regression Analysis"
   ]
  },
  {
   "cell_type": "markdown",
   "metadata": {},
   "source": [
    "### A) Linear Regression of nutripoints from the number of fastfood"
   ]
  },
  {
   "cell_type": "code",
   "execution_count": 46,
   "metadata": {},
   "outputs": [
    {
     "name": "stdout",
     "output_type": "stream",
     "text": [
      "                            OLS Regression Results                            \n",
      "==============================================================================\n",
      "Dep. Variable:            nutripoints   R-squared:                       0.002\n",
      "Model:                            OLS   Adj. R-squared:                 -0.001\n",
      "Method:                 Least Squares   F-statistic:                    0.6930\n",
      "Date:                Sun, 13 Dec 2020   Prob (F-statistic):              0.406\n",
      "Time:                        18:20:47   Log-Likelihood:                -760.53\n",
      "No. Observations:                 440   AIC:                             1525.\n",
      "Df Residuals:                     438   BIC:                             1533.\n",
      "Df Model:                           1                                         \n",
      "Covariance Type:            nonrobust                                         \n",
      "====================================================================================\n",
      "                       coef    std err          t      P>|t|      [0.025      0.975]\n",
      "------------------------------------------------------------------------------------\n",
      "const                9.3129      0.094     99.398      0.000       9.129       9.497\n",
      "Count of outlets    -0.0039      0.005     -0.832      0.406      -0.013       0.005\n",
      "==============================================================================\n",
      "Omnibus:                        4.974   Durbin-Watson:                   1.928\n",
      "Prob(Omnibus):                  0.083   Jarque-Bera (JB):                4.741\n",
      "Skew:                           0.239   Prob(JB):                       0.0934\n",
      "Kurtosis:                       3.176   Cond. No.                         28.8\n",
      "==============================================================================\n",
      "\n",
      "Notes:\n",
      "[1] Standard Errors assume that the covariance matrix of the errors is correctly specified.\n"
     ]
    }
   ],
   "source": [
    "# Understanding the linear regression between the two variables\n",
    "Y = fastfood_grocery[[\"nutripoints\"]]\n",
    "X1 = fastfood_grocery[[\"Count of outlets\"]]\n",
    "X = sm.add_constant(X1)  # adding a constant\n",
    "\n",
    "model = sm.OLS(Y, X).fit()\n",
    "predictions = model.predict(X)\n",
    "\n",
    "print_model = model.summary()\n",
    "print(print_model)"
   ]
  },
  {
   "cell_type": "markdown",
   "metadata": {},
   "source": [
    "The R-squared is very small: 0.002, meaning we can only predict 0.2% of our nutripoints from the number of fast food. Furthermore, the coeeficient of this latter is neglectable as it is -0.0039, the intercept is the one having the more weight in this regression. Therefore, we can conclude that the Linear Regression is not the adapted regression for prediction of nutripoints of each area from the number of fastfood. It actually makes sense as there was almost no correlation between these two variables, it is actually difficult to predict one from the other. "
   ]
  },
  {
   "cell_type": "markdown",
   "metadata": {},
   "source": [
    "### B) Gradient boosting Regressor\n",
    "\n",
    "We know that there is almost no correlation and that the Linear Regression is not representative at all. However, we still wanted to explore if another type of regression: the Gradient Boosting method, would be more concluent. "
   ]
  },
  {
   "cell_type": "code",
   "execution_count": 47,
   "metadata": {},
   "outputs": [],
   "source": [
    "# train a gradient boosting regressor\n",
    "gradboost = GradientBoostingRegressor()"
   ]
  },
  {
   "cell_type": "code",
   "execution_count": 51,
   "metadata": {},
   "outputs": [],
   "source": [
    "y=fastfood_grocery[\"nutripoints\"]\n",
    "predicted_y = cross_val_predict(gradboost, X, y, cv=5)"
   ]
  },
  {
   "cell_type": "code",
   "execution_count": 52,
   "metadata": {},
   "outputs": [
    {
     "data": {
      "image/png": "[encoded data removed]",
      "text/plain": [
       "<Figure size 864x576 with 1 Axes>"
      ]
     },
     "metadata": {},
     "output_type": "display_data"
    }
   ],
   "source": [
    "# Plot the results\n",
    "fig, ax = plt.subplots(figsize=(12, 8))\n",
    "ax.scatter(Y, predicted_y, edgecolors=(0, 0, 0))\n",
    "ax.set_xlabel('Original')\n",
    "ax.set_ylabel('Predicted')\n",
    "plt.show()"
   ]
  },
  {
   "cell_type": "markdown",
   "metadata": {},
   "source": [
    "If the prediction was representative of the nutripoints, we should observe a diagonal line, it is not what we have at all. This means that for a certain nutripoints, the predicted one from the Gradient Boosting Regression is higher or smaller than the original value. \n",
    "\n",
    "To confirm this assumption, we compute the mean squared error and the R-squared value:"
   ]
  },
  {
   "cell_type": "code",
   "execution_count": 50,
   "metadata": {},
   "outputs": [
    {
     "name": "stdout",
     "output_type": "stream",
     "text": [
      "-0.12766332059740226 2.0976576410643757\n"
     ]
    }
   ],
   "source": [
    "r2 = r2_score(Y, predicted_y)\n",
    "mse = mean_squared_error(Y, predicted_y)\n",
    "print(r2, mse)"
   ]
  },
  {
   "cell_type": "markdown",
   "metadata": {},
   "source": [
    "The R-squared is very small and negative. A horizontal line would actually be more representative of our regression. Furthermore, the mean squared error is very high. The regression is therefore not representative neither of our nutripoints variable. "
   ]
  },
  {
   "cell_type": "markdown",
   "metadata": {},
   "source": [
    "## Conclusion \n",
    "\n",
    "As the correlation predicted it, it is not possible to find a good regression in order to predict the nutripoints from the number of fast food of an area. Indeed, there are almost not correlated making it difficult to have high coefficient for our regressions. \n",
    "\n",
    "Having the average products per area, actually, makes it difficult to have a representation of how healthy the inhabitants of an area consume. A high nutripoint doesn't necessary mean that the consumers of this area consume more fatty or sugary products. Furthermore, an unheleathy average product is not linked to a high number of fastfoods. However, it could be interesting to see if the richest areas have less fast foods making the assumption that the inhabitants would prefer to go in a real restaurant.  "
   ]
  }
 ],
 "metadata": {
  "kernelspec": {
   "display_name": "Python 3",
   "language": "python",
   "name": "python3"
  },
  "language_info": {
   "codemirror_mode": {
    "name": "ipython",
    "version": 3
   },
   "file_extension": ".py",
   "mimetype": "text/x-python",
   "name": "python",
   "nbconvert_exporter": "python",
   "pygments_lexer": "ipython3",
   "version": "3.7.4"
  }
 },
 "nbformat": 4,
 "nbformat_minor": 4
}
