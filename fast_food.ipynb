{
 "cells": [
  {
   "cell_type": "code",
   "execution_count": null,
   "metadata": {},
   "outputs": [],
   "source": [
    "# Imports\n",
    "from utils import calculate_nutripoints\n",
    "from sklearn.cluster import KMeans, DBSCAN\n",
    "from statsmodels.stats import diagnostic\n",
    "import statsmodels.formula.api as smf\n",
    "import statsmodels.api as sm\n",
    "from scipy import stats\n",
    "from scipy.stats import pearsonr\n",
    "from sklearn.preprocessing import StandardScaler\n",
    "from sklearn.decomposition import PCA\n",
    "from sklearn.metrics import silhouette_score\n",
    "from sklearn.linear_model import LinearRegression, LogisticRegression, Ridge\n",
    "from sklearn.neighbors import KNeighborsClassifier\n",
    "from sklearn.ensemble import GradientBoostingRegressor\n",
    "from sklearn.model_selection import cross_val_predict, train_test_split, cross_val_score\n",
    "from sklearn.metrics import mean_squared_error, auc, roc_curve, r2_score\n",
    "from sklearn.feature_selection import RFE\n",
    "import math\n",
    "from IPython.display import display\n",
    "import numpy as np\n",
    "import matplotlib.pyplot as plt\n",
    "import pandas as pd\n",
    "import seaborn as sns\n",
    "\n",
    "%matplotlib inline\n",
    "sns.set_theme()"
   ]
  },
  {
   "cell_type": "code",
   "execution_count": null,
   "metadata": {
    "scrolled": true
   },
   "outputs": [],
   "source": [
    "# Data Imports\n",
    "\n",
    "year_grocery = pd.read_csv(\"data/year_osward_grocery.csv\")\n",
    "display(year_grocery.head())\n",
    "print(year_grocery.shape)\n",
    "\n",
    "fast_food = pd.read_excel(\n",
    "    \"data/Fast_food.xlsx\", sheet_name=\"Ward Data\", header=[3], usecols=\"E,G\")\n",
    "display(fast_food.head())\n",
    "print(fast_food.shape)"
   ]
  },
  {
   "cell_type": "code",
   "execution_count": null,
   "metadata": {},
   "outputs": [],
   "source": [
    "# year_grocery=year_grocery.sort_values(by='representativeness_norm', ascending=False, ignore_index=True)\n",
    "year_grocery = year_grocery.nlargest(\n",
    "    int(0.8*len(year_grocery)), 'representativeness_norm')"
   ]
  },
  {
   "cell_type": "code",
   "execution_count": null,
   "metadata": {},
   "outputs": [],
   "source": [
    "#nutripoints=['nutri_energy','nutri_sugar', 'nutri_saturate', 'nutri_sodium', 'nutri_fibre', 'nutri_protein', 'nutri_fruit_veg']\n",
    "year_grocery[\"nutripoints\"] = year_grocery.apply(calculate_nutripoints, axis=1)\n",
    "year_grocery[\"nutripoints\"].describe()"
   ]
  },
  {
   "cell_type": "code",
   "execution_count": null,
   "metadata": {
    "scrolled": true
   },
   "outputs": [],
   "source": [
    "print(year_grocery.isna().any())\n",
    "display(year_grocery.head())\n",
    "print(year_grocery.shape)"
   ]
  },
  {
   "cell_type": "code",
   "execution_count": null,
   "metadata": {
    "scrolled": true
   },
   "outputs": [],
   "source": [
    "list_column = [\"area_id\", \"energy_tot\", \"energy_fat\", \"energy_saturate\", \"energy_sugar\", \"energy_protein\", \"energy_carb\",\n",
    "               \"energy_fibre\", \"energy_alcohol\", \"h_nutrients_calories\", \"nutripoints\"]\n",
    "year_grocery = year_grocery.loc[:,\n",
    "                                year_grocery.columns.isin(list(list_column))]\n",
    "display(year_grocery.head())"
   ]
  },
  {
   "cell_type": "code",
   "execution_count": null,
   "metadata": {
    "scrolled": true
   },
   "outputs": [],
   "source": [
    "len(set(year_grocery[\"area_id\"].values))"
   ]
  },
  {
   "cell_type": "code",
   "execution_count": null,
   "metadata": {},
   "outputs": [],
   "source": [
    "len(set(fast_food[\"2015 Ward code\"].values))"
   ]
  },
  {
   "cell_type": "code",
   "execution_count": null,
   "metadata": {},
   "outputs": [],
   "source": [
    "len(set(fast_food[\"2015 Ward code\"].values)\n",
    "    & set(year_grocery[\"area_id\"].values))"
   ]
  },
  {
   "cell_type": "code",
   "execution_count": null,
   "metadata": {},
   "outputs": [],
   "source": [
    "fastfood_grocery = pd.merge(\n",
    "    left=year_grocery, right=fast_food, left_on='area_id', right_on=\"2015 Ward code\")\n",
    "fastfood_grocery = fastfood_grocery.drop(\"2015 Ward code\", axis=1)\n",
    "display(fastfood_grocery.head())\n",
    "print(fastfood_grocery.shape)"
   ]
  },
  {
   "cell_type": "code",
   "execution_count": null,
   "metadata": {},
   "outputs": [],
   "source": [
    "# Comprehension of the data\n",
    "fastfood_grocery_columns = fastfood_grocery.columns.values.tolist()\n",
    "fastfood_grocery_columns"
   ]
  },
  {
   "cell_type": "code",
   "execution_count": null,
   "metadata": {
    "scrolled": true
   },
   "outputs": [],
   "source": [
    "fastfood_grocery.isnull().any()"
   ]
  },
  {
   "cell_type": "code",
   "execution_count": null,
   "metadata": {},
   "outputs": [],
   "source": [
    "fastfood_grocery.describe()"
   ]
  },
  {
   "cell_type": "code",
   "execution_count": null,
   "metadata": {},
   "outputs": [],
   "source": [
    "columns_grocery = [\n",
    "    'energy_fat',\n",
    "    'energy_saturate',\n",
    "    'energy_sugar',\n",
    "    'energy_protein',\n",
    "    'energy_carb',\n",
    "    'energy_fibre',\n",
    "    'energy_alcohol',\n",
    "    'energy_tot',\n",
    "    'h_nutrients_calories',\n",
    "    'nutripoints',\n",
    "    'Count of outlets'\n",
    "]\n",
    "\n",
    "column_boxplot = columns_grocery\n",
    "\n",
    "fastfood_grocery_analysis = fastfood_grocery[column_boxplot].copy()\n",
    "fig, ax = plt.subplots(4, 3, figsize=(16, 8), sharey=False)\n",
    "\n",
    "for i in range(len(column_boxplot)):\n",
    "    sbplt = ax[int(i/3), i % 3]\n",
    "\n",
    "    sns.boxplot(data=fastfood_grocery_analysis.iloc[:, i], ax=sbplt)\n",
    "    sbplt.set_xlabel('')\n",
    "    sbplt.set_ylabel('')\n",
    "    sbplt.set_title(\n",
    "        fastfood_grocery_analysis.columns[i], loc='center', wrap=True)\n",
    "\n",
    "fig.tight_layout()\n",
    "fig.subplots_adjust(top=0.9)\n",
    "\n",
    "fig.suptitle('boxplot for each column', fontsize=18)"
   ]
  },
  {
   "cell_type": "markdown",
   "metadata": {},
   "source": [
    "We observe that they are some outliers for the different variables. This is due to the differences between the different ward. "
   ]
  },
  {
   "cell_type": "code",
   "execution_count": null,
   "metadata": {
    "scrolled": true
   },
   "outputs": [],
   "source": [
    "fig, ax = plt.subplots(4, 3, figsize=(16, 8), sharey=False)\n",
    "\n",
    "for i in range(len(column_boxplot)):\n",
    "    sbplt = ax[int(i/3), i % 3]\n",
    "\n",
    "    sns.histplot(data=fastfood_grocery_analysis.iloc[:, i], ax=sbplt)\n",
    "    sbplt.set_xlabel('')\n",
    "    sbplt.set_ylabel('')\n",
    "    sbplt.set_title(fastfood_grocery_analysis.columns[i], wrap=True)\n",
    "\n",
    "fig.tight_layout()\n",
    "fig.subplots_adjust(top=0.9)\n",
    "\n",
    "fig.suptitle('histplot for each column', fontsize=18)"
   ]
  },
  {
   "cell_type": "code",
   "execution_count": null,
   "metadata": {},
   "outputs": [],
   "source": [
    "# correlations\n",
    "fig = plt.figure(figsize=(10, 6))\n",
    "sns.heatmap(fastfood_grocery_analysis.corr())"
   ]
  },
  {
   "cell_type": "code",
   "execution_count": null,
   "metadata": {
    "scrolled": true
   },
   "outputs": [],
   "source": [
    "correlation = fastfood_grocery_analysis.corr(method=\"spearman\")\n",
    "display(correlation)"
   ]
  },
  {
   "cell_type": "code",
   "execution_count": null,
   "metadata": {},
   "outputs": [],
   "source": [
    "plt.figure(figsize=(14, 3))\n",
    "display(correlation[\"Count of outlets\"])\n",
    "correlation[\"Count of outlets\"].plot.bar(\n",
    "    x=None, y=None, width=0.8, legend=None)\n",
    "plt.ylabel(\"Spearman R\")\n",
    "plt.title(\"Correlation fast food outlets\")\n",
    "plt.show()"
   ]
  },
  {
   "cell_type": "code",
   "execution_count": null,
   "metadata": {},
   "outputs": [],
   "source": [
    "plt.figure(figsize=(14, 3))\n",
    "correlation[\"h_nutrients_calories\"].plot.bar(\n",
    "    x=None, y=None, width=0.8, legend=None)\n",
    "plt.ylabel(\"Spearman R\")\n",
    "plt.title(\"Correlation entropy\")\n",
    "plt.show()"
   ]
  },
  {
   "cell_type": "code",
   "execution_count": null,
   "metadata": {
    "scrolled": true
   },
   "outputs": [],
   "source": [
    "plt.figure(figsize=(14, 3))\n",
    "correlation[\"nutripoints\"].plot.bar(x=None, y=None, width=0.8, legend=None)\n",
    "plt.ylabel(\"Spearman R\")\n",
    "plt.title(\"Correlation energy tot\")\n",
    "plt.show()"
   ]
  },
  {
   "cell_type": "code",
   "execution_count": null,
   "metadata": {},
   "outputs": [],
   "source": [
    "scaler = StandardScaler()\n",
    "fastfood_grocery_analysis[fastfood_grocery_analysis.columns] = scaler.fit_transform(fastfood_grocery_analysis\n",
    "                                                                                    [fastfood_grocery_analysis.columns])\n",
    "fastfood_grocery_analysis.describe()"
   ]
  },
  {
   "cell_type": "code",
   "execution_count": null,
   "metadata": {},
   "outputs": [],
   "source": [
    "Y = fastfood_grocery[[\"nutripoints\"]]\n",
    "X = fastfood_grocery[[\"Count of outlets\"]]\n",
    "X = sm.add_constant(X)  # adding a constant\n",
    "\n",
    "model = sm.OLS(Y, X).fit()\n",
    "predictions = model.predict(X)\n",
    "\n",
    "print_model = model.summary()\n",
    "print(print_model)"
   ]
  },
  {
   "cell_type": "code",
   "execution_count": null,
   "metadata": {},
   "outputs": [],
   "source": [
    "columns_kmeans = ['nutripoints']\n",
    "fastfood_grocery_kmeans = fastfood_grocery[columns_kmeans].copy()\n",
    "\n",
    "\n",
    "def plot_sse(X, start=2, end=11):\n",
    "    sse = []\n",
    "    for k in range(start, end):\n",
    "        # Assign the labels to the clusters\n",
    "        kmeans = KMeans(n_clusters=k, random_state=10).fit(X)\n",
    "        sse.append({\"k\": k, \"sse\": kmeans.inertia_})\n",
    "    sse = pd.DataFrame(sse)\n",
    "    # Plot the data\n",
    "    plt.plot(sse.k, sse.sse)\n",
    "    plt.xlabel(\"K\")\n",
    "    plt.ylabel(\"Sum of Squared Errors\")\n",
    "\n",
    "\n",
    "plot_sse(fastfood_grocery_kmeans)"
   ]
  },
  {
   "cell_type": "code",
   "execution_count": null,
   "metadata": {},
   "outputs": [],
   "source": [
    "#######    silhouette scores to choose k    #########\n",
    "silhouettes = []\n",
    "for k in range(2, 11):  # Try multiple k\n",
    "    # Cluster the data and assigne the labels\n",
    "    labels = KMeans(n_clusters=k, random_state=10).fit_predict(\n",
    "        fastfood_grocery_kmeans)\n",
    "    # Get the Silhouette score\n",
    "    score = silhouette_score(fastfood_grocery_kmeans, labels)\n",
    "    silhouettes.append({\"k\": k, \"score\": score})\n",
    "\n",
    "silhouettes = pd.DataFrame(silhouettes)  # Convert to dataframe\n",
    "\n",
    "# Plot the data\n",
    "plt.plot(silhouettes.k, silhouettes.score)\n",
    "plt.xlabel(\"K\")\n",
    "plt.ylabel(\"Silhouette score\")"
   ]
  },
  {
   "cell_type": "code",
   "execution_count": null,
   "metadata": {},
   "outputs": [],
   "source": [
    "fig, axs = plt.subplots(1, 1, figsize=(10, 8), sharey=True, sharex=True)\n",
    "\n",
    "# Cluster the data with the current number of clusters\n",
    "kmean = KMeans(n_clusters=4, random_state=42).fit(fastfood_grocery_kmeans)\n",
    "\n",
    "# Plot the data by using the labels as color\n",
    "#axs.scatter(wellbeing_grocery_kmeans, wellbeing_grocery_kmeans, c=kmean.labels_)\n",
    "fastfood_grocery_kmeans['label'] = kmean.labels_\n",
    "sns.swarmplot(data=fastfood_grocery_kmeans, x='nutripoints',\n",
    "              ax=axs, hue=fastfood_grocery_kmeans.label)\n",
    "# Plot the centroids\n",
    "# for c in kmean.cluster_centers_:\n",
    "#axs.scatter(c[0], c[1], marker=\"+\", color=\"red\")"
   ]
  },
  {
   "cell_type": "code",
   "execution_count": null,
   "metadata": {
    "scrolled": true
   },
   "outputs": [],
   "source": [
    "fastfood_grocery[\"nutri_label\"] = kmean.labels_\n",
    "fastfood_grocery.groupby(\"nutri_label\")[\"nutripoints\"].min()"
   ]
  },
  {
   "cell_type": "code",
   "execution_count": null,
   "metadata": {},
   "outputs": [],
   "source": [
    "## linear regression ##\n",
    "lin_reg = LinearRegression()  # create the model\n",
    "lin_reg.fit(X, Y)  # train it"
   ]
  },
  {
   "cell_type": "code",
   "execution_count": null,
   "metadata": {},
   "outputs": [],
   "source": [
    "print(\"{0} * {1} + \".format(lin_reg.coef_[0], \"Count of outlets\"))\n",
    "print(lin_reg.intercept_)"
   ]
  },
  {
   "cell_type": "code",
   "execution_count": null,
   "metadata": {},
   "outputs": [],
   "source": [
    "# train a gradient boosting regressor\n",
    "gradboost = GradientBoostingRegressor()\n",
    "\n",
    "# compute r^2 for this new model\n",
    "#r2_random_gradboost = gradboost_random.score(train_X, train_y)\n",
    "\n",
    "#print(f\"R² for the Gradient Boost Regression: {r2_random_gradboost}\")"
   ]
  },
  {
   "cell_type": "code",
   "execution_count": null,
   "metadata": {},
   "outputs": [],
   "source": [
    "predicted_y = cross_val_predict(gradboost, X, Y, cv=5)"
   ]
  },
  {
   "cell_type": "code",
   "execution_count": null,
   "metadata": {},
   "outputs": [],
   "source": [
    "# Plot the results\n",
    "fig, ax = plt.subplots(figsize=(12, 8))\n",
    "ax.scatter(Y, predicted_y, edgecolors=(0, 0, 0))\n",
    "ax.set_xlabel('Original')\n",
    "ax.set_ylabel('Predicted')\n",
    "plt.show()"
   ]
  },
  {
   "cell_type": "code",
   "execution_count": null,
   "metadata": {},
   "outputs": [],
   "source": [
    "r2 = r2_score(Y, predicted_y)\n",
    "mse = mean_squared_error(Y, predicted_y)\n",
    "print(r2, mse)"
   ]
  }
 ],
 "metadata": {
  "kernelspec": {
   "display_name": "Python 3",
   "language": "python",
   "name": "python3"
  },
  "language_info": {
   "codemirror_mode": {
    "name": "ipython",
    "version": 3
   },
   "file_extension": ".py",
   "mimetype": "text/x-python",
   "name": "python",
   "nbconvert_exporter": "python",
   "pygments_lexer": "ipython3",
   "version": "3.8.5"
  }
 },
 "nbformat": 4,
 "nbformat_minor": 4
}
