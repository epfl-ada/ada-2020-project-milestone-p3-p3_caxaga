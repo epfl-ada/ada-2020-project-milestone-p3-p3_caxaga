{
 "cells": [
  {
   "cell_type": "code",
   "execution_count": 1,
   "metadata": {},
   "outputs": [],
   "source": [
    "import plotly.graph_objects as go\n",
    "import json\n",
    "import pandas as pd\n",
    "\n",
    "from utils import calculate_nutripoints"
   ]
  },
  {
   "cell_type": "code",
   "execution_count": 2,
   "metadata": {},
   "outputs": [],
   "source": [
    "# Geojson data source:\n",
    "# https://github.com/ft-interactive/geo-data/blob/master/uk/london/london-wards-2014.geojson\n",
    "\n",
    "GEO_DATA_PATH = 'data/london-wards-2014.geojson'\n",
    "\n",
    "with open(GEO_DATA_PATH) as f:\n",
    "    geo_london = json.load(f)\n",
    "\n",
    "year_grocery = pd.read_csv(\"data/year_osward_grocery.csv\")\n",
    "\n",
    "year_grocery[\"nutripoints\"] = year_grocery.apply(calculate_nutripoints, axis=1)\n",
    "\n",
    "wellbeing_scores = pd.read_excel(\n",
    "    \"data/london-ward-well-being-probability-scores.xls\", sheet_name=\"Scores\", header=[0, 1])\n",
    "wellbeing_scores = wellbeing_scores.loc[:, (slice(\n",
    "    None), [2013, \"New ward code\", \"Ward name\", \"Borough\"])].dropna(how=\"all\")\n",
    "wellbeing_scores = wellbeing_scores.droplevel(1, axis=1)\n",
    "\n",
    "wellbeing_grocery = pd.merge(\n",
    "    left=year_grocery, right=wellbeing_scores, left_on='area_id', right_on=\"New ward code\")\n",
    "\n",
    "LONDON_CENTER_COORD = {\"lat\": 51.5074, \"lon\": -0.118092}"
   ]
  },
  {
   "cell_type": "code",
   "execution_count": 3,
   "metadata": {},
   "outputs": [],
   "source": [
    "FEATURES = ['representativeness_norm', 'fibre',\n",
    "            'protein', 'fat', 'carb', 'salt', 'nutripoints']\n",
    "\n",
    "map_plots = []\n",
    "\n",
    "for f in FEATURES:\n",
    "    map_plots.append(go.Choroplethmapbox(\n",
    "        geojson=geo_london,\n",
    "        locations=wellbeing_grocery['area_id'],\n",
    "        featureidkey=\"properties.gss_code_ward\",\n",
    "        text=wellbeing_grocery['Ward name'],\n",
    "        z=wellbeing_grocery[f],\n",
    "        colorbar=dict(thickness=20, ticklen=3),\n",
    "        marker_line_width=0, marker_opacity=0.7,\n",
    "        visible=False,\n",
    "        hovertemplate=\"<b>ward</b>: <b>%{text}</b><br><b>val</b>: %{z}<br><extra></extra>\"\n",
    "    ))\n",
    "\n",
    "map_plots[0]['visible'] = True"
   ]
  },
  {
   "cell_type": "code",
   "execution_count": 4,
   "metadata": {},
   "outputs": [],
   "source": [
    "layout = go.Layout(\n",
    "    autosize=True,\n",
    "    mapbox=dict(\n",
    "        style=\"carto-positron\",\n",
    "        center=LONDON_CENTER_COORD,\n",
    "        zoom=8.7),\n",
    "    margin=dict(l=0, r=0, t=0, b=0),\n",
    "    paper_bgcolor='rgb(204, 204, 204)',\n",
    "    plot_bgcolor='rgb(204, 204, 204)',\n",
    ")"
   ]
  },
  {
   "cell_type": "code",
   "execution_count": 5,
   "metadata": {},
   "outputs": [],
   "source": [
    "# add a dropdown menu in the layout\n",
    "layout.update(\n",
    "    updatemenus=[\n",
    "        dict(x=0.005,\n",
    "             y=0.95,\n",
    "             xanchor='left',\n",
    "             yanchor='middle',\n",
    "             buttons=[\n",
    "                 dict(\n",
    "                     args=['visible', [True, False, False,\n",
    "                                       False, False, False, False]],\n",
    "                     label='Representativeness',\n",
    "                     method='restyle'\n",
    "                 ),\n",
    "                 dict(\n",
    "                     args=['visible', [False, True, False,\n",
    "                                       False, False, False, False]],\n",
    "                     label='Fibre',\n",
    "                     method='restyle'\n",
    "                 ),\n",
    "                 dict(\n",
    "                     args=['visible', [False, False, True,\n",
    "                                       False, False, False, False]],\n",
    "                     label='Protein',\n",
    "                     method='restyle'\n",
    "                 ),\n",
    "                 dict(\n",
    "                     args=['visible', [False, False, False,\n",
    "                                       True, False, False, False]],\n",
    "                     label='Fat',\n",
    "                     method='restyle'\n",
    "                 ),\n",
    "                 dict(\n",
    "                     args=['visible', [False, False, False,\n",
    "                                       False, True, False, False]],\n",
    "                     label='Carbs',\n",
    "                     method='restyle'\n",
    "                 ),\n",
    "                 dict(\n",
    "                     args=['visible', [False, False, False,\n",
    "                                       False, False, True, False]],\n",
    "                     label='Salt',\n",
    "                     method='restyle'\n",
    "                 ),\n",
    "                 dict(\n",
    "                     args=['visible', [False, False, False,\n",
    "                                       False, False, False, True]],\n",
    "                     label='Nutripoints',\n",
    "                     method='restyle'\n",
    "                 )\n",
    "             ])\n",
    "    ]\n",
    ");"
   ]
  },
  {
   "cell_type": "code",
   "execution_count": 6,
   "metadata": {},
   "outputs": [],
   "source": [
    "fig = go.Figure(data=map_plots, layout=layout)\n",
    "\n",
    "fig.write_html(\"map.html\")\n",
    "\n",
    "# fig.show()"
   ]
  }
 ],
 "metadata": {
  "kernelspec": {
   "display_name": "Python 3",
   "language": "python",
   "name": "python3"
  },
  "language_info": {
   "codemirror_mode": {
    "name": "ipython",
    "version": 3
   },
   "file_extension": ".py",
   "mimetype": "text/x-python",
   "name": "python",
   "nbconvert_exporter": "python",
   "pygments_lexer": "ipython3",
   "version": "3.8.6"
  }
 },
 "nbformat": 4,
 "nbformat_minor": 4
}
