{
 "cells": [
  {
   "cell_type": "code",
   "execution_count": 9,
   "metadata": {},
   "outputs": [],
   "source": [
    "# import chart_studio.plotly as py\n",
    "import plotly.graph_objects as go\n",
    "import json\n",
    "import pandas as pd\n",
    "\n",
    "from utils import calculate_nutripoints"
   ]
  },
  {
   "cell_type": "code",
   "execution_count": 10,
   "metadata": {},
   "outputs": [
    {
     "name": "stdout",
     "output_type": "stream",
     "text": [
      "['area_id', 'weight', 'weight_perc2.5', 'weight_perc25', 'weight_perc50', 'weight_perc75', 'weight_perc97.5', 'weight_std', 'weight_ci95', 'volume', 'volume_perc2.5', 'volume_perc25', 'volume_perc50', 'volume_perc75', 'volume_perc97.5', 'volume_std', 'volume_ci95', 'fat', 'fat_perc2.5', 'fat_perc25', 'fat_perc50', 'fat_perc75', 'fat_perc97.5', 'fat_std', 'fat_ci95', 'saturate', 'saturate_perc2.5', 'saturate_perc25', 'saturate_perc50', 'saturate_perc75', 'saturate_perc97.5', 'saturate_std', 'saturate_ci95', 'salt', 'salt_perc2.5', 'salt_perc25', 'salt_perc50', 'salt_perc75', 'salt_perc97.5', 'salt_std', 'salt_ci95', 'sugar', 'sugar_perc2.5', 'sugar_perc25', 'sugar_perc50', 'sugar_perc75', 'sugar_perc97.5', 'sugar_std', 'sugar_ci95', 'protein', 'protein_perc2.5', 'protein_perc25', 'protein_perc50', 'protein_perc75', 'protein_perc97.5', 'protein_std', 'protein_ci95', 'carb', 'carb_perc2.5', 'carb_perc25', 'carb_perc50', 'carb_perc75', 'carb_perc97.5', 'carb_std', 'carb_ci95', 'fibre', 'fibre_perc2.5', 'fibre_perc25', 'fibre_perc50', 'fibre_perc75', 'fibre_perc97.5', 'fibre_std', 'fibre_ci95', 'alcohol', 'alcohol_perc2.5', 'alcohol_perc25', 'alcohol_perc50', 'alcohol_perc75', 'alcohol_perc97.5', 'alcohol_std', 'alcohol_ci95', 'energy_fat', 'energy_fat_perc2.5', 'energy_fat_perc25', 'energy_fat_perc50', 'energy_fat_perc75', 'energy_fat_perc97.5', 'energy_fat_std', 'energy_fat_ci95', 'energy_saturate', 'energy_saturate_perc2.5', 'energy_saturate_perc25', 'energy_saturate_perc50', 'energy_saturate_perc75', 'energy_saturate_perc97.5', 'energy_saturate_std', 'energy_saturate_ci95', 'energy_sugar', 'energy_sugar_perc2.5', 'energy_sugar_perc25', 'energy_sugar_perc50', 'energy_sugar_perc75', 'energy_sugar_perc97.5', 'energy_sugar_std', 'energy_sugar_ci95', 'energy_protein', 'energy_protein_perc2.5', 'energy_protein_perc25', 'energy_protein_perc50', 'energy_protein_perc75', 'energy_protein_perc97.5', 'energy_protein_std', 'energy_protein_ci95', 'energy_carb', 'energy_carb_perc2.5', 'energy_carb_perc25', 'energy_carb_perc50', 'energy_carb_perc75', 'energy_carb_perc97.5', 'energy_carb_std', 'energy_carb_ci95', 'energy_fibre', 'energy_fibre_perc2.5', 'energy_fibre_perc25', 'energy_fibre_perc50', 'energy_fibre_perc75', 'energy_fibre_perc97.5', 'energy_fibre_std', 'energy_fibre_ci95', 'energy_alcohol', 'energy_alcohol_perc2.5', 'energy_alcohol_perc25', 'energy_alcohol_perc50', 'energy_alcohol_perc75', 'energy_alcohol_perc97.5', 'energy_alcohol_std', 'energy_alcohol_ci95', 'energy_tot', 'energy_tot_perc2.5', 'energy_tot_perc25', 'energy_tot_perc50', 'energy_tot_perc75', 'energy_tot_perc97.5', 'energy_tot_std', 'energy_tot_ci95', 'f_energy_fat', 'f_energy_saturate', 'f_energy_sugar', 'f_energy_protein', 'f_energy_carb', 'f_energy_fibre', 'f_energy_alcohol', 'energy_density', 'h_nutrients_weight', 'h_nutrients_weight_norm', 'h_nutrients_calories', 'h_nutrients_calories_norm', 'f_beer', 'f_dairy', 'f_eggs', 'f_fats_oils', 'f_fish', 'f_fruit_veg', 'f_grains', 'f_meat_red', 'f_poultry', 'f_readymade', 'f_sauces', 'f_soft_drinks', 'f_spirits', 'f_sweets', 'f_tea_coffee', 'f_water', 'f_wine', 'f_dairy_weight', 'f_eggs_weight', 'f_fats_oils_weight', 'f_fish_weight', 'f_fruit_veg_weight', 'f_grains_weight', 'f_meat_red_weight', 'f_poultry_weight', 'f_readymade_weight', 'f_sauces_weight', 'f_sweets_weight', 'h_items', 'h_items_norm', 'h_items_weight', 'h_items_weight_norm', 'representativeness_norm', 'transaction_days', 'num_transactions', 'man_day', 'population', 'male', 'female', 'age_0_17', 'age_18_64', 'age_65+', 'avg_age', 'area_sq_km', 'people_per_sq_km']\n"
     ]
    }
   ],
   "source": [
    "# Geojson data source:\n",
    "# https://github.com/ft-interactive/geo-data/blob/master/uk/london/london-wards-2014.geojson\n",
    "\n",
    "GEO_DATA_PATH = 'data/london-wards-2014.geojson'\n",
    "\n",
    "with open(GEO_DATA_PATH) as f:\n",
    "    geo_london = json.load(f)\n",
    "\n",
    "year_grocery = pd.read_csv(\"data/year_osward_grocery.csv\")\n",
    "\n",
    "print(year_grocery.columns.tolist())\n",
    "\n",
    "min_grocery = year_grocery[['energy_tot', 'saturate', 'salt',\n",
    "                            'sugar', 'f_fruit_veg', 'fibre', 'protein']].min(axis=0)\n",
    "\n",
    "max_grocery = year_grocery[['energy_tot', 'saturate', 'salt',\n",
    "                            'sugar', 'f_fruit_veg', 'fibre', 'protein']].max(axis=0)\n",
    "\n",
    "year_grocery[\"nutripoints\"] = year_grocery.apply(\n",
    "    lambda row: calculate_nutripoints(row, min_grocery, max_grocery), axis=1)\n",
    "\n",
    "wellbeing_scores = pd.read_excel(\n",
    "    \"data/london-ward-well-being-probability-scores.xls\", sheet_name=\"Scores\", header=[0, 1])\n",
    "wellbeing_scores = wellbeing_scores.loc[:, (slice(\n",
    "    None), [2013, \"New ward code\", \"Ward name\", \"Borough\"])].dropna(how=\"all\")\n",
    "wellbeing_scores = wellbeing_scores.droplevel(1, axis=1)\n",
    "\n",
    "wellbeing_grocery = pd.merge(\n",
    "    left=year_grocery, right=wellbeing_scores, left_on='area_id', right_on=\"New ward code\")\n",
    "\n",
    "LONDON_CENTER_COORD = {\"lat\": 51.5074, \"lon\": -0.118092}"
   ]
  },
  {
   "cell_type": "code",
   "execution_count": 11,
   "metadata": {},
   "outputs": [],
   "source": [
    "FEATURES = ['representativeness_norm', 'fibre',\n",
    "            'protein', 'fat', 'carb', 'salt', 'h_nutrients_calories', 'nutripoints']\n",
    "\n",
    "map_plots = []\n",
    "\n",
    "for f in FEATURES:\n",
    "    map_plots.append(go.Choroplethmapbox(\n",
    "        geojson=geo_london,\n",
    "        locations=wellbeing_grocery['area_id'],\n",
    "        featureidkey=\"properties.gss_code_ward\",\n",
    "        text=wellbeing_grocery['Ward name'],\n",
    "        z=wellbeing_grocery[f],\n",
    "        colorbar=dict(thickness=20, ticklen=3),\n",
    "        marker_line_width=0, marker_opacity=0.7,\n",
    "        visible=False,\n",
    "        hovertemplate=\"<b>ward</b>: <b>%{text}</b><br><b>val</b>: %{z}<br><extra></extra>\"\n",
    "    ))\n",
    "\n",
    "map_plots[0]['visible'] = True"
   ]
  },
  {
   "cell_type": "code",
   "execution_count": 12,
   "metadata": {},
   "outputs": [],
   "source": [
    "layout = go.Layout(\n",
    "    autosize=True,\n",
    "    mapbox=dict(\n",
    "        style=\"carto-positron\",\n",
    "        center=LONDON_CENTER_COORD,\n",
    "        zoom=8.7),\n",
    "    margin=dict(l=0, r=0, t=0, b=0),\n",
    "    paper_bgcolor='rgb(204, 204, 204)',\n",
    "    plot_bgcolor='rgb(204, 204, 204)',\n",
    ")"
   ]
  },
  {
   "cell_type": "code",
   "execution_count": 13,
   "metadata": {},
   "outputs": [],
   "source": [
    "# add a dropdown menu in the layout\n",
    "layout.update(\n",
    "    updatemenus=[\n",
    "        dict(x=0.005,\n",
    "             y=0.95,\n",
    "             xanchor='left',\n",
    "             yanchor='middle',\n",
    "             buttons=[\n",
    "                 dict(\n",
    "                     args=['visible', [True, False, False, False,\n",
    "                                       False, False, False, False]],\n",
    "                     label='Representativeness',\n",
    "                     method='restyle'\n",
    "                 ),\n",
    "                 dict(\n",
    "                     args=['visible', [False, True, False, False,\n",
    "                                       False, False, False, False]],\n",
    "                     label='Fibre',\n",
    "                     method='restyle'\n",
    "                 ),\n",
    "                 dict(\n",
    "                     args=['visible', [False, False, True, False,\n",
    "                                       False, False, False, False]],\n",
    "                     label='Protein',\n",
    "                     method='restyle'\n",
    "                 ),\n",
    "                 dict(\n",
    "                     args=['visible', [False, False, False, False,\n",
    "                                       True, False, False, False]],\n",
    "                     label='Fat',\n",
    "                     method='restyle'\n",
    "                 ),\n",
    "                 dict(\n",
    "                     args=['visible', [False, False, False, False,\n",
    "                                       False, True, False, False]],\n",
    "                     label='Carbs',\n",
    "                     method='restyle'\n",
    "                 ),\n",
    "                 dict(\n",
    "                     args=['visible', [False, False, False, False,\n",
    "                                       False, False, True, False]],\n",
    "                     label='Salt',\n",
    "                     method='restyle'\n",
    "                 ),\n",
    "                dict(\n",
    "                     args=['visible', [False, False, False, False,\n",
    "                                       False, False, True, False]],\n",
    "                     label='Entropy',\n",
    "                     method='restyle'\n",
    "                 ),\n",
    "                 dict(\n",
    "                     args=['visible', [False, False, False, False,\n",
    "                                       False, False, False, True]],\n",
    "                     label='Nutripoints',\n",
    "                     method='restyle'\n",
    "                 )\n",
    "             ])\n",
    "    ]\n",
    ");"
   ]
  },
  {
   "cell_type": "code",
   "execution_count": 14,
   "metadata": {},
   "outputs": [],
   "source": [
    "fig = go.Figure(data=map_plots, layout=layout)\n",
    "\n",
    "# py.plot(figure_or_data=fig, filename='tesco_map', auto_open=True, sharing='secret')\n",
    "fig.write_html(\"map.html\")"
   ]
  }
 ],
 "metadata": {
  "kernelspec": {
   "name": "pycharm-97a0754f",
   "language": "python",
   "display_name": "PyCharm (cs-433-project-2-cough_classifier)"
  },
  "language_info": {
   "codemirror_mode": {
    "name": "ipython",
    "version": 3
   },
   "file_extension": ".py",
   "mimetype": "text/x-python",
   "name": "python",
   "nbconvert_exporter": "python",
   "pygments_lexer": "ipython3",
   "version": "3.7.4"
  }
 },
 "nbformat": 4,
 "nbformat_minor": 4
}