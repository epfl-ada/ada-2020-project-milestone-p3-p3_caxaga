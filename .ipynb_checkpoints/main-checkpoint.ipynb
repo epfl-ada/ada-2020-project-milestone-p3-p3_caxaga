{
 "cells": [
  {
   "cell_type": "code",
   "execution_count": null,
   "metadata": {},
   "outputs": [],
   "source": [
    "# Imports\n",
    "\n",
    "import matplotlib.pyplot as plt\n",
    "import pandas as pd\n",
    "%matplotlib inline\n",
    "import seaborn as sns\n",
    "sns.set_theme()\n",
    "import numpy as np\n",
    "from IPython.display import display\n",
    "import math\n",
    "\n",
    "# Load the statistical libraries\n",
    "from statsmodels.stats import diagnostic\n",
    "import statsmodels.formula.api as smf\n",
    "from scipy import stats\n",
    "from scipy.stats import pearsonr\n",
    "\n",
    "#import machine learning\n",
    "from sklearn.preprocessing import StandardScaler\n",
    "from sklearn.decomposition import PCA"
   ]
  },
  {
   "cell_type": "code",
   "execution_count": null,
   "metadata": {
    "scrolled": true
   },
   "outputs": [],
   "source": [
    "# Data Imports\n",
    "\n",
    "year_grocery = pd.read_csv(\"data/year_osward_grocery.csv\")\n",
    "display(year_grocery)\n",
    "\n",
    "wellbeing_data= pd.read_excel(\"data/london-ward-well-being-probability-scores.xls\", sheet_name=\"Data\")\n",
    "display(wellbeing_data.head())\n",
    "\n",
    "wellbeing_scores = pd.read_excel(\"data/london-ward-well-being-probability-scores.xls\", sheet_name=\"Scores\", header=[0,1])\n",
    "display(wellbeing_scores.head())\n",
    "\n",
    "wellbeing_final_scores = pd.read_excel(\"data/london-ward-well-being-probability-scores.xls\", sheet_name=\"Ranked\", header=[3],usecols=\"B:C\")\n",
    "display(wellbeing_final_scores)"
   ]
  },
  {
   "cell_type": "code",
   "execution_count": null,
   "metadata": {},
   "outputs": [],
   "source": [
    "#year_grocery=year_grocery.sort_values(by='representativeness_norm', ascending=False, ignore_index=True)\n",
    "year_grocery=year_grocery.nlargest(int(0.8*len(year_grocery)), 'representativeness_norm')"
   ]
  },
  {
   "cell_type": "code",
   "execution_count": null,
   "metadata": {
    "scrolled": true
   },
   "outputs": [],
   "source": [
    "display(year_grocery)"
   ]
  },
  {
   "cell_type": "code",
   "execution_count": null,
   "metadata": {},
   "outputs": [],
   "source": [
    "wellbeing_scores=wellbeing_scores.loc[:, (slice(None), [2013, \"New ward code\",\"Ward name\",\"Borough\"])].dropna(how=\"all\")\n",
    "wellbeing_scores=wellbeing_scores.droplevel(1, axis=1)\n",
    "display(wellbeing_scores)"
   ]
  },
  {
   "cell_type": "code",
   "execution_count": null,
   "metadata": {},
   "outputs": [],
   "source": [
    "wellbeing_scores=pd.merge(left=wellbeing_scores, right=wellbeing_final_scores, left_on='Ward name', right_on=\"Ward\")\n",
    "wellbeing_scores=wellbeing_scores.drop(\"Ward\", axis=1)\n",
    "display(wellbeing_scores)"
   ]
  },
  {
   "cell_type": "code",
   "execution_count": null,
   "metadata": {
    "scrolled": true
   },
   "outputs": [],
   "source": [
    "list_column=[\"area_id\",\"energy_tot\",\"energy_fat\",\"energy_saturate\",\"energy_sugar\",\"energy_protein\", \"energy_carb\",\n",
    "             \"energy_fibre\", \"energy_alcohol\", \"h_nutrients_calories\"]\n",
    "year_grocery = year_grocery.loc[:,year_grocery.columns.isin(list(list_column))]\n",
    "display(year_grocery)\n",
    "\n",
    "wellbeing_data=wellbeing_data.filter(regex=r'(2013$|-13$|New ward code|Ward$|Borough)')\n",
    "display(wellbeing_data)"
   ]
  },
  {
   "cell_type": "code",
   "execution_count": null,
   "metadata": {
    "scrolled": true
   },
   "outputs": [],
   "source": [
    "wellbeing_data.dropna(how='all', axis=0)"
   ]
  },
  {
   "cell_type": "code",
   "execution_count": null,
   "metadata": {
    "scrolled": false
   },
   "outputs": [],
   "source": [
    "len(set(wellbeing_data[\"New ward code\"].values))"
   ]
  },
  {
   "cell_type": "code",
   "execution_count": null,
   "metadata": {},
   "outputs": [],
   "source": [
    "len(set(wellbeing_scores[\"New ward code\"].values))"
   ]
  },
  {
   "cell_type": "code",
   "execution_count": null,
   "metadata": {
    "scrolled": true
   },
   "outputs": [],
   "source": [
    "len(set(year_grocery[\"area_id\"].values))"
   ]
  },
  {
   "cell_type": "code",
   "execution_count": null,
   "metadata": {},
   "outputs": [],
   "source": [
    "len(set(wellbeing_data[\"New ward code\"].values)&set(year_grocery[\"area_id\"].values))"
   ]
  },
  {
   "cell_type": "code",
   "execution_count": null,
   "metadata": {},
   "outputs": [],
   "source": [
    "wellbeing_grocery = pd.merge(left=year_grocery, right=wellbeing_data, left_on='area_id', right_on=\"New ward code\")\n",
    "wellbeing_grocery = wellbeing_grocery.drop(\"New ward code\", axis=1)\n",
    "display(wellbeing_grocery)"
   ]
  },
  {
   "cell_type": "code",
   "execution_count": null,
   "metadata": {},
   "outputs": [],
   "source": [
    "# Comprehension of the data\n",
    "wellbeing_grocery_columns = wellbeing_grocery.columns.values.tolist()\n",
    "wellbeing_grocery_columns"
   ]
  },
  {
   "cell_type": "code",
   "execution_count": null,
   "metadata": {
    "scrolled": true
   },
   "outputs": [],
   "source": [
    "wellbeing_grocery.isnull().any()"
   ]
  },
  {
   "cell_type": "code",
   "execution_count": null,
   "metadata": {},
   "outputs": [],
   "source": [
    "wellbeing_grocery.describe()"
   ]
  },
  {
   "cell_type": "code",
   "execution_count": null,
   "metadata": {},
   "outputs": [],
   "source": [
    "column_boxplot=['energy_fat', 'energy_saturate', 'energy_sugar', 'energy_protein', 'energy_carb', 'energy_fibre', 'energy_tot',\n",
    "                'h_nutrients_calories', \"energy_alcohol\",'Life Expectancy 2009-13', 'Childhood Obesity 2013', 'Incapacity Benefit rate - 2013',\n",
    "                'Unemployment rate 2013', 'Crime rate - 2013', 'Deliberate Fires - 2013', 'GCSE point scores - 2013',\n",
    "                'Unauthorised Absence in All Schools (%) - 2013', '% dependent children in out-of-work households - 2013',\n",
    "                'Public Transport Accessibility - 2013', 'Homes with access to open space & nature, and % greenspace - 2013',\n",
    "                'Subjective well-being average score, 2013']\n",
    "wellbeing_grocery_analysis=wellbeing_grocery[column_boxplot].copy()\n",
    "fig, ax = plt.subplots(3, 7, figsize=(16,8), sharey=False)\n",
    "\n",
    "for i in range(21):\n",
    "    sbplt = ax[int(i/7), i%7]\n",
    "\n",
    "    sns.boxplot(data=wellbeing_grocery_analysis.iloc[:,i], ax=sbplt) \n",
    "    sbplt.set_title('')\n",
    "    sbplt.set_xlabel('')\n",
    "    sbplt.set_ylabel('')\n",
    "    sbplt.set_title(wellbeing_grocery_analysis.columns[i],wrap=True)\n",
    "\n",
    "fig.tight_layout()\n",
    "fig.subplots_adjust(top=0.9)\n",
    "\n",
    "fig.suptitle('boxplot for each column', fontsize=18)"
   ]
  },
  {
   "cell_type": "markdown",
   "metadata": {},
   "source": [
    "We observe that they are some outliers for the different variables. This is due to the differences between the different ward. "
   ]
  },
  {
   "cell_type": "code",
   "execution_count": null,
   "metadata": {
    "scrolled": false
   },
   "outputs": [],
   "source": [
    "fig, ax = plt.subplots(3, 7, figsize=(16,8), sharey=False)\n",
    "\n",
    "for i in range(21):\n",
    "    sbplt = ax[int(i/7), i%7]\n",
    "\n",
    "    sns.histplot(data=wellbeing_grocery_analysis.iloc[:,i], ax=sbplt) \n",
    "    sbplt.set_title('')\n",
    "    sbplt.set_xlabel('')\n",
    "    sbplt.set_ylabel('')\n",
    "    sbplt.set_title(wellbeing_grocery_analysis.columns[i],wrap=True)\n",
    "\n",
    "fig.tight_layout()\n",
    "fig.subplots_adjust(top=0.9)\n",
    "\n",
    "fig.suptitle('boxplot for each column', fontsize=18)"
   ]
  },
  {
   "cell_type": "code",
   "execution_count": null,
   "metadata": {
    "scrolled": true
   },
   "outputs": [],
   "source": [
    "correlation = wellbeing_grocery_analysis.corr(method=\"spearman\")\n",
    "display(correlation)"
   ]
  },
  {
   "cell_type": "code",
   "execution_count": null,
   "metadata": {},
   "outputs": [],
   "source": [
    "plt.figure(figsize=(14,3))\n",
    "correlation[\"energy_fibre\"].plot.bar(x=None, y=None, width=0.8, legend=None)\n",
    "plt.ylabel(\"Spearman R\")\n",
    "plt.title(\"Correlation fibre\")\n",
    "plt.show()"
   ]
  },
  {
   "cell_type": "code",
   "execution_count": null,
   "metadata": {},
   "outputs": [],
   "source": [
    "plt.figure(figsize=(14,3))\n",
    "correlation[\"energy_alcohol\"].plot.bar(x=None, y=None, width=0.8, legend=None)\n",
    "plt.ylabel(\"Spearman R\")\n",
    "plt.title(\"Correlation alcohol\")\n",
    "plt.show()"
   ]
  },
  {
   "cell_type": "code",
   "execution_count": null,
   "metadata": {},
   "outputs": [],
   "source": [
    "plt.figure(figsize=(14,3))\n",
    "correlation[\"h_nutrients_calories\"].plot.bar(x=None, y=None, width=0.8, legend=None)\n",
    "plt.ylabel(\"Spearman R\")\n",
    "plt.title(\"Correlation entropy\")\n",
    "plt.show()"
   ]
  },
  {
   "cell_type": "code",
   "execution_count": null,
   "metadata": {},
   "outputs": [],
   "source": [
    "plt.figure(figsize=(14,3))\n",
    "correlation[\"energy_saturate\"].plot.bar(x=None, y=None, width=0.8, legend=None)\n",
    "plt.ylabel(\"Spearman R\")\n",
    "plt.title(\"Correlation saturate\")\n",
    "plt.show()"
   ]
  },
  {
   "cell_type": "code",
   "execution_count": null,
   "metadata": {},
   "outputs": [],
   "source": [
    "plt.figure(figsize=(14,3))\n",
    "correlation[\"energy_sugar\"].plot.bar(x=None, y=None, width=0.8, legend=None)\n",
    "plt.ylabel(\"Spearman R\")\n",
    "plt.title(\"Correlation saturate\")\n",
    "plt.show()"
   ]
  },
  {
   "cell_type": "code",
   "execution_count": null,
   "metadata": {},
   "outputs": [],
   "source": [
    "plt.figure(figsize=(14,3))\n",
    "correlation[\"Subjective well-being average score, 2013\"].plot.bar(x=None, y=None, width=0.8, legend=None)\n",
    "plt.ylabel(\"Spearman R\")\n",
    "plt.title(\"Correlation wellbeing\")\n",
    "plt.show()"
   ]
  },
  {
   "cell_type": "code",
   "execution_count": null,
   "metadata": {
    "scrolled": true
   },
   "outputs": [],
   "source": [
    "plt.figure(figsize=(14,3))\n",
    "correlation[\"energy_tot\"].plot.bar(x=None, y=None, width=0.8, legend=None)\n",
    "plt.ylabel(\"Spearman R\")\n",
    "plt.title(\"Correlation energy tot\")\n",
    "plt.show()"
   ]
  },
  {
   "cell_type": "code",
   "execution_count": null,
   "metadata": {},
   "outputs": [],
   "source": [
    "scaler = StandardScaler()\n",
    "wellbeing_grocery_analysis[wellbeing_grocery_analysis.columns]=scaler.fit_transform(wellbeing_grocery_analysis\n",
    "                                                                                    [wellbeing_grocery_analysis.columns])\n",
    "display(wellbeing_grocery_analysis)"
   ]
  },
  {
   "cell_type": "code",
   "execution_count": null,
   "metadata": {},
   "outputs": [],
   "source": [
    "mod = smf.ols(formula='h_nutrients_calories ~   Q(\"Life Expectancy 2009-13\")+Q(\"Incapacity Benefit rate - 2013\") +Q(\"Unemployment rate 2013\")+ Q(\"Crime rate - 2013\")+ Q(\"Childhood Obesity 2013\")', data=wellbeing_grocery_analysis)\n",
    "res = mod.fit()\n",
    "print(res.summary())"
   ]
  },
  {
   "cell_type": "code",
   "execution_count": null,
   "metadata": {},
   "outputs": [],
   "source": [
    "mod = smf.ols(formula='energy_fibre ~  Q(\"Life Expectancy 2009-13\")+Q(\"Incapacity Benefit rate - 2013\") +Q(\"Unemployment rate 2013\")+ Q(\"Crime rate - 2013\")+ Q(\"Childhood Obesity 2013\")+ Q(\"Homes with access to open space & nature, and % greenspace - 2013\")', data=wellbeing_grocery_analysis)\n",
    "res = mod.fit()\n",
    "print(res.summary())"
   ]
  },
  {
   "cell_type": "code",
   "execution_count": null,
   "metadata": {},
   "outputs": [],
   "source": [
    "numerical_wellbeing_data_columns=['Life Expectancy 2009-13', 'Childhood Obesity 2013', 'Incapacity Benefit rate - 2013',\n",
    "                'Unemployment rate 2013', 'Crime rate - 2013', 'Deliberate Fires - 2013', 'GCSE point scores - 2013',\n",
    "                'Unauthorised Absence in All Schools (%) - 2013', '% dependent children in out-of-work households - 2013',\n",
    "                'Public Transport Accessibility - 2013', 'Homes with access to open space & nature, and % greenspace - 2013',\n",
    "                'Subjective well-being average score, 2013']\n",
    "wellbeing_data_analysis=wellbeing_data[numerical_wellbeing_data_columns].dropna().copy()\n",
    "wellbeing_data_reduced_pca = PCA(n_components=2).fit(wellbeing_data_analysis).transform(wellbeing_data_analysis)\n",
    "\n",
    "print(\"The features of the first sample are: %s\" % wellbeing_data_reduced_pca[0])"
   ]
  },
  {
   "cell_type": "code",
   "execution_count": null,
   "metadata": {
    "scrolled": true
   },
   "outputs": [],
   "source": [
    "labels=wellbeing_data_analysis.apply(lambda row: \"g\" if row[\"Subjective well-being average score, 2013\"]>=0 else \"r\", axis=1)\n",
    "# Plot the data reduced in 2d space with PCA\n",
    "plt.figure(figsize=(14,3))\n",
    "plt.scatter(wellbeing_data_reduced_pca[:,0], wellbeing_data_reduced_pca[:,1], c=labels, alpha=0.6)"
   ]
  },
  {
   "cell_type": "code",
   "execution_count": null,
   "metadata": {},
   "outputs": [],
   "source": [
    "wellbeing_scores_columns = wellbeing_scores.columns.values.tolist()\n",
    "print(wellbeing_scores_columns)"
   ]
  },
  {
   "cell_type": "code",
   "execution_count": null,
   "metadata": {},
   "outputs": [],
   "source": [
    "numerical_wellbeing_scores_columns=['Life Expectancy', 'Childhood Obesity', 'Incapacity Benefit rate', 'Unemployment rate',\n",
    "                                  'Crime rate - Index', 'Deliberate Fires',\n",
    "                                  'Average Capped GCSE and Equivalent Point Score Per Pupil', \n",
    "                                  'Unauthorised Absence in All Schools (%)', 'Dependent children in out-of-work families',\n",
    "                                  'Public Transport Accessibility', \n",
    "                                  'Homes with access to open space & nature, and % greenspace',\n",
    "                                  'Subjective well-being average score', 'Index Score 2013']\n",
    "wellbeing_scores_analysis=wellbeing_scores[numerical_wellbeing_scores_columns].dropna().copy()\n",
    "wellbeing_scores_reduced_pca = PCA(n_components=2).fit(wellbeing_scores_analysis).transform(wellbeing_scores_analysis)"
   ]
  },
  {
   "cell_type": "code",
   "execution_count": null,
   "metadata": {},
   "outputs": [],
   "source": [
    "labels=wellbeing_scores_analysis.apply(lambda row: \"g\" if row['Index Score 2013']>=0 else \"r\", axis=1)\n",
    "# Plot the data reduced in 2d space with PCA\n",
    "plt.figure(figsize=(14,3))\n",
    "plt.scatter(wellbeing_scores_reduced_pca[:,0], wellbeing_scores_reduced_pca[:,1], c=labels, alpha=0.6)"
   ]
  },
  {
   "cell_type": "code",
   "execution_count": null,
   "metadata": {},
   "outputs": [],
   "source": [
    "#create map https://sensitivecities.com/so-youd-like-to-make-a-map-using-python-EN.html#.X8d8vqpKhN0"
   ]
  },
  {
   "cell_type": "code",
   "execution_count": null,
   "metadata": {},
   "outputs": [],
   "source": []
  }
 ],
 "metadata": {
  "kernelspec": {
   "display_name": "Python 3",
   "language": "python",
   "name": "python3"
  },
  "language_info": {
   "codemirror_mode": {
    "name": "ipython",
    "version": 3
   },
   "file_extension": ".py",
   "mimetype": "text/x-python",
   "name": "python",
   "nbconvert_exporter": "python",
   "pygments_lexer": "ipython3",
   "version": "3.8.5"
  }
 },
 "nbformat": 4,
 "nbformat_minor": 4
}
