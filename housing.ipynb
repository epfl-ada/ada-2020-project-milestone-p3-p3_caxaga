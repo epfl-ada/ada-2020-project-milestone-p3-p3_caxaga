{
 "cells": [
  {
   "cell_type": "markdown",
   "metadata": {},
   "source": [
    "# House Prices and Nutrition"
   ]
  },
  {
   "cell_type": "markdown",
   "metadata": {},
   "source": [
    "## I) Module imports"
   ]
  },
  {
   "cell_type": "code",
   "execution_count": null,
   "metadata": {},
   "outputs": [],
   "source": [
    "from sklearn.tree import DecisionTreeRegressor\n",
    "from sklearn.neural_network import MLPRegressor\n",
    "from sklearn.ensemble import GradientBoostingRegressor\n",
    "from sklearn.linear_model import LinearRegression, Ridge\n",
    "from sklearn.model_selection import cross_validate\n",
    "from sklearn.preprocessing import StandardScaler\n",
    "from utils import calculate_nutripoints\n",
    "import matplotlib.pyplot as plt\n",
    "import seaborn as sns\n",
    "import numpy as np\n",
    "import pandas as pd\n",
    "import pprint\n",
    "pp = pprint.PrettyPrinter(depth=4)\n",
    "\n",
    "sns.color_palette(\"colorblind\")\n",
    "np.random.seed(42)\n",
    "\n",
    "sns.set_theme('notebook')"
   ]
  },
  {
   "cell_type": "code",
   "execution_count": null,
   "metadata": {},
   "outputs": [],
   "source": [
    "%load_ext autoreload\n",
    "%autoreload 2"
   ]
  },
  {
   "cell_type": "markdown",
   "metadata": {},
   "source": [
    "## II) Data imports"
   ]
  },
  {
   "cell_type": "code",
   "execution_count": null,
   "metadata": {},
   "outputs": [],
   "source": [
    "NUTRITION_COLS = [\"area_id\", \"energy_tot\", \"energy_fat\", \"energy_saturate\", \"energy_sugar\", \"energy_protein\",\n",
    "                  \"energy_carb\", \"energy_fibre\", \"energy_alcohol\", \"h_nutrients_calories\"]\n",
    "\n",
    "year_grocery = pd.read_csv(\"data/year_lsoa_grocery.csv\")\n",
    "print(year_grocery.shape)\n",
    "display(year_grocery.head())"
   ]
  },
  {
   "cell_type": "code",
   "execution_count": null,
   "metadata": {},
   "outputs": [],
   "source": [
    "min_grocery = year_grocery[['energy_tot', 'saturate', 'salt',\n",
    "                            'sugar', 'f_fruit_veg', 'fibre', 'protein']].min(axis=0)\n",
    "\n",
    "max_grocery = year_grocery[['energy_tot', 'saturate', 'salt',\n",
    "                            'sugar', 'f_fruit_veg', 'fibre', 'protein']].max(axis=0)\n",
    "\n",
    "year_grocery[\"nutripoints\"] = year_grocery.apply(\n",
    "    lambda row: calculate_nutripoints(row, min_grocery, max_grocery), axis=1)"
   ]
  },
  {
   "cell_type": "code",
   "execution_count": null,
   "metadata": {},
   "outputs": [],
   "source": [
    "COLS = [\"Code\", \"Year ending Dec 2014\"]\n",
    "\n",
    "housing_prices = pd.read_excel(\n",
    "    \"data/land-registry-house-prices-LSOA.xls\", sheet_name=\"Mean\")[COLS]\n",
    "housing_prices.rename(\n",
    "    columns={\"Year ending Dec 2014\": \"mean house price\"}, inplace=True)\n",
    "housing_prices.dropna(inplace=True)\n",
    "\n",
    "print(housing_prices.shape)\n",
    "display(housing_prices.head())"
   ]
  },
  {
   "cell_type": "markdown",
   "metadata": {},
   "source": [
    "### A) Merge datasets"
   ]
  },
  {
   "cell_type": "code",
   "execution_count": null,
   "metadata": {},
   "outputs": [],
   "source": [
    "grocery_housing = pd.merge(\n",
    "    year_grocery, housing_prices, left_on=\"area_id\", right_on=\"Code\")\n",
    "grocery_housing.drop(\"Code\", axis=1, inplace=True)"
   ]
  },
  {
   "cell_type": "code",
   "execution_count": null,
   "metadata": {},
   "outputs": [],
   "source": [
    "grocery_housing['mean house price'] = pd.to_numeric(\n",
    "    grocery_housing['mean house price'], errors='coerce')\n",
    "display(grocery_housing)"
   ]
  },
  {
   "cell_type": "markdown",
   "metadata": {},
   "source": [
    "## Exploratory Data Analysis"
   ]
  },
  {
   "cell_type": "code",
   "execution_count": null,
   "metadata": {},
   "outputs": [],
   "source": [
    "ax = sns.histplot(data=grocery_housing, x=\"mean house price\")\n",
    "\n",
    "print(grocery_housing[\"mean house price\"].median())"
   ]
  },
  {
   "cell_type": "code",
   "execution_count": null,
   "metadata": {},
   "outputs": [],
   "source": [
    "fig, ax = plt.subplots(1, 2, figsize=(15, 5))\n",
    "\n",
    "sns.ecdfplot(data=grocery_housing, x=\"mean house price\",\n",
    "             complementary=True, ax=ax[0])\n",
    "sns.ecdfplot(data=grocery_housing, x=\"mean house price\",\n",
    "             complementary=True, ax=ax[1])\n",
    "ax[1].set(xscale=\"log\", yscale=\"log\")\n",
    "\n",
    "\n",
    "price_mean = grocery_housing[\"mean house price\"].mean()\n",
    "price_median = grocery_housing[\"mean house price\"].median()\n",
    "\n",
    "print(price_mean, price_median, price_mean / price_median)"
   ]
  },
  {
   "cell_type": "markdown",
   "metadata": {},
   "source": [
    "The data is skewed to the right, with a long tail of high scores pulling the mean up more than the median. According to the graphs, the data clearly does not follow a normal distribution."
   ]
  },
  {
   "cell_type": "code",
   "execution_count": null,
   "metadata": {},
   "outputs": [],
   "source": [
    "COLS = [\"energy_tot\", \"energy_fat\", \"energy_saturate\", \"energy_sugar\", \"energy_protein\",\n",
    "        \"energy_carb\", \"energy_fibre\", \"energy_alcohol\", \"h_nutrients_calories\", \"nutripoints\"]\n",
    "\n",
    "correlation = grocery_housing.corr(method=\"spearman\").loc[COLS]\n",
    "\n",
    "correlation['mean house price'].plot.bar(\n",
    "    x=None, y=None, width=0.8, legend=None)\n",
    "\n",
    "plt.title(\"Mean house price\")\n",
    "plt.ylabel(\"spearman correlation\")"
   ]
  },
  {
   "cell_type": "code",
   "execution_count": null,
   "metadata": {},
   "outputs": [],
   "source": [
    "COLS_CORRELATED = [\"energy_tot\", \"energy_sugar\", \"energy_carb\", \"energy_fibre\", \"h_nutrients_calories\", \"nutripoints\"]\n",
    "colors = [\"r\", \"r\", \"r\", \"g\", \"g\", \"r\"]\n",
    "\n",
    "N = len(COLS_CORRELATED)\n",
    "\n",
    "fig, ax = plt.subplots(2, 3, figsize=(25, 10))\n",
    "\n",
    "for i, col in enumerate(COLS_CORRELATED):\n",
    "    ax[int(i / 3), i % 3].scatter(grocery_housing[\"mean house price\"],\n",
    "                    y=grocery_housing[col], c=[colors[i]] * len(grocery_housing))\n",
    "    ax[int(i / 3), i % 3].set(xscale=\"log\", title=col, xlabel=\"mean house price\")\n",
    "    \n",
    "fig.tight_layout()"
   ]
  },
  {
   "cell_type": "markdown",
   "metadata": {},
   "source": [
    "Nutripoints are negatively related to mean house prices. The graph on the ri"
   ]
  },
  {
   "cell_type": "code",
   "execution_count": null,
   "metadata": {},
   "outputs": [],
   "source": [
    "house_prices_median = grocery_housing[\"mean house price\"].median()\n",
    "\n",
    "\n",
    "def classify_median(row, median):\n",
    "    if row[\"mean house price\"] > median:\n",
    "        return \"high\"\n",
    "    else:\n",
    "        return \"low\"\n",
    "\n",
    "\n",
    "grocery_housing[\"pricing\"] = grocery_housing.apply(\n",
    "    lambda i: classify_median(i, house_prices_median), axis=1)"
   ]
  },
  {
   "cell_type": "code",
   "execution_count": null,
   "metadata": {},
   "outputs": [],
   "source": [
    "grocery_housing[['nutripoints', 'pricing']\n",
    "                ].boxplot(by='pricing', figsize=(10, 5))\n",
    "\n",
    "plt.show()"
   ]
  },
  {
   "cell_type": "markdown",
   "metadata": {},
   "source": [
    "## III) Predictive Models"
   ]
  },
  {
   "cell_type": "code",
   "execution_count": null,
   "metadata": {},
   "outputs": [],
   "source": [
    "scaler = StandardScaler()\n",
    "grocery_housing.dropna(axis=0, inplace=True)\n",
    "grocery_housing_stand = grocery_housing.copy()\n",
    "grocery_housing_stand[[\"mean house price\", \"nutripoints\"]] = scaler.fit_transform(\n",
    "    grocery_housing[[\"mean house price\", \"nutripoints\"]])\n",
    "\n",
    "X = grocery_housing_stand[[\"mean house price\"]]\n",
    "y = grocery_housing_stand[\"nutripoints\"]"
   ]
  },
  {
   "cell_type": "code",
   "execution_count": null,
   "metadata": {},
   "outputs": [],
   "source": [
    "# Create the models\n",
    "\n",
    "lin_reg = LinearRegression()\n",
    "gb_boost_reg = GradientBoostingRegressor(learning_rate=0.1, n_estimators=100)\n",
    "ridge_reg = Ridge(alpha=.5)\n",
    "mlp_reg = MLPRegressor(solver='lbfgs', alpha=1e-5,\n",
    "                       hidden_layer_sizes=(5, 2))\n",
    "dt_reg = DecisionTreeRegressor()\n",
    "\n",
    "mse_scores = {}\n",
    "\n",
    "reg_models = [lin_reg, gb_boost_reg, ridge_reg, mlp_reg, dt_reg]\n",
    "\n",
    "mse = 'neg_mean_squared_error'\n",
    "\n",
    "for model in reg_models:\n",
    "    model_scores = cross_validate(model, X, y, cv=5, scoring=[mse])\n",
    "\n",
    "    mse_scores[type(model).__name__] = model_scores[\"test_\" + mse]\n",
    "\n",
    "pp.pprint(mse_scores)"
   ]
  },
  {
   "cell_type": "code",
   "execution_count": null,
   "metadata": {},
   "outputs": [],
   "source": [
    "mse_scores_df = pd.DataFrame(mse_scores).abs()"
   ]
  },
  {
   "cell_type": "code",
   "execution_count": null,
   "metadata": {},
   "outputs": [],
   "source": [
    "ax = mse_scores_df.plot.bar(figsize=(15, 5))"
   ]
  },
  {
   "cell_type": "code",
   "execution_count": null,
   "metadata": {},
   "outputs": [],
   "source": [
    "best_model = mse_scores_df.mean(axis=0).idxmin()\n",
    "\n",
    "print(best_model)"
   ]
  },
  {
   "cell_type": "markdown",
   "metadata": {},
   "source": [
    "## IV) Conclusion"
   ]
  }
 ],
 "metadata": {
  "kernelspec": {
   "display_name": "Python 3",
   "language": "python",
   "name": "python3"
  },
  "language_info": {
   "codemirror_mode": {
    "name": "ipython",
    "version": 3
   },
   "file_extension": ".py",
   "mimetype": "text/x-python",
   "name": "python",
   "nbconvert_exporter": "python",
   "pygments_lexer": "ipython3",
   "version": "3.7.4"
  }
 },
 "nbformat": 4,
 "nbformat_minor": 4
}
