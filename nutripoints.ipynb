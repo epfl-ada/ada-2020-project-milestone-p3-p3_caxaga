{
 "cells": [
  {
   "cell_type": "code",
   "execution_count": null,
   "metadata": {},
   "outputs": [],
   "source": [
    "# Imports\n",
    "from utils import *\n",
    "from sklearn.cluster import KMeans, DBSCAN\n",
    "from statsmodels.stats import diagnostic\n",
    "import statsmodels.formula.api as smf\n",
    "from scipy import stats\n",
    "from scipy.stats import pearsonr\n",
    "from sklearn.preprocessing import StandardScaler\n",
    "from sklearn.decomposition import PCA\n",
    "from sklearn.metrics import silhouette_score\n",
    "from sklearn.linear_model import LinearRegression, LogisticRegression, Ridge\n",
    "from sklearn.neighbors import KNeighborsClassifier\n",
    "from sklearn.ensemble import GradientBoostingRegressor\n",
    "from sklearn.model_selection import cross_val_predict, train_test_split, cross_val_score\n",
    "from sklearn.metrics import mean_squared_error, auc, roc_curve, r2_score\n",
    "from sklearn.feature_selection import RFE\n",
    "import math\n",
    "from IPython.display import display\n",
    "import numpy as np\n",
    "import matplotlib.pyplot as plt\n",
    "import pandas as pd\n",
    "import seaborn as sns\n",
    "\n",
    "%matplotlib inline\n",
    "sns.set_theme()"
   ]
  },
  {
   "cell_type": "code",
   "execution_count": null,
   "metadata": {
    "scrolled": false
   },
   "outputs": [],
   "source": [
    "# Data Imports\n",
    "\n",
    "year_grocery = pd.read_csv(\"data/year_osward_grocery.csv\")\n",
    "display(year_grocery.head())\n",
    "print(year_grocery.shape)"
   ]
  },
  {
   "cell_type": "code",
   "execution_count": null,
   "metadata": {},
   "outputs": [],
   "source": [
    "# year_grocery=year_grocery.sort_values(by='representativeness_norm', ascending=False, ignore_index=True)\n",
    "year_grocery = year_grocery.nlargest(\n",
    "    int(0.8*len(year_grocery)), 'representativeness_norm')"
   ]
  },
  {
   "cell_type": "code",
   "execution_count": null,
   "metadata": {},
   "outputs": [],
   "source": [
    "#nutripoints=['nutri_energy','nutri_sugar', 'nutri_saturate', 'nutri_sodium', 'nutri_fibre', 'nutri_protein', 'nutri_fruit_veg']\n",
    "year_grocery[\"nutripoints\"] = year_grocery.apply(calculate_nutripoints, axis=1)\n",
    "year_grocery[\"nutripoints\"].describe()"
   ]
  },
  {
   "cell_type": "code",
   "execution_count": null,
   "metadata": {
    "scrolled": false
   },
   "outputs": [],
   "source": [
    "display(year_grocery.head())"
   ]
  },
  {
   "cell_type": "code",
   "execution_count": null,
   "metadata": {},
   "outputs": [],
   "source": [
    "weight = year_grocery[[\"area_id\"]+NUTRIENTS].copy()"
   ]
  },
  {
   "cell_type": "code",
   "execution_count": null,
   "metadata": {},
   "outputs": [],
   "source": [
    "weight[\"weight_total\"]=weight[NUTRIENTS].sum(axis=1)\n",
    "display(weight)"
   ]
  },
  {
   "cell_type": "code",
   "execution_count": null,
   "metadata": {
    "scrolled": false
   },
   "outputs": [],
   "source": [
    "list_column = [\"area_id\", \"energy_tot\", \"energy_fat\", \"energy_saturate\", \"energy_sugar\", \"energy_protein\", \"energy_carb\",\n",
    "               \"energy_fibre\", \"energy_alcohol\", \"h_nutrients_calories\", \"nutripoints\"]\n",
    "year_grocery = year_grocery.loc[:,\n",
    "                                year_grocery.columns.isin(list(list_column))]\n",
    "display(year_grocery.head())"
   ]
  },
  {
   "cell_type": "code",
   "execution_count": null,
   "metadata": {
    "scrolled": false
   },
   "outputs": [],
   "source": [
    "len(set(year_grocery[\"area_id\"].values))"
   ]
  },
  {
   "cell_type": "code",
   "execution_count": null,
   "metadata": {},
   "outputs": [],
   "source": [
    "grocery_analysis = year_grocery.copy()\n",
    "grocery_analysis=grocery_analysis.drop(\"area_id\",axis=1)\n",
    "display(grocery_analysis.head())\n",
    "print(len(grocery_analysis.columns))"
   ]
  },
  {
   "cell_type": "code",
   "execution_count": null,
   "metadata": {
    "scrolled": true
   },
   "outputs": [],
   "source": [
    "fig, ax = plt.subplots(2, 5, figsize=(16, 8), sharey=False)\n",
    "\n",
    "for i in range(len(grocery_analysis.columns)):\n",
    "    sbplt = ax[int(i/5), i % 5]\n",
    "\n",
    "    sns.histplot(data=grocery_analysis.iloc[:, i], ax=sbplt)\n",
    "    sbplt.set_xlabel('')\n",
    "    sbplt.set_ylabel('')\n",
    "    sbplt.set_title(grocery_analysis.columns[i], wrap=True)\n",
    "\n",
    "fig.tight_layout()\n",
    "fig.subplots_adjust(top=0.9)\n",
    "\n",
    "fig.suptitle('histplot for each column', fontsize=18)"
   ]
  },
  {
   "cell_type": "code",
   "execution_count": null,
   "metadata": {},
   "outputs": [],
   "source": [
    "plt.figure(figsize=(15,8))\n",
    "\n",
    "sns.histplot(data=grocery_analysis[\"nutripoints\"])\n",
    "\n",
    "plt.xlabel('nutripoints')\n",
    "plt.ylabel('density')\n",
    "plt.title('nutripoints distribution')\n",
    "plt.show();"
   ]
  },
  {
   "cell_type": "code",
   "execution_count": null,
   "metadata": {},
   "outputs": [],
   "source": [
    "fig = plt.figure(figsize=(10, 6))\n",
    "sns.heatmap(grocery_analysis.corr())"
   ]
  },
  {
   "cell_type": "code",
   "execution_count": null,
   "metadata": {
    "scrolled": true
   },
   "outputs": [],
   "source": [
    "correlation = grocery_analysis.corr(method=\"spearman\")\n",
    "display(correlation)"
   ]
  },
  {
   "cell_type": "code",
   "execution_count": null,
   "metadata": {
    "scrolled": false
   },
   "outputs": [],
   "source": [
    "plt.figure(figsize=(14, 3))\n",
    "correlation[\"nutripoints\"].plot.bar(x=None, y=None, width=0.8, legend=None)\n",
    "plt.ylabel(\"Spearman R\")\n",
    "plt.title(\"Correlation nutripoints\")\n",
    "plt.show()"
   ]
  },
  {
   "cell_type": "code",
   "execution_count": null,
   "metadata": {},
   "outputs": [],
   "source": [
    "columns_kmeans = ['nutripoints']\n",
    "grocery_kmeans = grocery_analysis[columns_kmeans].copy()\n",
    "\n",
    "\n",
    "def plot_sse(X, start=2, end=11):\n",
    "    sse = []\n",
    "    for k in range(start, end):\n",
    "        # Assign the labels to the clusters\n",
    "        kmeans = KMeans(n_clusters=k, random_state=10).fit(X)\n",
    "        sse.append({\"k\": k, \"sse\": kmeans.inertia_})\n",
    "    sse = pd.DataFrame(sse)\n",
    "    # Plot the data\n",
    "    plt.plot(sse.k, sse.sse)\n",
    "    plt.xlabel(\"K\")\n",
    "    plt.ylabel(\"Sum of Squared Errors\")\n",
    "\n",
    "\n",
    "plot_sse(grocery_kmeans)"
   ]
  },
  {
   "cell_type": "code",
   "execution_count": null,
   "metadata": {},
   "outputs": [],
   "source": [
    "fig, axs = plt.subplots(1, 1, figsize=(10, 8), sharey=True, sharex=True)\n",
    "\n",
    "# Cluster the data with the current number of clusters\n",
    "kmean = KMeans(n_clusters=5, random_state=42).fit(grocery_kmeans)\n",
    "\n",
    "# Plot the data by using the labels as color\n",
    "#axs.scatter(wellbeing_grocery_kmeans, wellbeing_grocery_kmeans, c=kmean.labels_)\n",
    "grocery_kmeans['label'] = kmean.labels_\n",
    "sns.swarmplot(data=grocery_kmeans, x='nutripoints',ax=axs, hue=grocery_kmeans.label)\n",
    "# Plot the centroids\n",
    "# for c in kmean.cluster_centers_:\n",
    "#axs.scatter(c[0], c[1], marker=\"+\", color=\"red\")"
   ]
  },
  {
   "cell_type": "code",
   "execution_count": null,
   "metadata": {
    "scrolled": false
   },
   "outputs": [],
   "source": [
    "year_grocery[\"nutri_class\"] = kmean.labels_\n",
    "year_grocery.groupby(\"nutri_class\")[\"nutripoints\"].min()"
   ]
  },
  {
   "cell_type": "code",
   "execution_count": null,
   "metadata": {
    "scrolled": true
   },
   "outputs": [],
   "source": [
    "display(year_grocery)"
   ]
  },
  {
   "cell_type": "code",
   "execution_count": null,
   "metadata": {
    "scrolled": true
   },
   "outputs": [],
   "source": [
    "def addcolor(row_list):\n",
    "    if row_list == 3:\n",
    "        return \"#038141\"\n",
    "    elif row_list == 1:\n",
    "        return \"#85BB2F\"\n",
    "    elif row_list == 4:\n",
    "        return \"#FECC02\"\n",
    "    elif row_list == 0:  \n",
    "        return \"#EE8300\"\n",
    "    elif row_list == 2:\n",
    "        return \"#E63F11\"\n",
    "    else: \n",
    "        return \"\"\n",
    "\n",
    "      \n",
    "year_grocery[\"color\"] = year_grocery.apply(\n",
    "    lambda row: addcolor(row[\"nutri_class\"]), axis=1)\n",
    "display(year_grocery)"
   ]
  },
  {
   "cell_type": "code",
   "execution_count": null,
   "metadata": {},
   "outputs": [],
   "source": [
    "plt.figure(figsize=(15,8))\n",
    "\n",
    "plt.scatter(year_grocery[\"nutripoints\"],year_grocery[\"energy_tot\"], c=year_grocery[\"color\"])\n",
    "\n",
    "plt.xlabel('nutripoint')\n",
    "plt.ylabel('energy_tot')\n",
    "plt.title('nutripoints in function of energy_tot')\n",
    "plt.show();"
   ]
  },
  {
   "cell_type": "code",
   "execution_count": null,
   "metadata": {},
   "outputs": [],
   "source": [
    "fig, ax = plt.subplots(2, 5, figsize=(16, 8), sharey=False)\n",
    "\n",
    "for i in range(len(grocery_analysis.columns)):\n",
    "    sbplt = ax[int(i/5), i % 5]\n",
    "    sbplt.scatter(grocery_analysis.iloc[:,i], grocery_analysis[\"h_nutrients_calories\"],c=year_grocery[\"color\"])\n",
    "    sbplt.set_xlabel('')\n",
    "    sbplt.set_ylabel('')\n",
    "    sbplt.set_title(grocery_analysis.columns[i], wrap=True)\n",
    "\n",
    "fig.tight_layout()\n",
    "fig.subplots_adjust(top=0.9)\n",
    "\n",
    "fig.suptitle('histplot for each column', fontsize=18)"
   ]
  },
  {
   "cell_type": "code",
   "execution_count": null,
   "metadata": {},
   "outputs": [],
   "source": [
    "def nutri_labels_to_letter(row_list):\n",
    "    if row_list == 3:\n",
    "        return \"A\"\n",
    "    elif row_list == 1:\n",
    "        return \"B\"\n",
    "    elif row_list == 4:\n",
    "        return \"C\"\n",
    "    elif row_list == 0:  \n",
    "        return \"D\"\n",
    "    elif row_list == 2:\n",
    "        return \"E\"\n",
    "    else: \n",
    "        return \"\"\n",
    "\n",
    "      \n",
    "year_grocery[\"nutrilabel\"] = year_grocery.apply(\n",
    "    lambda row: nutri_labels_to_letter(row[\"nutri_class\"]), axis=1)\n",
    "display(year_grocery)"
   ]
  },
  {
   "cell_type": "code",
   "execution_count": null,
   "metadata": {
    "scrolled": false
   },
   "outputs": [],
   "source": [
    "## REVOIR ##\n",
    "\n",
    "plt.figure(figsize=(15,8))\n",
    "\n",
    "#plt.bar(y_pos, height, color=['black', 'red', 'green', 'blue', 'cyan'])\n",
    "#plt.xticks(y_pos, bars)\n",
    "#plt.show()\n",
    "height = [3, 12, 5, 18, 45]\n",
    "bars = ('A', 'B', 'C', 'D', 'E')\n",
    "y_pos = np.arange(len(bars))\n",
    "\n",
    "clrs = [ \"#038141\",\"#85BB2F\", \"#FECC02\", \"#EE8300\", \"#E63F11\"]\n",
    "\n",
    "plt.hist(x=year_grocery[\"nutrilabel\"])\n",
    "\n",
    "#plt.xticks([0, 1, 2, 3, 4 ], ['A','B','C','D','E'])\n",
    "#plt.xticks(y_pos, bars)\n",
    "plt.xlabel('nutrilabel')\n",
    "plt.ylabel('density')\n",
    "plt.title('nutrilabel distribution')\n",
    "\n",
    "plt.show();"
   ]
  },
  {
   "cell_type": "code",
   "execution_count": null,
   "metadata": {},
   "outputs": [],
   "source": [
    "display(weight)"
   ]
  },
  {
   "cell_type": "code",
   "execution_count": null,
   "metadata": {},
   "outputs": [],
   "source": [
    "# typical londonner product\n",
    "# Pie chart, where the slices will be ordered and plotted counter-clockwise:\n",
    "weight_mean=weight.mean(axis=0)\n",
    "display(weight_mean)"
   ]
  },
  {
   "cell_type": "code",
   "execution_count": null,
   "metadata": {},
   "outputs": [],
   "source": [
    "nutrients_labels = [\"Fibre\", \"Protein\", \"Carb\", \"Fat\", \"Salt\"]\n",
    "fig1, ax1 = plt.subplots(figsize=(16,8))\n",
    "ax1.pie(weight_mean[0:5], labels=nutrients_labels, autopct='%1.1f%%', startangle=90)\n",
    "ax1.axis('equal')  # Equal aspect ratio ensures that pie is drawn as a circle.\n",
    "\n",
    "plt.show()"
   ]
  },
  {
   "cell_type": "code",
   "execution_count": null,
   "metadata": {},
   "outputs": [],
   "source": [
    "# Merge year_grocery and weight\n",
    "weight_label=pd.merge(left=weight, right=year_grocery[[\"area_id\",\"nutrilabel\"]], left_on=\"area_id\", right_on = \"area_id\")\n",
    "display(weight_label[(weight_label[\"nutrilabel\"]==\"A\") | (weight_label[\"nutrilabel\"]==\"B\")].head(50))"
   ]
  },
  {
   "cell_type": "code",
   "execution_count": null,
   "metadata": {},
   "outputs": [],
   "source": [
    "weight_label=weight_label.groupby(\"nutrilabel\").mean()\n",
    "display(weight_label)"
   ]
  },
  {
   "cell_type": "code",
   "execution_count": null,
   "metadata": {},
   "outputs": [],
   "source": [
    "fig, ax = plt.subplots(1, 5, figsize=(16, 16))\n",
    "\n",
    "for i in range(len(weight_label)):\n",
    "    sbplt = ax[i]\n",
    "    sbplt.pie(weight_label.iloc[i,0:5], labels=nutrients_labels, autopct='%1.1f%%', startangle=90)\n",
    "    sbplt.axis('equal')\n",
    "    sbplt.set_title(weight_label.index[i])\n",
    "fig.tight_layout()\n",
    "fig.subplots_adjust(top=0.9)\n",
    "\n",
    "fig.suptitle('pie for each nutrilabel', fontsize=18)"
   ]
  },
  {
   "cell_type": "code",
   "execution_count": null,
   "metadata": {},
   "outputs": [],
   "source": []
  }
 ],
 "metadata": {
  "kernelspec": {
   "display_name": "Python 3",
   "language": "python",
   "name": "python3"
  },
  "language_info": {
   "codemirror_mode": {
    "name": "ipython",
    "version": 3
   },
   "file_extension": ".py",
   "mimetype": "text/x-python",
   "name": "python",
   "nbconvert_exporter": "python",
   "pygments_lexer": "ipython3",
   "version": "3.8.5"
  }
 },
 "nbformat": 4,
 "nbformat_minor": 4
}
