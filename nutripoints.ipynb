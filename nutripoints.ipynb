{
 "cells": [
  {
   "cell_type": "code",
   "execution_count": 2,
   "metadata": {},
   "outputs": [],
   "source": [
    "# Imports\n",
    "from sklearn.cluster import KMeans, DBSCAN\n",
    "from statsmodels.stats import diagnostic\n",
    "import statsmodels.formula.api as smf\n",
    "from scipy import stats\n",
    "from scipy.stats import pearsonr\n",
    "from sklearn.preprocessing import StandardScaler\n",
    "from sklearn.decomposition import PCA\n",
    "from sklearn.metrics import silhouette_score\n",
    "from sklearn.linear_model import LinearRegression, LogisticRegression, Ridge\n",
    "from sklearn.neighbors import KNeighborsClassifier\n",
    "from sklearn.ensemble import GradientBoostingRegressor\n",
    "from sklearn.model_selection import cross_val_predict, train_test_split, cross_val_score\n",
    "from sklearn.metrics import mean_squared_error, auc, roc_curve, r2_score\n",
    "from sklearn.feature_selection import RFE\n",
    "import math\n",
    "from IPython.display import display\n",
    "import numpy as np\n",
    "import matplotlib.pyplot as plt\n",
    "import pandas as pd\n",
    "%matplotlib inline\n",
    "import seaborn as sns\n",
    "sns.set_theme()\n",
    "\n",
    "from utils import calculate_nutripoints\n",
    "\n",
    "# Load the statistical libraries"
   ]
  },
  {
   "cell_type": "code",
   "execution_count": 3,
   "metadata": {
    "scrolled": true
   },
   "outputs": [
    {
     "data": {
      "text/html": [
       "<div>\n",
       "<style scoped>\n",
       "    .dataframe tbody tr th:only-of-type {\n",
       "        vertical-align: middle;\n",
       "    }\n",
       "\n",
       "    .dataframe tbody tr th {\n",
       "        vertical-align: top;\n",
       "    }\n",
       "\n",
       "    .dataframe thead th {\n",
       "        text-align: right;\n",
       "    }\n",
       "</style>\n",
       "<table border=\"1\" class=\"dataframe\">\n",
       "  <thead>\n",
       "    <tr style=\"text-align: right;\">\n",
       "      <th></th>\n",
       "      <th>area_id</th>\n",
       "      <th>weight</th>\n",
       "      <th>weight_perc2.5</th>\n",
       "      <th>weight_perc25</th>\n",
       "      <th>weight_perc50</th>\n",
       "      <th>weight_perc75</th>\n",
       "      <th>weight_perc97.5</th>\n",
       "      <th>weight_std</th>\n",
       "      <th>weight_ci95</th>\n",
       "      <th>volume</th>\n",
       "      <th>...</th>\n",
       "      <th>man_day</th>\n",
       "      <th>population</th>\n",
       "      <th>male</th>\n",
       "      <th>female</th>\n",
       "      <th>age_0_17</th>\n",
       "      <th>age_18_64</th>\n",
       "      <th>age_65+</th>\n",
       "      <th>avg_age</th>\n",
       "      <th>area_sq_km</th>\n",
       "      <th>people_per_sq_km</th>\n",
       "    </tr>\n",
       "  </thead>\n",
       "  <tbody>\n",
       "    <tr>\n",
       "      <th>0</th>\n",
       "      <td>E05000026</td>\n",
       "      <td>449.535137</td>\n",
       "      <td>32.5</td>\n",
       "      <td>166.4</td>\n",
       "      <td>300.0</td>\n",
       "      <td>500.0</td>\n",
       "      <td>1500.0</td>\n",
       "      <td>771.349423</td>\n",
       "      <td>3.716832</td>\n",
       "      <td>125.960833</td>\n",
       "      <td>...</td>\n",
       "      <td>37315</td>\n",
       "      <td>14370.0</td>\n",
       "      <td>7469.0</td>\n",
       "      <td>6901.0</td>\n",
       "      <td>4211.0</td>\n",
       "      <td>9421.0</td>\n",
       "      <td>738.0</td>\n",
       "      <td>29.572999</td>\n",
       "      <td>1.26</td>\n",
       "      <td>11404.761905</td>\n",
       "    </tr>\n",
       "    <tr>\n",
       "      <th>1</th>\n",
       "      <td>E05000027</td>\n",
       "      <td>413.130263</td>\n",
       "      <td>32.5</td>\n",
       "      <td>150.0</td>\n",
       "      <td>300.0</td>\n",
       "      <td>500.0</td>\n",
       "      <td>1500.0</td>\n",
       "      <td>626.395178</td>\n",
       "      <td>5.164174</td>\n",
       "      <td>110.664114</td>\n",
       "      <td>...</td>\n",
       "      <td>14474</td>\n",
       "      <td>10845.0</td>\n",
       "      <td>5228.0</td>\n",
       "      <td>5617.0</td>\n",
       "      <td>3205.0</td>\n",
       "      <td>6608.0</td>\n",
       "      <td>1032.0</td>\n",
       "      <td>33.568004</td>\n",
       "      <td>1.36</td>\n",
       "      <td>7974.264706</td>\n",
       "    </tr>\n",
       "    <tr>\n",
       "      <th>2</th>\n",
       "      <td>E05000028</td>\n",
       "      <td>407.100472</td>\n",
       "      <td>32.5</td>\n",
       "      <td>160.0</td>\n",
       "      <td>300.0</td>\n",
       "      <td>500.0</td>\n",
       "      <td>1200.0</td>\n",
       "      <td>545.890959</td>\n",
       "      <td>2.710677</td>\n",
       "      <td>121.990710</td>\n",
       "      <td>...</td>\n",
       "      <td>32138</td>\n",
       "      <td>13856.0</td>\n",
       "      <td>6750.0</td>\n",
       "      <td>7106.0</td>\n",
       "      <td>4180.0</td>\n",
       "      <td>8537.0</td>\n",
       "      <td>1139.0</td>\n",
       "      <td>32.032693</td>\n",
       "      <td>1.29</td>\n",
       "      <td>10741.085271</td>\n",
       "    </tr>\n",
       "    <tr>\n",
       "      <th>3</th>\n",
       "      <td>E05000029</td>\n",
       "      <td>384.173858</td>\n",
       "      <td>30.0</td>\n",
       "      <td>150.0</td>\n",
       "      <td>250.0</td>\n",
       "      <td>454.0</td>\n",
       "      <td>1500.0</td>\n",
       "      <td>591.837557</td>\n",
       "      <td>4.968373</td>\n",
       "      <td>122.245578</td>\n",
       "      <td>...</td>\n",
       "      <td>16223</td>\n",
       "      <td>10850.0</td>\n",
       "      <td>5300.0</td>\n",
       "      <td>5550.0</td>\n",
       "      <td>3023.0</td>\n",
       "      <td>6251.0</td>\n",
       "      <td>1576.0</td>\n",
       "      <td>36.004793</td>\n",
       "      <td>3.38</td>\n",
       "      <td>3210.059172</td>\n",
       "    </tr>\n",
       "    <tr>\n",
       "      <th>4</th>\n",
       "      <td>E05000030</td>\n",
       "      <td>356.882607</td>\n",
       "      <td>30.0</td>\n",
       "      <td>140.0</td>\n",
       "      <td>250.0</td>\n",
       "      <td>450.0</td>\n",
       "      <td>1000.0</td>\n",
       "      <td>465.284180</td>\n",
       "      <td>3.880963</td>\n",
       "      <td>109.959688</td>\n",
       "      <td>...</td>\n",
       "      <td>17522</td>\n",
       "      <td>11348.0</td>\n",
       "      <td>5515.0</td>\n",
       "      <td>5833.0</td>\n",
       "      <td>2747.0</td>\n",
       "      <td>6961.0</td>\n",
       "      <td>1640.0</td>\n",
       "      <td>37.247444</td>\n",
       "      <td>3.45</td>\n",
       "      <td>3289.275362</td>\n",
       "    </tr>\n",
       "  </tbody>\n",
       "</table>\n",
       "<p>5 rows × 202 columns</p>\n",
       "</div>"
      ],
      "text/plain": [
       "     area_id      weight  weight_perc2.5  weight_perc25  weight_perc50  \\\n",
       "0  E05000026  449.535137            32.5          166.4          300.0   \n",
       "1  E05000027  413.130263            32.5          150.0          300.0   \n",
       "2  E05000028  407.100472            32.5          160.0          300.0   \n",
       "3  E05000029  384.173858            30.0          150.0          250.0   \n",
       "4  E05000030  356.882607            30.0          140.0          250.0   \n",
       "\n",
       "   weight_perc75  weight_perc97.5  weight_std  weight_ci95      volume  ...  \\\n",
       "0          500.0           1500.0  771.349423     3.716832  125.960833  ...   \n",
       "1          500.0           1500.0  626.395178     5.164174  110.664114  ...   \n",
       "2          500.0           1200.0  545.890959     2.710677  121.990710  ...   \n",
       "3          454.0           1500.0  591.837557     4.968373  122.245578  ...   \n",
       "4          450.0           1000.0  465.284180     3.880963  109.959688  ...   \n",
       "\n",
       "   man_day  population    male  female  age_0_17  age_18_64  age_65+  \\\n",
       "0    37315     14370.0  7469.0  6901.0    4211.0     9421.0    738.0   \n",
       "1    14474     10845.0  5228.0  5617.0    3205.0     6608.0   1032.0   \n",
       "2    32138     13856.0  6750.0  7106.0    4180.0     8537.0   1139.0   \n",
       "3    16223     10850.0  5300.0  5550.0    3023.0     6251.0   1576.0   \n",
       "4    17522     11348.0  5515.0  5833.0    2747.0     6961.0   1640.0   \n",
       "\n",
       "     avg_age  area_sq_km  people_per_sq_km  \n",
       "0  29.572999        1.26      11404.761905  \n",
       "1  33.568004        1.36       7974.264706  \n",
       "2  32.032693        1.29      10741.085271  \n",
       "3  36.004793        3.38       3210.059172  \n",
       "4  37.247444        3.45       3289.275362  \n",
       "\n",
       "[5 rows x 202 columns]"
      ]
     },
     "metadata": {},
     "output_type": "display_data"
    },
    {
     "name": "stdout",
     "output_type": "stream",
     "text": [
      "(638, 202)\n"
     ]
    }
   ],
   "source": [
    "# Data Imports\n",
    "\n",
    "year_grocery = pd.read_csv(\"data/year_osward_grocery.csv\")\n",
    "display(year_grocery.head())\n",
    "print(year_grocery.shape)"
   ]
  },
  {
   "cell_type": "code",
   "execution_count": 3,
   "metadata": {},
   "outputs": [],
   "source": [
    "# year_grocery=year_grocery.sort_values(by='representativeness_norm', ascending=False, ignore_index=True)\n",
    "year_grocery = year_grocery.nlargest(\n",
    "    int(0.8*len(year_grocery)), 'representativeness_norm')"
   ]
  },
  {
   "cell_type": "code",
   "execution_count": 4,
   "metadata": {},
   "outputs": [
    {
     "data": {
      "text/plain": [
       "count    510.000000\n",
       "mean       9.237255\n",
       "std        1.469929\n",
       "min        0.500000\n",
       "25%        8.500000\n",
       "50%        9.000000\n",
       "75%       10.000000\n",
       "max       14.500000\n",
       "Name: nutripoints, dtype: float64"
      ]
     },
     "execution_count": 4,
     "metadata": {},
     "output_type": "execute_result"
    }
   ],
   "source": [
    "#nutripoints=['nutri_energy','nutri_sugar', 'nutri_saturate', 'nutri_sodium', 'nutri_fibre', 'nutri_protein', 'nutri_fruit_veg']\n",
    "year_grocery[\"nutripoints\"]=year_grocery.apply(calculate_nutripoints, axis=1)\n",
    "year_grocery[\"nutripoints\"].describe()"
   ]
  },
  {
   "cell_type": "code",
   "execution_count": 4,
   "metadata": {
    "scrolled": true
   },
   "outputs": [
    {
     "data": {
      "text/html": [
       "<div>\n",
       "<style scoped>\n",
       "    .dataframe tbody tr th:only-of-type {\n",
       "        vertical-align: middle;\n",
       "    }\n",
       "\n",
       "    .dataframe tbody tr th {\n",
       "        vertical-align: top;\n",
       "    }\n",
       "\n",
       "    .dataframe thead th {\n",
       "        text-align: right;\n",
       "    }\n",
       "</style>\n",
       "<table border=\"1\" class=\"dataframe\">\n",
       "  <thead>\n",
       "    <tr style=\"text-align: right;\">\n",
       "      <th></th>\n",
       "      <th>area_id</th>\n",
       "      <th>weight</th>\n",
       "      <th>weight_perc2.5</th>\n",
       "      <th>weight_perc25</th>\n",
       "      <th>weight_perc50</th>\n",
       "      <th>weight_perc75</th>\n",
       "      <th>weight_perc97.5</th>\n",
       "      <th>weight_std</th>\n",
       "      <th>weight_ci95</th>\n",
       "      <th>volume</th>\n",
       "      <th>...</th>\n",
       "      <th>man_day</th>\n",
       "      <th>population</th>\n",
       "      <th>male</th>\n",
       "      <th>female</th>\n",
       "      <th>age_0_17</th>\n",
       "      <th>age_18_64</th>\n",
       "      <th>age_65+</th>\n",
       "      <th>avg_age</th>\n",
       "      <th>area_sq_km</th>\n",
       "      <th>people_per_sq_km</th>\n",
       "    </tr>\n",
       "  </thead>\n",
       "  <tbody>\n",
       "    <tr>\n",
       "      <th>0</th>\n",
       "      <td>E05000026</td>\n",
       "      <td>449.535137</td>\n",
       "      <td>32.5</td>\n",
       "      <td>166.4</td>\n",
       "      <td>300.0</td>\n",
       "      <td>500.0</td>\n",
       "      <td>1500.0</td>\n",
       "      <td>771.349423</td>\n",
       "      <td>3.716832</td>\n",
       "      <td>125.960833</td>\n",
       "      <td>...</td>\n",
       "      <td>37315</td>\n",
       "      <td>14370.0</td>\n",
       "      <td>7469.0</td>\n",
       "      <td>6901.0</td>\n",
       "      <td>4211.0</td>\n",
       "      <td>9421.0</td>\n",
       "      <td>738.0</td>\n",
       "      <td>29.572999</td>\n",
       "      <td>1.26</td>\n",
       "      <td>11404.761905</td>\n",
       "    </tr>\n",
       "    <tr>\n",
       "      <th>1</th>\n",
       "      <td>E05000027</td>\n",
       "      <td>413.130263</td>\n",
       "      <td>32.5</td>\n",
       "      <td>150.0</td>\n",
       "      <td>300.0</td>\n",
       "      <td>500.0</td>\n",
       "      <td>1500.0</td>\n",
       "      <td>626.395178</td>\n",
       "      <td>5.164174</td>\n",
       "      <td>110.664114</td>\n",
       "      <td>...</td>\n",
       "      <td>14474</td>\n",
       "      <td>10845.0</td>\n",
       "      <td>5228.0</td>\n",
       "      <td>5617.0</td>\n",
       "      <td>3205.0</td>\n",
       "      <td>6608.0</td>\n",
       "      <td>1032.0</td>\n",
       "      <td>33.568004</td>\n",
       "      <td>1.36</td>\n",
       "      <td>7974.264706</td>\n",
       "    </tr>\n",
       "    <tr>\n",
       "      <th>2</th>\n",
       "      <td>E05000028</td>\n",
       "      <td>407.100472</td>\n",
       "      <td>32.5</td>\n",
       "      <td>160.0</td>\n",
       "      <td>300.0</td>\n",
       "      <td>500.0</td>\n",
       "      <td>1200.0</td>\n",
       "      <td>545.890959</td>\n",
       "      <td>2.710677</td>\n",
       "      <td>121.990710</td>\n",
       "      <td>...</td>\n",
       "      <td>32138</td>\n",
       "      <td>13856.0</td>\n",
       "      <td>6750.0</td>\n",
       "      <td>7106.0</td>\n",
       "      <td>4180.0</td>\n",
       "      <td>8537.0</td>\n",
       "      <td>1139.0</td>\n",
       "      <td>32.032693</td>\n",
       "      <td>1.29</td>\n",
       "      <td>10741.085271</td>\n",
       "    </tr>\n",
       "    <tr>\n",
       "      <th>3</th>\n",
       "      <td>E05000029</td>\n",
       "      <td>384.173858</td>\n",
       "      <td>30.0</td>\n",
       "      <td>150.0</td>\n",
       "      <td>250.0</td>\n",
       "      <td>454.0</td>\n",
       "      <td>1500.0</td>\n",
       "      <td>591.837557</td>\n",
       "      <td>4.968373</td>\n",
       "      <td>122.245578</td>\n",
       "      <td>...</td>\n",
       "      <td>16223</td>\n",
       "      <td>10850.0</td>\n",
       "      <td>5300.0</td>\n",
       "      <td>5550.0</td>\n",
       "      <td>3023.0</td>\n",
       "      <td>6251.0</td>\n",
       "      <td>1576.0</td>\n",
       "      <td>36.004793</td>\n",
       "      <td>3.38</td>\n",
       "      <td>3210.059172</td>\n",
       "    </tr>\n",
       "    <tr>\n",
       "      <th>4</th>\n",
       "      <td>E05000030</td>\n",
       "      <td>356.882607</td>\n",
       "      <td>30.0</td>\n",
       "      <td>140.0</td>\n",
       "      <td>250.0</td>\n",
       "      <td>450.0</td>\n",
       "      <td>1000.0</td>\n",
       "      <td>465.284180</td>\n",
       "      <td>3.880963</td>\n",
       "      <td>109.959688</td>\n",
       "      <td>...</td>\n",
       "      <td>17522</td>\n",
       "      <td>11348.0</td>\n",
       "      <td>5515.0</td>\n",
       "      <td>5833.0</td>\n",
       "      <td>2747.0</td>\n",
       "      <td>6961.0</td>\n",
       "      <td>1640.0</td>\n",
       "      <td>37.247444</td>\n",
       "      <td>3.45</td>\n",
       "      <td>3289.275362</td>\n",
       "    </tr>\n",
       "  </tbody>\n",
       "</table>\n",
       "<p>5 rows × 202 columns</p>\n",
       "</div>"
      ],
      "text/plain": [
       "     area_id      weight  weight_perc2.5  weight_perc25  weight_perc50  \\\n",
       "0  E05000026  449.535137            32.5          166.4          300.0   \n",
       "1  E05000027  413.130263            32.5          150.0          300.0   \n",
       "2  E05000028  407.100472            32.5          160.0          300.0   \n",
       "3  E05000029  384.173858            30.0          150.0          250.0   \n",
       "4  E05000030  356.882607            30.0          140.0          250.0   \n",
       "\n",
       "   weight_perc75  weight_perc97.5  weight_std  weight_ci95      volume  ...  \\\n",
       "0          500.0           1500.0  771.349423     3.716832  125.960833  ...   \n",
       "1          500.0           1500.0  626.395178     5.164174  110.664114  ...   \n",
       "2          500.0           1200.0  545.890959     2.710677  121.990710  ...   \n",
       "3          454.0           1500.0  591.837557     4.968373  122.245578  ...   \n",
       "4          450.0           1000.0  465.284180     3.880963  109.959688  ...   \n",
       "\n",
       "   man_day  population    male  female  age_0_17  age_18_64  age_65+  \\\n",
       "0    37315     14370.0  7469.0  6901.0    4211.0     9421.0    738.0   \n",
       "1    14474     10845.0  5228.0  5617.0    3205.0     6608.0   1032.0   \n",
       "2    32138     13856.0  6750.0  7106.0    4180.0     8537.0   1139.0   \n",
       "3    16223     10850.0  5300.0  5550.0    3023.0     6251.0   1576.0   \n",
       "4    17522     11348.0  5515.0  5833.0    2747.0     6961.0   1640.0   \n",
       "\n",
       "     avg_age  area_sq_km  people_per_sq_km  \n",
       "0  29.572999        1.26      11404.761905  \n",
       "1  33.568004        1.36       7974.264706  \n",
       "2  32.032693        1.29      10741.085271  \n",
       "3  36.004793        3.38       3210.059172  \n",
       "4  37.247444        3.45       3289.275362  \n",
       "\n",
       "[5 rows x 202 columns]"
      ]
     },
     "metadata": {},
     "output_type": "display_data"
    }
   ],
   "source": [
    "display(year_grocery.head())"
   ]
  },
  {
   "cell_type": "code",
   "execution_count": 5,
   "metadata": {
    "scrolled": true
   },
   "outputs": [
    {
     "data": {
      "text/html": [
       "<div>\n",
       "<style scoped>\n",
       "    .dataframe tbody tr th:only-of-type {\n",
       "        vertical-align: middle;\n",
       "    }\n",
       "\n",
       "    .dataframe tbody tr th {\n",
       "        vertical-align: top;\n",
       "    }\n",
       "\n",
       "    .dataframe thead th {\n",
       "        text-align: right;\n",
       "    }\n",
       "</style>\n",
       "<table border=\"1\" class=\"dataframe\">\n",
       "  <thead>\n",
       "    <tr style=\"text-align: right;\">\n",
       "      <th></th>\n",
       "      <th>area_id</th>\n",
       "      <th>energy_fat</th>\n",
       "      <th>energy_saturate</th>\n",
       "      <th>energy_sugar</th>\n",
       "      <th>energy_protein</th>\n",
       "      <th>energy_carb</th>\n",
       "      <th>energy_fibre</th>\n",
       "      <th>energy_alcohol</th>\n",
       "      <th>energy_tot</th>\n",
       "      <th>h_nutrients_calories</th>\n",
       "    </tr>\n",
       "  </thead>\n",
       "  <tbody>\n",
       "    <tr>\n",
       "      <th>0</th>\n",
       "      <td>E05000026</td>\n",
       "      <td>85.399176</td>\n",
       "      <td>33.243489</td>\n",
       "      <td>43.864852</td>\n",
       "      <td>19.910240</td>\n",
       "      <td>77.527804</td>\n",
       "      <td>2.890336</td>\n",
       "      <td>1.387201</td>\n",
       "      <td>187.114757</td>\n",
       "      <td>1.532485</td>\n",
       "    </tr>\n",
       "    <tr>\n",
       "      <th>1</th>\n",
       "      <td>E05000027</td>\n",
       "      <td>87.602703</td>\n",
       "      <td>32.093215</td>\n",
       "      <td>42.057709</td>\n",
       "      <td>20.846778</td>\n",
       "      <td>75.801393</td>\n",
       "      <td>2.917849</td>\n",
       "      <td>1.469422</td>\n",
       "      <td>188.638145</td>\n",
       "      <td>1.541202</td>\n",
       "    </tr>\n",
       "    <tr>\n",
       "      <th>2</th>\n",
       "      <td>E05000028</td>\n",
       "      <td>82.946787</td>\n",
       "      <td>32.522242</td>\n",
       "      <td>42.761088</td>\n",
       "      <td>20.769647</td>\n",
       "      <td>78.648192</td>\n",
       "      <td>2.919193</td>\n",
       "      <td>1.577973</td>\n",
       "      <td>186.861792</td>\n",
       "      <td>1.549774</td>\n",
       "    </tr>\n",
       "    <tr>\n",
       "      <th>3</th>\n",
       "      <td>E05000029</td>\n",
       "      <td>87.301229</td>\n",
       "      <td>35.651376</td>\n",
       "      <td>51.754425</td>\n",
       "      <td>18.872734</td>\n",
       "      <td>80.338935</td>\n",
       "      <td>2.868373</td>\n",
       "      <td>1.402662</td>\n",
       "      <td>190.783934</td>\n",
       "      <td>1.514848</td>\n",
       "    </tr>\n",
       "    <tr>\n",
       "      <th>4</th>\n",
       "      <td>E05000030</td>\n",
       "      <td>84.436271</td>\n",
       "      <td>32.531970</td>\n",
       "      <td>45.331593</td>\n",
       "      <td>21.228013</td>\n",
       "      <td>78.325611</td>\n",
       "      <td>2.963643</td>\n",
       "      <td>1.182663</td>\n",
       "      <td>188.136201</td>\n",
       "      <td>1.540547</td>\n",
       "    </tr>\n",
       "  </tbody>\n",
       "</table>\n",
       "</div>"
      ],
      "text/plain": [
       "     area_id  energy_fat  energy_saturate  energy_sugar  energy_protein  \\\n",
       "0  E05000026   85.399176        33.243489     43.864852       19.910240   \n",
       "1  E05000027   87.602703        32.093215     42.057709       20.846778   \n",
       "2  E05000028   82.946787        32.522242     42.761088       20.769647   \n",
       "3  E05000029   87.301229        35.651376     51.754425       18.872734   \n",
       "4  E05000030   84.436271        32.531970     45.331593       21.228013   \n",
       "\n",
       "   energy_carb  energy_fibre  energy_alcohol  energy_tot  h_nutrients_calories  \n",
       "0    77.527804      2.890336        1.387201  187.114757              1.532485  \n",
       "1    75.801393      2.917849        1.469422  188.638145              1.541202  \n",
       "2    78.648192      2.919193        1.577973  186.861792              1.549774  \n",
       "3    80.338935      2.868373        1.402662  190.783934              1.514848  \n",
       "4    78.325611      2.963643        1.182663  188.136201              1.540547  "
      ]
     },
     "metadata": {},
     "output_type": "display_data"
    }
   ],
   "source": [
    "list_column = [\"area_id\", \"energy_tot\", \"energy_fat\", \"energy_saturate\", \"energy_sugar\", \"energy_protein\", \"energy_carb\",\n",
    "               \"energy_fibre\", \"energy_alcohol\", \"h_nutrients_calories\", \"nutripoints\"]\n",
    "year_grocery = year_grocery.loc[:,\n",
    "                                year_grocery.columns.isin(list(list_column))]\n",
    "display(year_grocery.head())"
   ]
  },
  {
   "cell_type": "code",
   "execution_count": 10,
   "metadata": {
    "scrolled": true
   },
   "outputs": [
    {
     "data": {
      "text/plain": [
       "638"
      ]
     },
     "execution_count": 10,
     "metadata": {},
     "output_type": "execute_result"
    }
   ],
   "source": [
    "len(set(year_grocery[\"area_id\"].values))"
   ]
  },
  {
   "cell_type": "code",
   "execution_count": 11,
   "metadata": {
    "scrolled": true
   },
   "outputs": [
    {
     "ename": "NameError",
     "evalue": "name 'column_boxplot' is not defined",
     "output_type": "error",
     "traceback": [
      "\u001b[1;31m---------------------------------------------------------------------------\u001b[0m",
      "\u001b[1;31mNameError\u001b[0m                                 Traceback (most recent call last)",
      "\u001b[1;32m<ipython-input-11-9ab7c73d964e>\u001b[0m in \u001b[0;36m<module>\u001b[1;34m\u001b[0m\n\u001b[0;32m      1\u001b[0m \u001b[0mfig\u001b[0m\u001b[1;33m,\u001b[0m \u001b[0max\u001b[0m \u001b[1;33m=\u001b[0m \u001b[0mplt\u001b[0m\u001b[1;33m.\u001b[0m\u001b[0msubplots\u001b[0m\u001b[1;33m(\u001b[0m\u001b[1;36m4\u001b[0m\u001b[1;33m,\u001b[0m \u001b[1;36m6\u001b[0m\u001b[1;33m,\u001b[0m \u001b[0mfigsize\u001b[0m\u001b[1;33m=\u001b[0m\u001b[1;33m(\u001b[0m\u001b[1;36m16\u001b[0m\u001b[1;33m,\u001b[0m \u001b[1;36m8\u001b[0m\u001b[1;33m)\u001b[0m\u001b[1;33m,\u001b[0m \u001b[0msharey\u001b[0m\u001b[1;33m=\u001b[0m\u001b[1;32mFalse\u001b[0m\u001b[1;33m)\u001b[0m\u001b[1;33m\u001b[0m\u001b[1;33m\u001b[0m\u001b[0m\n\u001b[0;32m      2\u001b[0m \u001b[1;33m\u001b[0m\u001b[0m\n\u001b[1;32m----> 3\u001b[1;33m \u001b[1;32mfor\u001b[0m \u001b[0mi\u001b[0m \u001b[1;32min\u001b[0m \u001b[0mrange\u001b[0m\u001b[1;33m(\u001b[0m\u001b[0mlen\u001b[0m\u001b[1;33m(\u001b[0m\u001b[0mcolumn_boxplot\u001b[0m\u001b[1;33m)\u001b[0m\u001b[1;33m)\u001b[0m\u001b[1;33m:\u001b[0m\u001b[1;33m\u001b[0m\u001b[1;33m\u001b[0m\u001b[0m\n\u001b[0m\u001b[0;32m      4\u001b[0m     \u001b[0msbplt\u001b[0m \u001b[1;33m=\u001b[0m \u001b[0max\u001b[0m\u001b[1;33m[\u001b[0m\u001b[0mint\u001b[0m\u001b[1;33m(\u001b[0m\u001b[0mi\u001b[0m\u001b[1;33m/\u001b[0m\u001b[1;36m6\u001b[0m\u001b[1;33m)\u001b[0m\u001b[1;33m,\u001b[0m \u001b[0mi\u001b[0m \u001b[1;33m%\u001b[0m \u001b[1;36m6\u001b[0m\u001b[1;33m]\u001b[0m\u001b[1;33m\u001b[0m\u001b[1;33m\u001b[0m\u001b[0m\n\u001b[0;32m      5\u001b[0m \u001b[1;33m\u001b[0m\u001b[0m\n",
      "\u001b[1;31mNameError\u001b[0m: name 'column_boxplot' is not defined"
     ]
    },
    {
     "data": {
      "image/png": "[encoded data removed]",
      "text/plain": [
       "<Figure size 1152x576 with 24 Axes>"
      ]
     },
     "metadata": {},
     "output_type": "display_data"
    }
   ],
   "source": [
    "fig, ax = plt.subplots(4, 6, figsize=(16, 8), sharey=False)\n",
    "\n",
    "for i in range(len(column_boxplot)):\n",
    "    sbplt = ax[int(i/6), i % 6]\n",
    "\n",
    "    sns.histplot(data=wellbeing_grocery_analysis.iloc[:, i], ax=sbplt)\n",
    "    sbplt.set_xlabel('')\n",
    "    sbplt.set_ylabel('')\n",
    "    sbplt.set_title(wellbeing_grocery_analysis.columns[i], wrap=True)\n",
    "\n",
    "fig.tight_layout()\n",
    "fig.subplots_adjust(top=0.9)\n",
    "\n",
    "fig.suptitle('boxplot for each column', fontsize=18)"
   ]
  },
  {
   "cell_type": "code",
   "execution_count": null,
   "metadata": {},
   "outputs": [],
   "source": [
    "# TO DO correlations\n",
    "\n",
    "#fig = plt.figure(figsize=(10, 6))\n",
    "\n",
    "#sns.heatmap(X[FEATURES['EEPD']].corr())"
   ]
  },
  {
   "cell_type": "code",
   "execution_count": null,
   "metadata": {
    "scrolled": true
   },
   "outputs": [],
   "source": [
    "correlation = year_grocery.corr(method=\"spearman\")\n",
    "display(correlation)"
   ]
  },
  {
   "cell_type": "code",
   "execution_count": 7,
   "metadata": {
    "scrolled": true
   },
   "outputs": [
    {
     "ename": "NameError",
     "evalue": "name 'correlation' is not defined",
     "output_type": "error",
     "traceback": [
      "\u001b[1;31m---------------------------------------------------------------------------\u001b[0m",
      "\u001b[1;31mNameError\u001b[0m                                 Traceback (most recent call last)",
      "\u001b[1;32m<ipython-input-7-bd2c1006d1c2>\u001b[0m in \u001b[0;36m<module>\u001b[1;34m\u001b[0m\n\u001b[0;32m      1\u001b[0m \u001b[0mplt\u001b[0m\u001b[1;33m.\u001b[0m\u001b[0mfigure\u001b[0m\u001b[1;33m(\u001b[0m\u001b[0mfigsize\u001b[0m\u001b[1;33m=\u001b[0m\u001b[1;33m(\u001b[0m\u001b[1;36m14\u001b[0m\u001b[1;33m,\u001b[0m \u001b[1;36m3\u001b[0m\u001b[1;33m)\u001b[0m\u001b[1;33m)\u001b[0m\u001b[1;33m\u001b[0m\u001b[1;33m\u001b[0m\u001b[0m\n\u001b[1;32m----> 2\u001b[1;33m \u001b[0mcorrelation\u001b[0m\u001b[1;33m[\u001b[0m\u001b[1;34m\"nutripoints\"\u001b[0m\u001b[1;33m]\u001b[0m\u001b[1;33m.\u001b[0m\u001b[0mplot\u001b[0m\u001b[1;33m.\u001b[0m\u001b[0mbar\u001b[0m\u001b[1;33m(\u001b[0m\u001b[0mx\u001b[0m\u001b[1;33m=\u001b[0m\u001b[1;32mNone\u001b[0m\u001b[1;33m,\u001b[0m \u001b[0my\u001b[0m\u001b[1;33m=\u001b[0m\u001b[1;32mNone\u001b[0m\u001b[1;33m,\u001b[0m \u001b[0mwidth\u001b[0m\u001b[1;33m=\u001b[0m\u001b[1;36m0.8\u001b[0m\u001b[1;33m,\u001b[0m \u001b[0mlegend\u001b[0m\u001b[1;33m=\u001b[0m\u001b[1;32mNone\u001b[0m\u001b[1;33m)\u001b[0m\u001b[1;33m\u001b[0m\u001b[1;33m\u001b[0m\u001b[0m\n\u001b[0m\u001b[0;32m      3\u001b[0m \u001b[0mplt\u001b[0m\u001b[1;33m.\u001b[0m\u001b[0mylabel\u001b[0m\u001b[1;33m(\u001b[0m\u001b[1;34m\"Spearman R\"\u001b[0m\u001b[1;33m)\u001b[0m\u001b[1;33m\u001b[0m\u001b[1;33m\u001b[0m\u001b[0m\n\u001b[0;32m      4\u001b[0m \u001b[0mplt\u001b[0m\u001b[1;33m.\u001b[0m\u001b[0mtitle\u001b[0m\u001b[1;33m(\u001b[0m\u001b[1;34m\"Correlation nutripoints\"\u001b[0m\u001b[1;33m)\u001b[0m\u001b[1;33m\u001b[0m\u001b[1;33m\u001b[0m\u001b[0m\n\u001b[0;32m      5\u001b[0m \u001b[0mplt\u001b[0m\u001b[1;33m.\u001b[0m\u001b[0mshow\u001b[0m\u001b[1;33m(\u001b[0m\u001b[1;33m)\u001b[0m\u001b[1;33m\u001b[0m\u001b[1;33m\u001b[0m\u001b[0m\n",
      "\u001b[1;31mNameError\u001b[0m: name 'correlation' is not defined"
     ]
    },
    {
     "data": {
      "text/plain": [
       "<Figure size 1008x216 with 0 Axes>"
      ]
     },
     "metadata": {},
     "output_type": "display_data"
    }
   ],
   "source": [
    "plt.figure(figsize=(14, 3))\n",
    "correlation[\"nutripoints\"].plot.bar(x=None, y=None, width=0.8, legend=None)\n",
    "plt.ylabel(\"Spearman R\")\n",
    "plt.title(\"Correlation nutripoints\")\n",
    "plt.show()"
   ]
  },
  {
   "cell_type": "code",
   "execution_count": 57,
   "metadata": {},
   "outputs": [
    {
     "data": {
      "text/html": [
       "<div>\n",
       "<style scoped>\n",
       "    .dataframe tbody tr th:only-of-type {\n",
       "        vertical-align: middle;\n",
       "    }\n",
       "\n",
       "    .dataframe tbody tr th {\n",
       "        vertical-align: top;\n",
       "    }\n",
       "\n",
       "    .dataframe thead th {\n",
       "        text-align: right;\n",
       "    }\n",
       "</style>\n",
       "<table border=\"1\" class=\"dataframe\">\n",
       "  <thead>\n",
       "    <tr style=\"text-align: right;\">\n",
       "      <th></th>\n",
       "      <th>energy_fat</th>\n",
       "      <th>energy_saturate</th>\n",
       "      <th>energy_sugar</th>\n",
       "      <th>energy_protein</th>\n",
       "      <th>energy_carb</th>\n",
       "      <th>energy_fibre</th>\n",
       "      <th>energy_alcohol</th>\n",
       "      <th>energy_tot</th>\n",
       "      <th>h_nutrients_calories</th>\n",
       "      <th>nutripoints</th>\n",
       "      <th>...</th>\n",
       "      <th>Unemployment rate</th>\n",
       "      <th>Crime rate - Index</th>\n",
       "      <th>Deliberate Fires</th>\n",
       "      <th>Average Capped GCSE and Equivalent Point Score Per Pupil</th>\n",
       "      <th>Unauthorised Absence in All Schools (%)</th>\n",
       "      <th>Dependent children in out-of-work families</th>\n",
       "      <th>Public Transport Accessibility</th>\n",
       "      <th>Homes with access to open space &amp; nature, and % greenspace</th>\n",
       "      <th>Subjective well-being average score</th>\n",
       "      <th>Index Score 2013</th>\n",
       "    </tr>\n",
       "  </thead>\n",
       "  <tbody>\n",
       "    <tr>\n",
       "      <th>count</th>\n",
       "      <td>414.000000</td>\n",
       "      <td>414.000000</td>\n",
       "      <td>4.140000e+02</td>\n",
       "      <td>4.140000e+02</td>\n",
       "      <td>4.140000e+02</td>\n",
       "      <td>4.140000e+02</td>\n",
       "      <td>4.140000e+02</td>\n",
       "      <td>4.140000e+02</td>\n",
       "      <td>4.140000e+02</td>\n",
       "      <td>4.140000e+02</td>\n",
       "      <td>...</td>\n",
       "      <td>4.140000e+02</td>\n",
       "      <td>4.140000e+02</td>\n",
       "      <td>4.140000e+02</td>\n",
       "      <td>4.140000e+02</td>\n",
       "      <td>4.140000e+02</td>\n",
       "      <td>4.140000e+02</td>\n",
       "      <td>4.140000e+02</td>\n",
       "      <td>4.140000e+02</td>\n",
       "      <td>4.140000e+02</td>\n",
       "      <td>4.140000e+02</td>\n",
       "    </tr>\n",
       "    <tr>\n",
       "      <th>mean</th>\n",
       "      <td>0.000000</td>\n",
       "      <td>0.000000</td>\n",
       "      <td>-1.716287e-17</td>\n",
       "      <td>1.716287e-17</td>\n",
       "      <td>-3.432574e-17</td>\n",
       "      <td>-1.716287e-17</td>\n",
       "      <td>-4.290717e-18</td>\n",
       "      <td>-3.432574e-17</td>\n",
       "      <td>2.574430e-17</td>\n",
       "      <td>-8.581434e-18</td>\n",
       "      <td>...</td>\n",
       "      <td>8.581434e-18</td>\n",
       "      <td>8.581434e-18</td>\n",
       "      <td>-8.581434e-18</td>\n",
       "      <td>-4.290717e-18</td>\n",
       "      <td>4.290717e-18</td>\n",
       "      <td>-1.287215e-17</td>\n",
       "      <td>8.581434e-18</td>\n",
       "      <td>1.609019e-17</td>\n",
       "      <td>-2.574430e-17</td>\n",
       "      <td>-2.145359e-17</td>\n",
       "    </tr>\n",
       "    <tr>\n",
       "      <th>std</th>\n",
       "      <td>1.001210</td>\n",
       "      <td>1.001210</td>\n",
       "      <td>1.001210e+00</td>\n",
       "      <td>1.001210e+00</td>\n",
       "      <td>1.001210e+00</td>\n",
       "      <td>1.001210e+00</td>\n",
       "      <td>1.001210e+00</td>\n",
       "      <td>1.001210e+00</td>\n",
       "      <td>1.001210e+00</td>\n",
       "      <td>1.001210e+00</td>\n",
       "      <td>...</td>\n",
       "      <td>1.001210e+00</td>\n",
       "      <td>1.001210e+00</td>\n",
       "      <td>1.001210e+00</td>\n",
       "      <td>1.001210e+00</td>\n",
       "      <td>1.001210e+00</td>\n",
       "      <td>1.001210e+00</td>\n",
       "      <td>1.001210e+00</td>\n",
       "      <td>1.001210e+00</td>\n",
       "      <td>1.001210e+00</td>\n",
       "      <td>1.001210e+00</td>\n",
       "    </tr>\n",
       "    <tr>\n",
       "      <th>min</th>\n",
       "      <td>-4.858612</td>\n",
       "      <td>-4.106531</td>\n",
       "      <td>-2.209362e+00</td>\n",
       "      <td>-3.807545e+00</td>\n",
       "      <td>-2.557694e+00</td>\n",
       "      <td>-2.312199e+00</td>\n",
       "      <td>-2.757274e+00</td>\n",
       "      <td>-3.252553e+00</td>\n",
       "      <td>-4.386729e+00</td>\n",
       "      <td>-3.116950e+00</td>\n",
       "      <td>...</td>\n",
       "      <td>-5.361349e+00</td>\n",
       "      <td>-4.579904e+00</td>\n",
       "      <td>-5.415851e+00</td>\n",
       "      <td>-2.918087e+00</td>\n",
       "      <td>-3.289101e+00</td>\n",
       "      <td>-2.769662e+00</td>\n",
       "      <td>-1.769510e+00</td>\n",
       "      <td>-3.236988e+00</td>\n",
       "      <td>-2.266876e+00</td>\n",
       "      <td>-2.621223e+00</td>\n",
       "    </tr>\n",
       "    <tr>\n",
       "      <th>25%</th>\n",
       "      <td>-0.591474</td>\n",
       "      <td>-0.633953</td>\n",
       "      <td>-6.748060e-01</td>\n",
       "      <td>-5.022616e-01</td>\n",
       "      <td>-7.102759e-01</td>\n",
       "      <td>-6.822733e-01</td>\n",
       "      <td>-6.951179e-01</td>\n",
       "      <td>-6.479501e-01</td>\n",
       "      <td>-6.496369e-01</td>\n",
       "      <td>-5.731818e-01</td>\n",
       "      <td>...</td>\n",
       "      <td>-6.071623e-01</td>\n",
       "      <td>-5.187806e-01</td>\n",
       "      <td>-3.979695e-01</td>\n",
       "      <td>-7.344486e-01</td>\n",
       "      <td>-6.224379e-01</td>\n",
       "      <td>-6.739686e-01</td>\n",
       "      <td>-7.563159e-01</td>\n",
       "      <td>-7.091274e-01</td>\n",
       "      <td>-8.253661e-01</td>\n",
       "      <td>-7.294591e-01</td>\n",
       "    </tr>\n",
       "    <tr>\n",
       "      <th>50%</th>\n",
       "      <td>-0.088255</td>\n",
       "      <td>-0.102794</td>\n",
       "      <td>-1.464485e-01</td>\n",
       "      <td>2.187660e-01</td>\n",
       "      <td>1.172799e-03</td>\n",
       "      <td>-5.706061e-02</td>\n",
       "      <td>-2.918486e-02</td>\n",
       "      <td>7.174067e-03</td>\n",
       "      <td>6.406804e-02</td>\n",
       "      <td>-2.097863e-01</td>\n",
       "      <td>...</td>\n",
       "      <td>2.184025e-01</td>\n",
       "      <td>1.723237e-01</td>\n",
       "      <td>2.604732e-01</td>\n",
       "      <td>-5.006307e-02</td>\n",
       "      <td>8.023090e-02</td>\n",
       "      <td>-5.076569e-02</td>\n",
       "      <td>-2.900224e-01</td>\n",
       "      <td>1.949633e-03</td>\n",
       "      <td>5.969118e-02</td>\n",
       "      <td>4.146312e-02</td>\n",
       "    </tr>\n",
       "    <tr>\n",
       "      <th>75%</th>\n",
       "      <td>0.524087</td>\n",
       "      <td>0.537236</td>\n",
       "      <td>6.077119e-01</td>\n",
       "      <td>6.826036e-01</td>\n",
       "      <td>7.163681e-01</td>\n",
       "      <td>6.009698e-01</td>\n",
       "      <td>5.872242e-01</td>\n",
       "      <td>5.933283e-01</td>\n",
       "      <td>7.314173e-01</td>\n",
       "      <td>8.804002e-01</td>\n",
       "      <td>...</td>\n",
       "      <td>7.945244e-01</td>\n",
       "      <td>6.879187e-01</td>\n",
       "      <td>6.774120e-01</td>\n",
       "      <td>6.557210e-01</td>\n",
       "      <td>7.131397e-01</td>\n",
       "      <td>7.993466e-01</td>\n",
       "      <td>5.912542e-01</td>\n",
       "      <td>6.956537e-01</td>\n",
       "      <td>5.236590e-01</td>\n",
       "      <td>6.884352e-01</td>\n",
       "    </tr>\n",
       "    <tr>\n",
       "      <th>max</th>\n",
       "      <td>4.148718</td>\n",
       "      <td>4.951899</td>\n",
       "      <td>2.609308e+00</td>\n",
       "      <td>2.133481e+00</td>\n",
       "      <td>2.357185e+00</td>\n",
       "      <td>4.868205e+00</td>\n",
       "      <td>4.181711e+00</td>\n",
       "      <td>2.751558e+00</td>\n",
       "      <td>2.836632e+00</td>\n",
       "      <td>3.787564e+00</td>\n",
       "      <td>...</td>\n",
       "      <td>1.559490e+00</td>\n",
       "      <td>1.901143e+00</td>\n",
       "      <td>1.141527e+00</td>\n",
       "      <td>2.789739e+00</td>\n",
       "      <td>2.239476e+00</td>\n",
       "      <td>2.172853e+00</td>\n",
       "      <td>3.166364e+00</td>\n",
       "      <td>2.780519e+00</td>\n",
       "      <td>2.456041e+00</td>\n",
       "      <td>2.316098e+00</td>\n",
       "    </tr>\n",
       "  </tbody>\n",
       "</table>\n",
       "<p>8 rows × 23 columns</p>\n",
       "</div>"
      ],
      "text/plain": [
       "       energy_fat  energy_saturate  energy_sugar  energy_protein  \\\n",
       "count  414.000000       414.000000  4.140000e+02    4.140000e+02   \n",
       "mean     0.000000         0.000000 -1.716287e-17    1.716287e-17   \n",
       "std      1.001210         1.001210  1.001210e+00    1.001210e+00   \n",
       "min     -4.858612        -4.106531 -2.209362e+00   -3.807545e+00   \n",
       "25%     -0.591474        -0.633953 -6.748060e-01   -5.022616e-01   \n",
       "50%     -0.088255        -0.102794 -1.464485e-01    2.187660e-01   \n",
       "75%      0.524087         0.537236  6.077119e-01    6.826036e-01   \n",
       "max      4.148718         4.951899  2.609308e+00    2.133481e+00   \n",
       "\n",
       "        energy_carb  energy_fibre  energy_alcohol    energy_tot  \\\n",
       "count  4.140000e+02  4.140000e+02    4.140000e+02  4.140000e+02   \n",
       "mean  -3.432574e-17 -1.716287e-17   -4.290717e-18 -3.432574e-17   \n",
       "std    1.001210e+00  1.001210e+00    1.001210e+00  1.001210e+00   \n",
       "min   -2.557694e+00 -2.312199e+00   -2.757274e+00 -3.252553e+00   \n",
       "25%   -7.102759e-01 -6.822733e-01   -6.951179e-01 -6.479501e-01   \n",
       "50%    1.172799e-03 -5.706061e-02   -2.918486e-02  7.174067e-03   \n",
       "75%    7.163681e-01  6.009698e-01    5.872242e-01  5.933283e-01   \n",
       "max    2.357185e+00  4.868205e+00    4.181711e+00  2.751558e+00   \n",
       "\n",
       "       h_nutrients_calories   nutripoints  ...  Unemployment rate  \\\n",
       "count          4.140000e+02  4.140000e+02  ...       4.140000e+02   \n",
       "mean           2.574430e-17 -8.581434e-18  ...       8.581434e-18   \n",
       "std            1.001210e+00  1.001210e+00  ...       1.001210e+00   \n",
       "min           -4.386729e+00 -3.116950e+00  ...      -5.361349e+00   \n",
       "25%           -6.496369e-01 -5.731818e-01  ...      -6.071623e-01   \n",
       "50%            6.406804e-02 -2.097863e-01  ...       2.184025e-01   \n",
       "75%            7.314173e-01  8.804002e-01  ...       7.945244e-01   \n",
       "max            2.836632e+00  3.787564e+00  ...       1.559490e+00   \n",
       "\n",
       "       Crime rate - Index  Deliberate Fires  \\\n",
       "count        4.140000e+02      4.140000e+02   \n",
       "mean         8.581434e-18     -8.581434e-18   \n",
       "std          1.001210e+00      1.001210e+00   \n",
       "min         -4.579904e+00     -5.415851e+00   \n",
       "25%         -5.187806e-01     -3.979695e-01   \n",
       "50%          1.723237e-01      2.604732e-01   \n",
       "75%          6.879187e-01      6.774120e-01   \n",
       "max          1.901143e+00      1.141527e+00   \n",
       "\n",
       "       Average Capped GCSE and Equivalent Point Score Per Pupil  \\\n",
       "count                                       4.140000e+02          \n",
       "mean                                       -4.290717e-18          \n",
       "std                                         1.001210e+00          \n",
       "min                                        -2.918087e+00          \n",
       "25%                                        -7.344486e-01          \n",
       "50%                                        -5.006307e-02          \n",
       "75%                                         6.557210e-01          \n",
       "max                                         2.789739e+00          \n",
       "\n",
       "       Unauthorised Absence in All Schools (%)  \\\n",
       "count                             4.140000e+02   \n",
       "mean                              4.290717e-18   \n",
       "std                               1.001210e+00   \n",
       "min                              -3.289101e+00   \n",
       "25%                              -6.224379e-01   \n",
       "50%                               8.023090e-02   \n",
       "75%                               7.131397e-01   \n",
       "max                               2.239476e+00   \n",
       "\n",
       "       Dependent children in out-of-work families  \\\n",
       "count                                4.140000e+02   \n",
       "mean                                -1.287215e-17   \n",
       "std                                  1.001210e+00   \n",
       "min                                 -2.769662e+00   \n",
       "25%                                 -6.739686e-01   \n",
       "50%                                 -5.076569e-02   \n",
       "75%                                  7.993466e-01   \n",
       "max                                  2.172853e+00   \n",
       "\n",
       "       Public Transport Accessibility  \\\n",
       "count                    4.140000e+02   \n",
       "mean                     8.581434e-18   \n",
       "std                      1.001210e+00   \n",
       "min                     -1.769510e+00   \n",
       "25%                     -7.563159e-01   \n",
       "50%                     -2.900224e-01   \n",
       "75%                      5.912542e-01   \n",
       "max                      3.166364e+00   \n",
       "\n",
       "       Homes with access to open space & nature, and % greenspace  \\\n",
       "count                                       4.140000e+02            \n",
       "mean                                        1.609019e-17            \n",
       "std                                         1.001210e+00            \n",
       "min                                        -3.236988e+00            \n",
       "25%                                        -7.091274e-01            \n",
       "50%                                         1.949633e-03            \n",
       "75%                                         6.956537e-01            \n",
       "max                                         2.780519e+00            \n",
       "\n",
       "       Subjective well-being average score  Index Score 2013  \n",
       "count                         4.140000e+02      4.140000e+02  \n",
       "mean                         -2.574430e-17     -2.145359e-17  \n",
       "std                           1.001210e+00      1.001210e+00  \n",
       "min                          -2.266876e+00     -2.621223e+00  \n",
       "25%                          -8.253661e-01     -7.294591e-01  \n",
       "50%                           5.969118e-02      4.146312e-02  \n",
       "75%                           5.236590e-01      6.884352e-01  \n",
       "max                           2.456041e+00      2.316098e+00  \n",
       "\n",
       "[8 rows x 23 columns]"
      ]
     },
     "execution_count": 57,
     "metadata": {},
     "output_type": "execute_result"
    }
   ],
   "source": [
    "scaler = StandardScaler()\n",
    "wellbeing_grocery_analysis[wellbeing_grocery_analysis.columns] = scaler.fit_transform(wellbeing_grocery_analysis\n",
    "                                                                                      [wellbeing_grocery_analysis.columns])\n",
    "wellbeing_grocery_analysis.describe()"
   ]
  },
  {
   "cell_type": "code",
   "execution_count": 30,
   "metadata": {},
   "outputs": [
    {
     "name": "stdout",
     "output_type": "stream",
     "text": [
      "                             OLS Regression Results                             \n",
      "================================================================================\n",
      "Dep. Variable:     h_nutrients_calories   R-squared:                       0.245\n",
      "Model:                              OLS   Adj. R-squared:                  0.234\n",
      "Method:                   Least Squares   F-statistic:                     21.98\n",
      "Date:                  Mon, 07 Dec 2020   Prob (F-statistic):           2.02e-22\n",
      "Time:                          10:22:20   Log-Likelihood:                -529.33\n",
      "No. Observations:                   414   AIC:                             1073.\n",
      "Df Residuals:                       407   BIC:                             1101.\n",
      "Df Model:                             6                                         \n",
      "Covariance Type:              nonrobust                                         \n",
      "===================================================================================================================================\n",
      "                                                                      coef    std err          t      P>|t|      [0.025      0.975]\n",
      "-----------------------------------------------------------------------------------------------------------------------------------\n",
      "Intercept                                                        6.968e-15      0.043   1.62e-13      1.000      -0.085       0.085\n",
      "Q(\"Life Expectancy\")                                                0.0977      0.055      1.778      0.076      -0.010       0.206\n",
      "Q(\"Incapacity Benefit rate\")                                       -0.1167      0.063     -1.863      0.063      -0.240       0.006\n",
      "Q(\"Unemployment rate\")                                              0.4665      0.072      6.506      0.000       0.326       0.607\n",
      "Q(\"Crime rate - Index\")                                            -0.3573      0.050     -7.214      0.000      -0.455      -0.260\n",
      "Q(\"Childhood Obesity\")                                              0.1190      0.059      2.009      0.045       0.003       0.235\n",
      "Q(\"Homes with access to open space & nature, and % greenspace\")     0.0649      0.043      1.500      0.134      -0.020       0.150\n",
      "==============================================================================\n",
      "Omnibus:                       33.776   Durbin-Watson:                   1.696\n",
      "Prob(Omnibus):                  0.000   Jarque-Bera (JB):               43.625\n",
      "Skew:                          -0.638   Prob(JB):                     3.37e-10\n",
      "Kurtosis:                       3.949   Cond. No.                         3.45\n",
      "==============================================================================\n",
      "\n",
      "Notes:\n",
      "[1] Standard Errors assume that the covariance matrix of the errors is correctly specified.\n"
     ]
    }
   ],
   "source": [
    "reg_features = 'Q(\"Life Expectancy\") + Q(\"Incapacity Benefit rate\") + Q(\"Unemployment rate\") + Q(\"Crime rate - Index\") \\\n",
    "+ Q(\"Childhood Obesity\") + Q(\"Homes with access to open space & nature, and % greenspace\")'\n",
    "\n",
    "mod = smf.ols(formula='h_nutrients_calories ~ ' + reg_features, data=wellbeing_grocery_analysis)\n",
    "res = mod.fit()\n",
    "print(res.summary())"
   ]
  },
  {
   "cell_type": "code",
   "execution_count": 31,
   "metadata": {},
   "outputs": [
    {
     "name": "stdout",
     "output_type": "stream",
     "text": [
      "                            OLS Regression Results                            \n",
      "==============================================================================\n",
      "Dep. Variable:           energy_fibre   R-squared:                       0.436\n",
      "Model:                            OLS   Adj. R-squared:                  0.428\n",
      "Method:                 Least Squares   F-statistic:                     52.48\n",
      "Date:                Mon, 07 Dec 2020   Prob (F-statistic):           9.22e-48\n",
      "Time:                        10:22:20   Log-Likelihood:                -468.83\n",
      "No. Observations:                 414   AIC:                             951.7\n",
      "Df Residuals:                     407   BIC:                             979.8\n",
      "Df Model:                           6                                         \n",
      "Covariance Type:            nonrobust                                         \n",
      "===================================================================================================================================\n",
      "                                                                      coef    std err          t      P>|t|      [0.025      0.975]\n",
      "-----------------------------------------------------------------------------------------------------------------------------------\n",
      "Intercept                                                       -5.967e-16      0.037   -1.6e-14      1.000      -0.073       0.073\n",
      "Q(\"Life Expectancy\")                                                0.0790      0.047      1.663      0.097      -0.014       0.172\n",
      "Q(\"Incapacity Benefit rate\")                                       -0.0470      0.054     -0.868      0.386      -0.153       0.059\n",
      "Q(\"Unemployment rate\")                                              0.4159      0.062      6.714      0.000       0.294       0.538\n",
      "Q(\"Crime rate - Index\")                                            -0.0648      0.043     -1.514      0.131      -0.149       0.019\n",
      "Q(\"Childhood Obesity\")                                              0.3178      0.051      6.209      0.000       0.217       0.418\n",
      "Q(\"Homes with access to open space & nature, and % greenspace\")     0.0125      0.037      0.335      0.738      -0.061       0.086\n",
      "==============================================================================\n",
      "Omnibus:                       55.489   Durbin-Watson:                   1.734\n",
      "Prob(Omnibus):                  0.000   Jarque-Bera (JB):              185.953\n",
      "Skew:                           0.570   Prob(JB):                     4.18e-41\n",
      "Kurtosis:                       6.079   Cond. No.                         3.45\n",
      "==============================================================================\n",
      "\n",
      "Notes:\n",
      "[1] Standard Errors assume that the covariance matrix of the errors is correctly specified.\n"
     ]
    }
   ],
   "source": [
    "mod = smf.ols(formula='energy_fibre ~ ' + reg_features, data=wellbeing_grocery_analysis)\n",
    "res = mod.fit()\n",
    "print(res.summary())"
   ]
  },
  {
   "cell_type": "code",
   "execution_count": 32,
   "metadata": {
    "jupyter": {
     "outputs_hidden": false
    },
    "pycharm": {
     "name": "#%%\n"
    }
   },
   "outputs": [
    {
     "name": "stdout",
     "output_type": "stream",
     "text": [
      "['New ward code', 'Ward name', 'Borough', 'Life Expectancy', 'Childhood Obesity', 'Incapacity Benefit rate', 'Unemployment rate', 'Crime rate - Index', 'Deliberate Fires', 'Average Capped GCSE and Equivalent Point Score Per Pupil', 'Unauthorised Absence in All Schools (%)', 'Dependent children in out-of-work families', 'Public Transport Accessibility', 'Homes with access to open space & nature, and % greenspace', 'Subjective well-being average score', 'Index Score 2013']\n"
     ]
    }
   ],
   "source": [
    "wellbeing_scores_columns = wellbeing_scores.columns.values.tolist()\n",
    "print(wellbeing_scores_columns)"
   ]
  },
  {
   "cell_type": "code",
   "execution_count": 33,
   "metadata": {
    "jupyter": {
     "outputs_hidden": false
    },
    "pycharm": {
     "name": "#%%\n"
    }
   },
   "outputs": [],
   "source": [
    "numerical_wellbeing_scores_columns = ['Life Expectancy', 'Childhood Obesity', 'Incapacity Benefit rate', 'Unemployment rate',\n",
    "                                      'Crime rate - Index', 'Deliberate Fires',\n",
    "                                      'Average Capped GCSE and Equivalent Point Score Per Pupil',\n",
    "                                      'Unauthorised Absence in All Schools (%)', 'Dependent children in out-of-work families',\n",
    "                                      'Public Transport Accessibility',\n",
    "                                      'Homes with access to open space & nature, and % greenspace',\n",
    "                                      'Subjective well-being average score', 'Index Score 2013']\n",
    "\n",
    "wellbeing_scores_analysis = wellbeing_scores[numerical_wellbeing_scores_columns].dropna(\n",
    ").copy()\n",
    "wellbeing_scores_reduced_pca = PCA(n_components=2).fit(\n",
    "    wellbeing_scores_analysis).transform(wellbeing_scores_analysis)"
   ]
  },
  {
   "cell_type": "code",
   "execution_count": 34,
   "metadata": {
    "pycharm": {
     "name": "#%%\n"
    }
   },
   "outputs": [
    {
     "data": {
      "text/plain": [
       "<matplotlib.collections.PathCollection at 0x26638124a00>"
      ]
     },
     "execution_count": 34,
     "metadata": {},
     "output_type": "execute_result"
    },
    {
     "data": {
      "image/png": "[encoded data removed]",
      "text/plain": [
       "<Figure size 1008x216 with 1 Axes>"
      ]
     },
     "metadata": {},
     "output_type": "display_data"
    }
   ],
   "source": [
    "labels = wellbeing_scores_analysis.apply(\n",
    "    lambda row: \"g\" if row['Index Score 2013'] >= 0 else \"r\", axis=1)\n",
    "# Plot the data reduced in 2d space with PCA\n",
    "plt.figure(figsize=(14, 3))\n",
    "plt.scatter(wellbeing_scores_reduced_pca[:, 0],\n",
    "            wellbeing_scores_reduced_pca[:, 1], c=labels, alpha=0.6)"
   ]
  },
  {
   "cell_type": "code",
   "execution_count": 35,
   "metadata": {},
   "outputs": [
    {
     "data": {
      "image/png": "[encoded data removed]",
      "text/plain": [
       "<Figure size 432x288 with 1 Axes>"
      ]
     },
     "metadata": {},
     "output_type": "display_data"
    }
   ],
   "source": [
    "columns_kmeans_health=['h_nutrients_calories', 'energy_alcohol']\n",
    "columns_kmeans = ['nutripoints']\n",
    "wellbeing_grocery_kmeans=wellbeing_grocery[columns_kmeans].copy()\n",
    "\n",
    "def plot_sse(X, start=2, end=11):\n",
    "    sse = []\n",
    "    for k in range(start, end):\n",
    "        # Assign the labels to the clusters\n",
    "        kmeans = KMeans(n_clusters=k, random_state=10).fit(X)\n",
    "        sse.append({\"k\": k, \"sse\": kmeans.inertia_})\n",
    "    sse = pd.DataFrame(sse)\n",
    "        # Plot the data\n",
    "    plt.plot(sse.k, sse.sse)\n",
    "    plt.xlabel(\"K\")\n",
    "    plt.ylabel(\"Sum of Squared Errors\")\n",
    "    \n",
    "plot_sse(wellbeing_grocery_kmeans)\n"
   ]
  },
  {
   "cell_type": "code",
   "execution_count": 36,
   "metadata": {},
   "outputs": [
    {
     "data": {
      "text/plain": [
       "Text(0, 0.5, 'Silhouette score')"
      ]
     },
     "execution_count": 36,
     "metadata": {},
     "output_type": "execute_result"
    },
    {
     "data": {
      "image/png": "[encoded data removed]",
      "text/plain": [
       "<Figure size 432x288 with 1 Axes>"
      ]
     },
     "metadata": {},
     "output_type": "display_data"
    }
   ],
   "source": [
    "#######    silhouette scores to choose k    #########\n",
    "silhouettes = []\n",
    "for k in range(2, 11): # Try multiple k\n",
    "    # Cluster the data and assigne the labels\n",
    "    labels = KMeans(n_clusters=k, random_state=10).fit_predict(wellbeing_grocery_kmeans)\n",
    "    # Get the Silhouette score\n",
    "    score = silhouette_score(wellbeing_grocery_kmeans, labels)\n",
    "    silhouettes.append({\"k\": k, \"score\": score})\n",
    "    \n",
    "silhouettes = pd.DataFrame(silhouettes) # Convert to dataframe\n",
    "\n",
    "# Plot the data\n",
    "plt.plot(silhouettes.k, silhouettes.score)\n",
    "plt.xlabel(\"K\")\n",
    "plt.ylabel(\"Silhouette score\")"
   ]
  },
  {
   "cell_type": "code",
   "execution_count": 37,
   "metadata": {},
   "outputs": [
    {
     "data": {
      "text/plain": [
       "<AxesSubplot:xlabel='nutripoints'>"
      ]
     },
     "execution_count": 37,
     "metadata": {},
     "output_type": "execute_result"
    },
    {
     "data": {
      "image/png": "[encoded data removed]",
      "text/plain": [
       "<Figure size 720x576 with 1 Axes>"
      ]
     },
     "metadata": {},
     "output_type": "display_data"
    }
   ],
   "source": [
    "fig, axs = plt.subplots(1, 1, figsize=(10,8), sharey=True, sharex=True)\n",
    "\n",
    "# Cluster the data with the current number of clusters\n",
    "kmean = KMeans(n_clusters=5, random_state=42).fit(wellbeing_grocery_kmeans)\n",
    "\n",
    "# Plot the data by using the labels as color\n",
    "#axs.scatter(wellbeing_grocery_kmeans, wellbeing_grocery_kmeans, c=kmean.labels_)\n",
    "wellbeing_grocery_kmeans['label']=kmean.labels_\n",
    "sns.swarmplot(data=wellbeing_grocery_kmeans, x='nutripoints', ax=axs, hue=wellbeing_grocery_kmeans.label)\n",
    "# Plot the centroids\n",
    "#for c in kmean.cluster_centers_:\n",
    "    #axs.scatter(c[0], c[1], marker=\"+\", color=\"red\")"
   ]
  },
  {
   "cell_type": "code",
   "execution_count": 38,
   "metadata": {
    "scrolled": true
   },
   "outputs": [
    {
     "data": {
      "text/plain": [
       "nutri_label\n",
       "0     9.0\n",
       "1     8.0\n",
       "2    11.5\n",
       "3     5.0\n",
       "4    10.0\n",
       "Name: nutripoints, dtype: float64"
      ]
     },
     "execution_count": 38,
     "metadata": {},
     "output_type": "execute_result"
    }
   ],
   "source": [
    "wellbeing_grocery[\"nutri_label\"]=kmean.labels_\n",
    "wellbeing_grocery.groupby(\"nutri_label\")[\"nutripoints\"].min()"
   ]
  },
  {
   "cell_type": "code",
   "execution_count": 88,
   "metadata": {},
   "outputs": [
    {
     "data": {
      "text/plain": [
       "LinearRegression()"
      ]
     },
     "execution_count": 88,
     "metadata": {},
     "output_type": "execute_result"
    }
   ],
   "source": [
    "## linear regression ##\n",
    "lin_reg = LinearRegression()  # create the model\n",
    "lin_reg.fit(X,y)  # train it"
   ]
  },
  {
   "cell_type": "code",
   "execution_count": 89,
   "metadata": {},
   "outputs": [
    {
     "name": "stdout",
     "output_type": "stream",
     "text": [
      "-0.09685238336339883 * Life Expectancy + \n",
      "-0.022050671834652244 * Childhood Obesity + \n",
      "0.10898506439209542 * Incapacity Benefit rate + \n",
      "-0.18557034087715332 * Unemployment rate + \n",
      "0.04171201464292079 * Crime rate - Index + \n",
      "-0.037588487941237855 * Deliberate Fires + \n",
      "-0.1250199099028978 * Average Capped GCSE and Equivalent Point Score Per Pupil + \n",
      "-0.11371258037672397 * Unauthorised Absence in All Schools (%) + \n",
      "-0.0034551831698552194 * Dependent children in out-of-work families + \n",
      "-0.14527698037483436 * Public Transport Accessibility + \n",
      "0.08046266212260916 * Homes with access to open space & nature, and % greenspace + \n",
      "0.023769924485141578 * Subjective well-being average score + \n",
      "0.13620742941322708 * Index Score 2013 + \n",
      "-3.608440511979806e-18\n"
     ]
    }
   ],
   "source": [
    "for f in range(len(numerical_wellbeing_scores_columns)):\n",
    "    print(\"{0} * {1} + \".format(lin_reg.coef_[f], numerical_wellbeing_scores_columns[f]))\n",
    "print(lin_reg.intercept_)"
   ]
  },
  {
   "cell_type": "code",
   "execution_count": 90,
   "metadata": {
    "scrolled": true
   },
   "outputs": [
    {
     "name": "stdout",
     "output_type": "stream",
     "text": [
      "                            OLS Regression Results                            \n",
      "==============================================================================\n",
      "Dep. Variable:            nutripoints   R-squared:                       0.099\n",
      "Model:                            OLS   Adj. R-squared:                  0.069\n",
      "Method:                 Least Squares   F-statistic:                     3.372\n",
      "Date:                Mon, 07 Dec 2020   Prob (F-statistic):           6.15e-05\n",
      "Time:                        10:59:41   Log-Likelihood:                -565.91\n",
      "No. Observations:                 414   AIC:                             1160.\n",
      "Df Residuals:                     400   BIC:                             1216.\n",
      "Df Model:                          13                                         \n",
      "Covariance Type:            nonrobust                                         \n",
      "===================================================================================================================================\n",
      "                                                                      coef    std err          t      P>|t|      [0.025      0.975]\n",
      "-----------------------------------------------------------------------------------------------------------------------------------\n",
      "Intercept                                                        1.388e-17      0.047   2.92e-16      1.000      -0.093       0.093\n",
      "Q(\"Life Expectancy\")                                               -0.0969      0.070     -1.388      0.166      -0.234       0.040\n",
      "Q(\"Childhood Obesity\")                                             -0.0221      0.078     -0.284      0.776      -0.175       0.131\n",
      "Q(\"Incapacity Benefit rate\")                                        0.1090      0.089      1.226      0.221      -0.066       0.284\n",
      "Q(\"Unemployment rate\")                                             -0.1856      0.089     -2.087      0.038      -0.360      -0.011\n",
      "Q(\"Crime rate - Index\")                                             0.0417      0.063      0.658      0.511      -0.083       0.166\n",
      "Q(\"Deliberate Fires\")                                              -0.0376      0.059     -0.639      0.523      -0.153       0.078\n",
      "Q(\"Average Capped GCSE and Equivalent Point Score Per Pupil\")      -0.1250      0.071     -1.760      0.079      -0.265       0.015\n",
      "Q(\"Unauthorised Absence in All Schools (%)\")                       -0.1137      0.079     -1.445      0.149      -0.268       0.041\n",
      "Q(\"Dependent children in out-of-work families\")                    -0.0035      0.118     -0.029      0.977      -0.236       0.229\n",
      "Q(\"Public Transport Accessibility\")                                -0.1453      0.065     -2.229      0.026      -0.273      -0.017\n",
      "Q(\"Homes with access to open space & nature, and % greenspace\")     0.0805      0.053      1.507      0.133      -0.024       0.185\n",
      "Q(\"Subjective well-being average score\")                            0.0238      0.058      0.413      0.680      -0.089       0.137\n",
      "Q(\"Index Score 2013\")                                               0.1362      0.151      0.899      0.369      -0.162       0.434\n",
      "==============================================================================\n",
      "Omnibus:                        1.503   Durbin-Watson:                   1.935\n",
      "Prob(Omnibus):                  0.472   Jarque-Bera (JB):                1.289\n",
      "Skew:                           0.122   Prob(JB):                        0.525\n",
      "Kurtosis:                       3.124   Cond. No.                         9.01\n",
      "==============================================================================\n",
      "\n",
      "Notes:\n",
      "[1] Standard Errors assume that the covariance matrix of the errors is correctly specified.\n"
     ]
    }
   ],
   "source": [
    "reg2_features='Q(\"Life Expectancy\")+Q(\"Childhood Obesity\")+Q(\"Incapacity Benefit rate\")+Q(\"Unemployment rate\")\\\n",
    "                + Q(\"Crime rate - Index\")+Q(\"Deliberate Fires\")+\\\n",
    "                Q(\"Average Capped GCSE and Equivalent Point Score Per Pupil\")+\\\n",
    "                Q(\"Unauthorised Absence in All Schools (%)\")+Q(\"Dependent children in out-of-work families\")+\\\n",
    "                Q(\"Public Transport Accessibility\")+ Q(\"Homes with access to open space & nature, and % greenspace\")+\\\n",
    "                Q(\"Subjective well-being average score\")+Q(\"Index Score 2013\")'\n",
    "mod = smf.ols(formula='nutripoints ~ ' + reg2_features, data=wellbeing_grocery_analysis)\n",
    "res = mod.fit()\n",
    "print(res.summary())"
   ]
  },
  {
   "cell_type": "code",
   "execution_count": 91,
   "metadata": {
    "scrolled": true
   },
   "outputs": [
    {
     "name": "stdout",
     "output_type": "stream",
     "text": [
      "                            OLS Regression Results                            \n",
      "==============================================================================\n",
      "Dep. Variable:            nutripoints   R-squared:                       0.097\n",
      "Model:                            OLS   Adj. R-squared:                  0.070\n",
      "Method:                 Least Squares   F-statistic:                     3.588\n",
      "Date:                Mon, 07 Dec 2020   Prob (F-statistic):           4.20e-05\n",
      "Time:                        10:59:42   Log-Likelihood:                -566.33\n",
      "No. Observations:                 414   AIC:                             1159.\n",
      "Df Residuals:                     401   BIC:                             1211.\n",
      "Df Model:                          12                                         \n",
      "Covariance Type:            nonrobust                                         \n",
      "===================================================================================================================================\n",
      "                                                                      coef    std err          t      P>|t|      [0.025      0.975]\n",
      "-----------------------------------------------------------------------------------------------------------------------------------\n",
      "Intercept                                                        1.388e-17      0.047   2.92e-16      1.000      -0.093       0.093\n",
      "Q(\"Life Expectancy\")                                               -0.0742      0.065     -1.140      0.255      -0.202       0.054\n",
      "Q(\"Childhood Obesity\")                                              0.0040      0.072      0.056      0.955      -0.137       0.146\n",
      "Q(\"Incapacity Benefit rate\")                                        0.1306      0.086      1.527      0.128      -0.038       0.299\n",
      "Q(\"Unemployment rate\")                                             -0.1628      0.085     -1.910      0.057      -0.330       0.005\n",
      "Q(\"Crime rate - Index\")                                             0.0568      0.061      0.930      0.353      -0.063       0.177\n",
      "Q(\"Deliberate Fires\")                                              -0.0216      0.056     -0.385      0.700      -0.132       0.089\n",
      "Q(\"Average Capped GCSE and Equivalent Point Score Per Pupil\")      -0.1084      0.069     -1.581      0.115      -0.243       0.026\n",
      "Q(\"Unauthorised Absence in All Schools (%)\")                       -0.0891      0.074     -1.209      0.228      -0.234       0.056\n",
      "Q(\"Dependent children in out-of-work families\")                     0.0100      0.117      0.085      0.932      -0.221       0.241\n",
      "Q(\"Public Transport Accessibility\")                                -0.1248      0.061     -2.044      0.042      -0.245      -0.005\n",
      "Q(\"Homes with access to open space & nature, and % greenspace\")     0.0986      0.049      1.996      0.047       0.001       0.196\n",
      "Q(\"Subjective well-being average score\")                            0.0474      0.051      0.924      0.356      -0.053       0.148\n",
      "==============================================================================\n",
      "Omnibus:                        1.613   Durbin-Watson:                   1.928\n",
      "Prob(Omnibus):                  0.446   Jarque-Bera (JB):                1.404\n",
      "Skew:                           0.131   Prob(JB):                        0.496\n",
      "Kurtosis:                       3.115   Cond. No.                         6.55\n",
      "==============================================================================\n",
      "\n",
      "Notes:\n",
      "[1] Standard Errors assume that the covariance matrix of the errors is correctly specified.\n"
     ]
    }
   ],
   "source": [
    "reg2_features='Q(\"Life Expectancy\")+Q(\"Childhood Obesity\")+Q(\"Incapacity Benefit rate\")+Q(\"Unemployment rate\")\\\n",
    "                + Q(\"Crime rate - Index\")+Q(\"Deliberate Fires\")+\\\n",
    "                Q(\"Average Capped GCSE and Equivalent Point Score Per Pupil\")+\\\n",
    "                Q(\"Unauthorised Absence in All Schools (%)\")+Q(\"Dependent children in out-of-work families\")+\\\n",
    "                Q(\"Public Transport Accessibility\")+ Q(\"Homes with access to open space & nature, and % greenspace\")+\\\n",
    "                Q(\"Subjective well-being average score\")'\n",
    "mod = smf.ols(formula='nutripoints ~ ' + reg2_features, data=wellbeing_grocery_analysis)\n",
    "res = mod.fit()\n",
    "print(res.summary())"
   ]
  },
  {
   "cell_type": "code",
   "execution_count": 104,
   "metadata": {},
   "outputs": [],
   "source": [
    "X = wellbeing_grocery_analysis[numerical_wellbeing_scores_columns]\n",
    "y = wellbeing_grocery_analysis[\"nutripoints\"]"
   ]
  },
  {
   "cell_type": "code",
   "execution_count": 92,
   "metadata": {},
   "outputs": [],
   "source": [
    "# train a gradient boosting regressor\n",
    "gradboost = GradientBoostingRegressor()\n",
    "\n",
    "# compute r^2 for this new model\n",
    "#r2_random_gradboost = gradboost_random.score(train_X, train_y)\n",
    "\n",
    "#print(f\"R² for the Gradient Boost Regression: {r2_random_gradboost}\")"
   ]
  },
  {
   "cell_type": "code",
   "execution_count": 108,
   "metadata": {},
   "outputs": [
    {
     "name": "stdout",
     "output_type": "stream",
     "text": [
      "Index(['Life Expectancy', 'Childhood Obesity', 'Incapacity Benefit rate',\n",
      "       'Unemployment rate', 'Crime rate - Index', 'Deliberate Fires',\n",
      "       'Average Capped GCSE and Equivalent Point Score Per Pupil',\n",
      "       'Unauthorised Absence in All Schools (%)',\n",
      "       'Dependent children in out-of-work families',\n",
      "       'Public Transport Accessibility',\n",
      "       'Homes with access to open space & nature, and % greenspace',\n",
      "       'Subjective well-being average score', 'Index Score 2013'],\n",
      "      dtype='object')\n",
      "[1 7 6 4 5 9 1 3 1 1 2 1 8]\n"
     ]
    }
   ],
   "source": [
    "selector=RFE(gradboost,n_features_to_select=5, step=1)\n",
    "selector=selector.fit(X,y)\n",
    "print(X.columns)\n",
    "print(selector.ranking_)"
   ]
  },
  {
   "cell_type": "code",
   "execution_count": 95,
   "metadata": {},
   "outputs": [],
   "source": [
    "predicted_y = cross_val_predict(gradboost, X, y, cv=5)"
   ]
  },
  {
   "cell_type": "code",
   "execution_count": 100,
   "metadata": {},
   "outputs": [
    {
     "data": {
      "image/png": "[encoded data removed]",
      "text/plain": [
       "<Figure size 864x576 with 1 Axes>"
      ]
     },
     "metadata": {},
     "output_type": "display_data"
    }
   ],
   "source": [
    "# Plot the results\n",
    "fig, ax = plt.subplots(figsize=(12, 8))\n",
    "ax.scatter(y, predicted_y, edgecolors=(0, 0, 0))\n",
    "ax.set_xlabel('Original')\n",
    "ax.set_ylabel('Predicted')\n",
    "plt.show()"
   ]
  },
  {
   "cell_type": "code",
   "execution_count": 101,
   "metadata": {},
   "outputs": [
    {
     "name": "stdout",
     "output_type": "stream",
     "text": [
      "-0.05315851843872532 1.0531585184387253\n"
     ]
    }
   ],
   "source": [
    "r2=r2_score(y, predicted_y)\n",
    "mse=mean_squared_error(y, predicted_y)\n",
    "print(r2, mse)"
   ]
  },
  {
   "cell_type": "code",
   "execution_count": null,
   "metadata": {},
   "outputs": [],
   "source": []
  }
 ],
 "metadata": {
  "kernelspec": {
   "display_name": "Python 3",
   "language": "python",
   "name": "python3"
  },
  "language_info": {
   "codemirror_mode": {
    "name": "ipython",
    "version": 3
   },
   "file_extension": ".py",
   "mimetype": "text/x-python",
   "name": "python",
   "nbconvert_exporter": "python",
   "pygments_lexer": "ipython3",
   "version": "3.8.5"
  }
 },
 "nbformat": 4,
 "nbformat_minor": 4
}
