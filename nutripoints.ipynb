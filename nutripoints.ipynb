{
 "cells": [
  {
   "cell_type": "code",
   "execution_count": null,
   "metadata": {},
   "outputs": [],
   "source": [
    "# Imports\n",
    "from utils import calculate_nutripoints\n",
    "from sklearn.cluster import KMeans, DBSCAN\n",
    "from statsmodels.stats import diagnostic\n",
    "import statsmodels.formula.api as smf\n",
    "from scipy import stats\n",
    "from scipy.stats import pearsonr\n",
    "from sklearn.preprocessing import StandardScaler\n",
    "from sklearn.decomposition import PCA\n",
    "from sklearn.metrics import silhouette_score\n",
    "from sklearn.linear_model import LinearRegression, LogisticRegression, Ridge\n",
    "from sklearn.neighbors import KNeighborsClassifier\n",
    "from sklearn.ensemble import GradientBoostingRegressor\n",
    "from sklearn.model_selection import cross_val_predict, train_test_split, cross_val_score\n",
    "from sklearn.metrics import mean_squared_error, auc, roc_curve, r2_score\n",
    "from sklearn.feature_selection import RFE\n",
    "import math\n",
    "from IPython.display import display\n",
    "import numpy as np\n",
    "import matplotlib.pyplot as plt\n",
    "import pandas as pd\n",
    "import seaborn as sns\n",
    "\n",
    "%matplotlib inline\n",
    "sns.set_theme()"
   ]
  },
  {
   "cell_type": "code",
   "execution_count": null,
   "metadata": {
    "scrolled": true
   },
   "outputs": [],
   "source": [
    "# Data Imports\n",
    "\n",
    "year_grocery = pd.read_csv(\"data/year_osward_grocery.csv\")\n",
    "display(year_grocery.head())\n",
    "print(year_grocery.shape)"
   ]
  },
  {
   "cell_type": "code",
   "execution_count": null,
   "metadata": {},
   "outputs": [],
   "source": [
    "# year_grocery=year_grocery.sort_values(by='representativeness_norm', ascending=False, ignore_index=True)\n",
    "year_grocery = year_grocery.nlargest(\n",
    "    int(0.8*len(year_grocery)), 'representativeness_norm')"
   ]
  },
  {
   "cell_type": "code",
   "execution_count": null,
   "metadata": {},
   "outputs": [],
   "source": [
    "#nutripoints=['nutri_energy','nutri_sugar', 'nutri_saturate', 'nutri_sodium', 'nutri_fibre', 'nutri_protein', 'nutri_fruit_veg']\n",
    "year_grocery[\"nutripoints\"] = year_grocery.apply(calculate_nutripoints, axis=1)\n",
    "year_grocery[\"nutripoints\"].describe()"
   ]
  },
  {
   "cell_type": "code",
   "execution_count": null,
   "metadata": {
    "scrolled": true
   },
   "outputs": [],
   "source": [
    "display(year_grocery.head())"
   ]
  },
  {
   "cell_type": "code",
   "execution_count": null,
   "metadata": {
    "scrolled": true
   },
   "outputs": [],
   "source": [
    "list_column = [\"area_id\", \"energy_tot\", \"energy_fat\", \"energy_saturate\", \"energy_sugar\", \"energy_protein\", \"energy_carb\",\n",
    "               \"energy_fibre\", \"energy_alcohol\", \"h_nutrients_calories\", \"nutripoints\"]\n",
    "year_grocery = year_grocery.loc[:,\n",
    "                                year_grocery.columns.isin(list(list_column))]\n",
    "display(year_grocery.head())"
   ]
  },
  {
   "cell_type": "code",
   "execution_count": null,
   "metadata": {
    "scrolled": true
   },
   "outputs": [],
   "source": [
    "len(set(year_grocery[\"area_id\"].values))"
   ]
  },
  {
   "cell_type": "code",
   "execution_count": null,
   "metadata": {
    "scrolled": true
   },
   "outputs": [],
   "source": [
    "fig, ax = plt.subplots(4, 6, figsize=(16, 8), sharey=False)\n",
    "\n",
    "for i in range(len(column_boxplot)):\n",
    "    sbplt = ax[int(i/6), i % 6]\n",
    "\n",
    "    sns.histplot(data=wellbeing_grocery_analysis.iloc[:, i], ax=sbplt)\n",
    "    sbplt.set_xlabel('')\n",
    "    sbplt.set_ylabel('')\n",
    "    sbplt.set_title(wellbeing_grocery_analysis.columns[i], wrap=True)\n",
    "\n",
    "fig.tight_layout()\n",
    "fig.subplots_adjust(top=0.9)\n",
    "\n",
    "fig.suptitle('boxplot for each column', fontsize=18)"
   ]
  },
  {
   "cell_type": "code",
   "execution_count": null,
   "metadata": {},
   "outputs": [],
   "source": [
    "# TO DO correlations\n",
    "\n",
    "#fig = plt.figure(figsize=(10, 6))\n",
    "\n",
    "# sns.heatmap(X[FEATURES['EEPD']].corr())"
   ]
  },
  {
   "cell_type": "code",
   "execution_count": null,
   "metadata": {
    "scrolled": true
   },
   "outputs": [],
   "source": [
    "correlation = year_grocery.corr(method=\"spearman\")\n",
    "display(correlation)"
   ]
  },
  {
   "cell_type": "code",
   "execution_count": null,
   "metadata": {
    "scrolled": true
   },
   "outputs": [],
   "source": [
    "plt.figure(figsize=(14, 3))\n",
    "correlation[\"nutripoints\"].plot.bar(x=None, y=None, width=0.8, legend=None)\n",
    "plt.ylabel(\"Spearman R\")\n",
    "plt.title(\"Correlation nutripoints\")\n",
    "plt.show()"
   ]
  },
  {
   "cell_type": "code",
   "execution_count": null,
   "metadata": {},
   "outputs": [],
   "source": [
    "scaler = StandardScaler()\n",
    "wellbeing_grocery_analysis[wellbeing_grocery_analysis.columns] = scaler.fit_transform(wellbeing_grocery_analysis\n",
    "                                                                                      [wellbeing_grocery_analysis.columns])\n",
    "wellbeing_grocery_analysis.describe()"
   ]
  },
  {
   "cell_type": "code",
   "execution_count": null,
   "metadata": {},
   "outputs": [],
   "source": [
    "reg_features = 'Q(\"Life Expectancy\") + Q(\"Incapacity Benefit rate\") + Q(\"Unemployment rate\") + Q(\"Crime rate - Index\") \\\n",
    "+ Q(\"Childhood Obesity\") + Q(\"Homes with access to open space & nature, and % greenspace\")'\n",
    "\n",
    "mod = smf.ols(formula='h_nutrients_calories ~ ' +\n",
    "              reg_features, data=wellbeing_grocery_analysis)\n",
    "res = mod.fit()\n",
    "print(res.summary())"
   ]
  },
  {
   "cell_type": "code",
   "execution_count": null,
   "metadata": {},
   "outputs": [],
   "source": [
    "mod = smf.ols(formula='energy_fibre ~ ' + reg_features,\n",
    "              data=wellbeing_grocery_analysis)\n",
    "res = mod.fit()\n",
    "print(res.summary())"
   ]
  },
  {
   "cell_type": "code",
   "execution_count": null,
   "metadata": {
    "collapsed": false,
    "jupyter": {
     "outputs_hidden": false
    },
    "pycharm": {
     "name": "#%%\n"
    }
   },
   "outputs": [],
   "source": [
    "wellbeing_scores_columns = wellbeing_scores.columns.values.tolist()\n",
    "print(wellbeing_scores_columns)"
   ]
  },
  {
   "cell_type": "code",
   "execution_count": null,
   "metadata": {
    "collapsed": false,
    "jupyter": {
     "outputs_hidden": false
    },
    "pycharm": {
     "name": "#%%\n"
    }
   },
   "outputs": [],
   "source": [
    "numerical_wellbeing_scores_columns = ['Life Expectancy', 'Childhood Obesity', 'Incapacity Benefit rate', 'Unemployment rate',\n",
    "                                      'Crime rate - Index', 'Deliberate Fires',\n",
    "                                      'Average Capped GCSE and Equivalent Point Score Per Pupil',\n",
    "                                      'Unauthorised Absence in All Schools (%)', 'Dependent children in out-of-work families',\n",
    "                                      'Public Transport Accessibility',\n",
    "                                      'Homes with access to open space & nature, and % greenspace',\n",
    "                                      'Subjective well-being average score', 'Index Score 2013']\n",
    "\n",
    "wellbeing_scores_analysis = wellbeing_scores[numerical_wellbeing_scores_columns].dropna(\n",
    ").copy()\n",
    "wellbeing_scores_reduced_pca = PCA(n_components=2).fit(\n",
    "    wellbeing_scores_analysis).transform(wellbeing_scores_analysis)"
   ]
  },
  {
   "cell_type": "code",
   "execution_count": null,
   "metadata": {
    "pycharm": {
     "name": "#%%\n"
    }
   },
   "outputs": [],
   "source": [
    "labels = wellbeing_scores_analysis.apply(\n",
    "    lambda row: \"g\" if row['Index Score 2013'] >= 0 else \"r\", axis=1)\n",
    "# Plot the data reduced in 2d space with PCA\n",
    "plt.figure(figsize=(14, 3))\n",
    "plt.scatter(wellbeing_scores_reduced_pca[:, 0],\n",
    "            wellbeing_scores_reduced_pca[:, 1], c=labels, alpha=0.6)"
   ]
  },
  {
   "cell_type": "code",
   "execution_count": null,
   "metadata": {},
   "outputs": [],
   "source": [
    "columns_kmeans_health = ['h_nutrients_calories', 'energy_alcohol']\n",
    "columns_kmeans = ['nutripoints']\n",
    "wellbeing_grocery_kmeans = wellbeing_grocery[columns_kmeans].copy()\n",
    "\n",
    "\n",
    "def plot_sse(X, start=2, end=11):\n",
    "    sse = []\n",
    "    for k in range(start, end):\n",
    "        # Assign the labels to the clusters\n",
    "        kmeans = KMeans(n_clusters=k, random_state=10).fit(X)\n",
    "        sse.append({\"k\": k, \"sse\": kmeans.inertia_})\n",
    "    sse = pd.DataFrame(sse)\n",
    "    # Plot the data\n",
    "    plt.plot(sse.k, sse.sse)\n",
    "    plt.xlabel(\"K\")\n",
    "    plt.ylabel(\"Sum of Squared Errors\")\n",
    "\n",
    "\n",
    "plot_sse(wellbeing_grocery_kmeans)"
   ]
  },
  {
   "cell_type": "code",
   "execution_count": null,
   "metadata": {},
   "outputs": [],
   "source": [
    "#######    silhouette scores to choose k    #########\n",
    "silhouettes = []\n",
    "for k in range(2, 11):  # Try multiple k\n",
    "    # Cluster the data and assigne the labels\n",
    "    labels = KMeans(n_clusters=k, random_state=10).fit_predict(\n",
    "        wellbeing_grocery_kmeans)\n",
    "    # Get the Silhouette score\n",
    "    score = silhouette_score(wellbeing_grocery_kmeans, labels)\n",
    "    silhouettes.append({\"k\": k, \"score\": score})\n",
    "\n",
    "silhouettes = pd.DataFrame(silhouettes)  # Convert to dataframe\n",
    "\n",
    "# Plot the data\n",
    "plt.plot(silhouettes.k, silhouettes.score)\n",
    "plt.xlabel(\"K\")\n",
    "plt.ylabel(\"Silhouette score\")"
   ]
  },
  {
   "cell_type": "code",
   "execution_count": null,
   "metadata": {},
   "outputs": [],
   "source": [
    "fig, axs = plt.subplots(1, 1, figsize=(10, 8), sharey=True, sharex=True)\n",
    "\n",
    "# Cluster the data with the current number of clusters\n",
    "kmean = KMeans(n_clusters=5, random_state=42).fit(wellbeing_grocery_kmeans)\n",
    "\n",
    "# Plot the data by using the labels as color\n",
    "#axs.scatter(wellbeing_grocery_kmeans, wellbeing_grocery_kmeans, c=kmean.labels_)\n",
    "wellbeing_grocery_kmeans['label'] = kmean.labels_\n",
    "sns.swarmplot(data=wellbeing_grocery_kmeans, x='nutripoints',\n",
    "              ax=axs, hue=wellbeing_grocery_kmeans.label)\n",
    "# Plot the centroids\n",
    "# for c in kmean.cluster_centers_:\n",
    "#axs.scatter(c[0], c[1], marker=\"+\", color=\"red\")"
   ]
  },
  {
   "cell_type": "code",
   "execution_count": null,
   "metadata": {
    "scrolled": true
   },
   "outputs": [],
   "source": [
    "wellbeing_grocery[\"nutri_label\"] = kmean.labels_\n",
    "wellbeing_grocery.groupby(\"nutri_label\")[\"nutripoints\"].min()"
   ]
  },
  {
   "cell_type": "code",
   "execution_count": null,
   "metadata": {},
   "outputs": [],
   "source": [
    "## linear regression ##\n",
    "lin_reg = LinearRegression()  # create the model\n",
    "lin_reg.fit(X, y)  # train it"
   ]
  },
  {
   "cell_type": "code",
   "execution_count": null,
   "metadata": {},
   "outputs": [],
   "source": [
    "for f in range(len(numerical_wellbeing_scores_columns)):\n",
    "    print(\n",
    "        \"{0} * {1} + \".format(lin_reg.coef_[f], numerical_wellbeing_scores_columns[f]))\n",
    "print(lin_reg.intercept_)"
   ]
  },
  {
   "cell_type": "code",
   "execution_count": null,
   "metadata": {
    "scrolled": true
   },
   "outputs": [],
   "source": [
    "reg2_features = 'Q(\"Life Expectancy\")+Q(\"Childhood Obesity\")+Q(\"Incapacity Benefit rate\")+Q(\"Unemployment rate\")\\\n",
    "                + Q(\"Crime rate - Index\")+Q(\"Deliberate Fires\")+\\\n",
    "                Q(\"Average Capped GCSE and Equivalent Point Score Per Pupil\")+\\\n",
    "                Q(\"Unauthorised Absence in All Schools (%)\")+Q(\"Dependent children in out-of-work families\")+\\\n",
    "                Q(\"Public Transport Accessibility\")+ Q(\"Homes with access to open space & nature, and % greenspace\")+\\\n",
    "                Q(\"Subjective well-being average score\")+Q(\"Index Score 2013\")'\n",
    "mod = smf.ols(formula='nutripoints ~ ' + reg2_features,\n",
    "              data=wellbeing_grocery_analysis)\n",
    "res = mod.fit()\n",
    "print(res.summary())"
   ]
  },
  {
   "cell_type": "code",
   "execution_count": null,
   "metadata": {
    "scrolled": true
   },
   "outputs": [],
   "source": [
    "reg2_features = 'Q(\"Life Expectancy\")+Q(\"Childhood Obesity\")+Q(\"Incapacity Benefit rate\")+Q(\"Unemployment rate\")\\\n",
    "                + Q(\"Crime rate - Index\")+Q(\"Deliberate Fires\")+\\\n",
    "                Q(\"Average Capped GCSE and Equivalent Point Score Per Pupil\")+\\\n",
    "                Q(\"Unauthorised Absence in All Schools (%)\")+Q(\"Dependent children in out-of-work families\")+\\\n",
    "                Q(\"Public Transport Accessibility\")+ Q(\"Homes with access to open space & nature, and % greenspace\")+\\\n",
    "                Q(\"Subjective well-being average score\")'\n",
    "mod = smf.ols(formula='nutripoints ~ ' + reg2_features,\n",
    "              data=wellbeing_grocery_analysis)\n",
    "res = mod.fit()\n",
    "print(res.summary())"
   ]
  },
  {
   "cell_type": "code",
   "execution_count": null,
   "metadata": {},
   "outputs": [],
   "source": [
    "X = wellbeing_grocery_analysis[numerical_wellbeing_scores_columns]\n",
    "y = wellbeing_grocery_analysis[\"nutripoints\"]"
   ]
  },
  {
   "cell_type": "code",
   "execution_count": null,
   "metadata": {},
   "outputs": [],
   "source": [
    "# train a gradient boosting regressor\n",
    "gradboost = GradientBoostingRegressor()\n",
    "\n",
    "# compute r^2 for this new model\n",
    "#r2_random_gradboost = gradboost_random.score(train_X, train_y)\n",
    "\n",
    "#print(f\"R² for the Gradient Boost Regression: {r2_random_gradboost}\")"
   ]
  },
  {
   "cell_type": "code",
   "execution_count": null,
   "metadata": {},
   "outputs": [],
   "source": [
    "selector = RFE(gradboost, n_features_to_select=5, step=1)\n",
    "selector = selector.fit(X, y)\n",
    "print(X.columns)\n",
    "print(selector.ranking_)"
   ]
  },
  {
   "cell_type": "code",
   "execution_count": null,
   "metadata": {},
   "outputs": [],
   "source": [
    "predicted_y = cross_val_predict(gradboost, X, y, cv=5)"
   ]
  },
  {
   "cell_type": "code",
   "execution_count": null,
   "metadata": {},
   "outputs": [],
   "source": [
    "# Plot the results\n",
    "fig, ax = plt.subplots(figsize=(12, 8))\n",
    "ax.scatter(y, predicted_y, edgecolors=(0, 0, 0))\n",
    "ax.set_xlabel('Original')\n",
    "ax.set_ylabel('Predicted')\n",
    "plt.show()"
   ]
  },
  {
   "cell_type": "code",
   "execution_count": null,
   "metadata": {},
   "outputs": [],
   "source": [
    "r2 = r2_score(y, predicted_y)\n",
    "mse = mean_squared_error(y, predicted_y)\n",
    "print(r2, mse)"
   ]
  }
 ],
 "metadata": {
  "kernelspec": {
   "display_name": "Python 3",
   "language": "python",
   "name": "python3"
  },
  "language_info": {
   "codemirror_mode": {
    "name": "ipython",
    "version": 3
   },
   "file_extension": ".py",
   "mimetype": "text/x-python",
   "name": "python",
   "nbconvert_exporter": "python",
   "pygments_lexer": "ipython3",
   "version": "3.8.6"
  }
 },
 "nbformat": 4,
 "nbformat_minor": 4
}
