{
 "cells": [
  {
   "cell_type": "markdown",
   "metadata": {},
   "source": [
    "# Well-being - Nutrition\n",
    "\n",
    "In this notebook, bla bla bla"
   ]
  },
  {
   "cell_type": "markdown",
   "metadata": {},
   "source": [
    "## Import modules"
   ]
  },
  {
   "cell_type": "code",
   "execution_count": null,
   "metadata": {},
   "outputs": [],
   "source": [
    "from IPython.display import display\n",
    "import matplotlib.pyplot as plt\n",
    "import pandas as pd\n",
    "import seaborn as sns\n",
    "import statsmodels.formula.api as smf\n",
    "from sklearn.cluster import KMeans\n",
    "from sklearn.preprocessing import StandardScaler\n",
    "from sklearn.decomposition import PCA\n",
    "from sklearn.metrics import silhouette_score\n",
    "from sklearn.linear_model import LinearRegression\n",
    "from sklearn.ensemble import GradientBoostingRegressor\n",
    "from sklearn.model_selection import cross_val_predict\n",
    "from sklearn.metrics import mean_squared_error, r2_score\n",
    "from sklearn.feature_selection import RFE\n",
    "\n",
    "from utils import calculate_nutripoints\n",
    "\n",
    "sns.set_theme('notebook')\n",
    "%matplotlib inline\n",
    "%load_ext autoreload\n",
    "%autoreload 2"
   ]
  },
  {
   "cell_type": "markdown",
   "metadata": {},
   "source": [
    "## Import data"
   ]
  },
  {
   "cell_type": "code",
   "execution_count": null,
   "metadata": {
    "scrolled": true
   },
   "outputs": [],
   "source": [
    "year_grocery = pd.read_csv(\"data/year_osward_grocery.csv\")\n",
    "display(year_grocery.head())\n",
    "\n",
    "wellbeing_data = pd.read_excel(\n",
    "    \"data/london-ward-well-being-probability-scores.xls\", sheet_name=\"Data\")\n",
    "display(wellbeing_data.head())\n",
    "\n",
    "wellbeing_scores = pd.read_excel(\n",
    "    \"data/london-ward-well-being-probability-scores.xls\", sheet_name=\"Scores\", header=[0, 1])\n",
    "display(wellbeing_scores.head())\n",
    "\n",
    "wellbeing_final_scores = pd.read_excel(\n",
    "    \"data/london-ward-well-being-probability-scores.xls\", sheet_name=\"Ranked\", header=[3], usecols=\"B:C\")\n",
    "display(wellbeing_final_scores.head())"
   ]
  },
  {
   "cell_type": "markdown",
   "metadata": {},
   "source": [
    "## Preprocessing"
   ]
  },
  {
   "cell_type": "markdown",
   "metadata": {},
   "source": [
    "### Filter data\n",
    "\n",
    "We filter the data points with the lowest representativeness"
   ]
  },
  {
   "cell_type": "code",
   "execution_count": null,
   "metadata": {},
   "outputs": [],
   "source": [
    "PERCENTAGE_SPLIT_REPRESENTATIVENESS = 0.8\n",
    "N = len(year_grocery)\n",
    "\n",
    "year_grocery = year_grocery.nlargest(\n",
    "    int(PERCENTAGE_SPLIT_REPRESENTATIVENESS * N), 'representativeness_norm')"
   ]
  },
  {
   "cell_type": "markdown",
   "metadata": {},
   "source": [
    "### Compute nutripoints\n",
    "\n",
    "We add a column with the computed nutripoints, assessing the quality of the average product of each area"
   ]
  },
  {
   "cell_type": "code",
   "execution_count": null,
   "metadata": {},
   "outputs": [],
   "source": [
    "year_grocery[\"nutripoints\"] = year_grocery.apply(calculate_nutripoints, axis=1)\n",
    "year_grocery[\"nutripoints\"].describe()"
   ]
  },
  {
   "cell_type": "code",
   "execution_count": null,
   "metadata": {
    "scrolled": true
   },
   "outputs": [],
   "source": [
    "display(year_grocery.head())"
   ]
  },
  {
   "cell_type": "markdown",
   "metadata": {},
   "source": [
    "### Filter wellbeing data\n",
    "\n",
    "We filter the columns giving the information about the last year of the dataset, 2013"
   ]
  },
  {
   "cell_type": "code",
   "execution_count": null,
   "metadata": {},
   "outputs": [],
   "source": [
    "wellbeing_scores = wellbeing_scores.loc[:, (slice(\n",
    "    None), [2013, \"New ward code\", \"Ward name\", \"Borough\"])].dropna(how=\"all\")\n",
    "wellbeing_scores = wellbeing_scores.droplevel(1, axis=1)\n",
    "display(wellbeing_scores.head())"
   ]
  },
  {
   "cell_type": "markdown",
   "metadata": {},
   "source": [
    "### Merge datasets"
   ]
  },
  {
   "cell_type": "code",
   "execution_count": null,
   "metadata": {},
   "outputs": [],
   "source": [
    "wellbeing_scores = pd.merge(\n",
    "    left=wellbeing_scores, right=wellbeing_final_scores, left_on='Ward name', right_on=\"Ward\")\n",
    "wellbeing_scores = wellbeing_scores.drop(\"Ward\", axis=1)\n",
    "display(wellbeing_scores.head())"
   ]
  },
  {
   "cell_type": "code",
   "execution_count": null,
   "metadata": {
    "scrolled": true
   },
   "outputs": [],
   "source": [
    "list_column = [\"area_id\", \"energy_tot\", \"energy_fat\", \"energy_saturate\", \"energy_sugar\", \"energy_protein\", \"energy_carb\",\n",
    "               \"energy_fibre\", \"energy_alcohol\", \"h_nutrients_calories\", \"nutripoints\"]\n",
    "year_grocery = year_grocery.loc[:,\n",
    "                                year_grocery.columns.isin(list(list_column))]\n",
    "display(year_grocery.head())\n",
    "\n",
    "wellbeing_data = wellbeing_data.filter(\n",
    "    regex=r'(2013$|-13$|New ward code|Ward$|Borough)')\n",
    "display(wellbeing_data.head())"
   ]
  },
  {
   "cell_type": "code",
   "execution_count": null,
   "metadata": {
    "scrolled": true
   },
   "outputs": [],
   "source": [
    "wellbeing_data.dropna(how='all', axis=0)"
   ]
  },
  {
   "cell_type": "code",
   "execution_count": null,
   "metadata": {},
   "outputs": [],
   "source": [
    "wellbeing_grocery = pd.merge(\n",
    "    left=year_grocery, right=wellbeing_scores, left_on='area_id', right_on=\"New ward code\")\n",
    "wellbeing_grocery = wellbeing_grocery.drop(\"New ward code\", axis=1)\n",
    "display(wellbeing_grocery.head())"
   ]
  },
  {
   "cell_type": "code",
   "execution_count": null,
   "metadata": {},
   "outputs": [],
   "source": [
    "wellbeing_grocery_columns = wellbeing_grocery.columns.values.tolist()\n",
    "wellbeing_grocery.isnull().any()"
   ]
  },
  {
   "cell_type": "code",
   "execution_count": null,
   "metadata": {},
   "outputs": [],
   "source": [
    "wellbeing_grocery.describe()"
   ]
  },
  {
   "cell_type": "code",
   "execution_count": null,
   "metadata": {},
   "outputs": [],
   "source": [
    "COLUMNS_SCORES = [\n",
    "    'Life Expectancy',\n",
    "    'Childhood Obesity',\n",
    "    'Incapacity Benefit rate',\n",
    "    'Unemployment rate',\n",
    "    'Crime rate - Index',\n",
    "    'Deliberate Fires',\n",
    "    'Average Capped GCSE and Equivalent Point Score Per Pupil',\n",
    "    'Unauthorised Absence in All Schools (%)',\n",
    "    'Dependent children in out-of-work families',\n",
    "    'Public Transport Accessibility',\n",
    "    'Homes with access to open space & nature, and % greenspace',\n",
    "    'Subjective well-being average score',\n",
    "    'Index Score 2013'\n",
    "]\n",
    "\n",
    "COLUMNS_GROCERY = [\n",
    "    'energy_fat',\n",
    "    'energy_saturate',\n",
    "    'energy_sugar',\n",
    "    'energy_protein',\n",
    "    'energy_carb',\n",
    "    'energy_fibre',\n",
    "    'energy_alcohol',\n",
    "    'energy_tot',\n",
    "    'h_nutrients_calories',\n",
    "    'nutripoints'\n",
    "]\n",
    "\n",
    "COLUMNS = COLUMNS_GROCERY + COLUMNS_SCORES\n",
    "\n",
    "wellbeing_grocery_analysis = wellbeing_grocery[COLUMNS].copy()"
   ]
  },
  {
   "cell_type": "code",
   "execution_count": null,
   "metadata": {},
   "outputs": [],
   "source": [
    "scaler = StandardScaler()\n",
    "wellbeing_grocery_analysis[wellbeing_grocery_analysis.columns] = scaler.fit_transform(wellbeing_grocery_analysis\n",
    "                                                                                      [wellbeing_grocery_analysis.columns])\n",
    "wellbeing_grocery_analysis.describe()"
   ]
  },
  {
   "cell_type": "markdown",
   "metadata": {},
   "source": [
    "## Exploratory Data Analysis"
   ]
  },
  {
   "cell_type": "code",
   "execution_count": null,
   "metadata": {},
   "outputs": [],
   "source": [
    "fig, ax = plt.subplots(4, 6, figsize=(16, 8), sharey=False)\n",
    "\n",
    "for i in range(len(COLUMNS)):\n",
    "    sbplt = ax[int(i/6), i % 6]\n",
    "\n",
    "    sns.boxplot(data=wellbeing_grocery_analysis.iloc[:, i], ax=sbplt)\n",
    "    sbplt.set_xlabel('')\n",
    "    sbplt.set_ylabel('')\n",
    "    # TODO: make names of columns shorter to fit plot\n",
    "    sbplt.set_title(\n",
    "        wellbeing_grocery_analysis.columns[i], loc='center', wrap=True)\n",
    "\n",
    "fig.tight_layout()\n",
    "fig.subplots_adjust(top=0.9)\n",
    "\n",
    "fig.suptitle('boxplot for each column', fontsize=18)"
   ]
  },
  {
   "cell_type": "markdown",
   "metadata": {},
   "source": [
    "We observe that they are some outliers for the different variables. This is due to the differences between the different ward. "
   ]
  },
  {
   "cell_type": "code",
   "execution_count": null,
   "metadata": {
    "scrolled": true
   },
   "outputs": [],
   "source": [
    "fig, ax = plt.subplots(4, 6, figsize=(16, 8), sharey=False)\n",
    "\n",
    "for i in range(len(COLUMNS)):\n",
    "    sbplt = ax[int(i/6), i % 6]\n",
    "\n",
    "    sns.histplot(data=wellbeing_grocery_analysis.iloc[:, i], ax=sbplt)\n",
    "    sbplt.set_xlabel('')\n",
    "    sbplt.set_ylabel('')\n",
    "    sbplt.set_title(wellbeing_grocery_analysis.columns[i], wrap=True)\n",
    "\n",
    "fig.tight_layout()\n",
    "fig.subplots_adjust(top=0.9)\n",
    "\n",
    "fig.suptitle('boxplot for each column', fontsize=18)"
   ]
  },
  {
   "cell_type": "code",
   "execution_count": null,
   "metadata": {},
   "outputs": [],
   "source": [
    "fig = plt.figure(figsize=(10, 5))\n",
    "\n",
    "sns.heatmap(\n",
    "    wellbeing_grocery_analysis[COLUMNS_SCORES + ['nutripoints']].corr())"
   ]
  },
  {
   "cell_type": "code",
   "execution_count": null,
   "metadata": {
    "scrolled": true
   },
   "outputs": [],
   "source": [
    "correlation = wellbeing_grocery_analysis.corr(method=\"spearman\")\n",
    "display(correlation.head())"
   ]
  },
  {
   "cell_type": "code",
   "execution_count": null,
   "metadata": {},
   "outputs": [],
   "source": [
    "display(correlation[[\"energy_fibre\"]])"
   ]
  },
  {
   "cell_type": "code",
   "execution_count": null,
   "metadata": {},
   "outputs": [],
   "source": [
    "# TODO: put the five following barplots in a single subplots\n",
    "\n",
    "plt.figure(figsize=(14, 3))\n",
    "\n",
    "correlation[\"energy_fibre\"][COLUMNS_SCORES].plot.bar(\n",
    "    x=None, y=None, width=0.8, legend=None)\n",
    "\n",
    "plt.ylabel(\"Spearman R\")\n",
    "plt.title(\"Correlation fibre\")\n",
    "plt.show()"
   ]
  },
  {
   "cell_type": "code",
   "execution_count": null,
   "metadata": {},
   "outputs": [],
   "source": [
    "plt.figure(figsize=(14, 3))\n",
    "\n",
    "correlation[\"energy_alcohol\"][COLUMNS_SCORES].plot.bar(\n",
    "    x=None, y=None, width=0.8, legend=None)\n",
    "\n",
    "plt.ylabel(\"Spearman R\")\n",
    "plt.title(\"Correlation alcohol\")\n",
    "plt.show()"
   ]
  },
  {
   "cell_type": "code",
   "execution_count": null,
   "metadata": {},
   "outputs": [],
   "source": [
    "plt.figure(figsize=(14, 3))\n",
    "\n",
    "correlation[\"h_nutrients_calories\"][COLUMNS_SCORES].plot.bar(\n",
    "    x=None, y=None, width=0.8, legend=None)\n",
    "\n",
    "plt.ylabel(\"Spearman R\")\n",
    "plt.title(\"Correlation entropy\")\n",
    "plt.show()"
   ]
  },
  {
   "cell_type": "code",
   "execution_count": null,
   "metadata": {},
   "outputs": [],
   "source": [
    "plt.figure(figsize=(14, 3))\n",
    "\n",
    "correlation[\"energy_saturate\"][COLUMNS_SCORES].plot.bar(\n",
    "    x=None, y=None, width=0.8, legend=None)\n",
    "\n",
    "plt.ylabel(\"Spearman R\")\n",
    "plt.title(\"Correlation saturate\")\n",
    "plt.show()"
   ]
  },
  {
   "cell_type": "code",
   "execution_count": null,
   "metadata": {},
   "outputs": [],
   "source": [
    "plt.figure(figsize=(14, 3))\n",
    "\n",
    "correlation[\"energy_sugar\"][COLUMNS_SCORES].plot.bar(\n",
    "    x=None, y=None, width=0.8, legend=None)\n",
    "\n",
    "plt.ylabel(\"Spearman R\")\n",
    "plt.title(\"Correlation saturate\")\n",
    "plt.show()"
   ]
  },
  {
   "cell_type": "code",
   "execution_count": null,
   "metadata": {},
   "outputs": [],
   "source": [
    "plt.figure(figsize=(14, 3))\n",
    "\n",
    "correlation[\"Index Score 2013\"][COLUMNS_SCORES].plot.bar(\n",
    "    x=None, y=None, width=0.8, legend=None)\n",
    "\n",
    "plt.ylabel(\"Spearman R\")\n",
    "plt.title(\"Correlation wellbeing\")\n",
    "plt.show()"
   ]
  },
  {
   "cell_type": "code",
   "execution_count": null,
   "metadata": {
    "scrolled": true
   },
   "outputs": [],
   "source": [
    "plt.figure(figsize=(14, 3))\n",
    "\n",
    "correlation[\"energy_tot\"][COLUMNS_SCORES].plot.bar(\n",
    "    x=None, y=None, width=0.8, legend=None)\n",
    "\n",
    "plt.ylabel(\"Spearman R\")\n",
    "plt.title(\"Correlation energy tot\")\n",
    "plt.show()"
   ]
  },
  {
   "cell_type": "code",
   "execution_count": null,
   "metadata": {},
   "outputs": [],
   "source": [
    "reg_features = 'Q(\"Life Expectancy\") + Q(\"Incapacity Benefit rate\") + Q(\"Unemployment rate\") + Q(\"Crime rate - Index\") \\\n",
    "+ Q(\"Childhood Obesity\") + Q(\"Homes with access to open space & nature, and % greenspace\")'\n",
    "\n",
    "mod = smf.ols(formula='h_nutrients_calories ~ ' +\n",
    "              reg_features, data=wellbeing_grocery_analysis)\n",
    "res = mod.fit()\n",
    "print(res.summary())"
   ]
  },
  {
   "cell_type": "code",
   "execution_count": null,
   "metadata": {},
   "outputs": [],
   "source": [
    "mod = smf.ols(formula='energy_fibre ~ ' + reg_features,\n",
    "              data=wellbeing_grocery_analysis)\n",
    "res = mod.fit()\n",
    "print(res.summary())"
   ]
  },
  {
   "cell_type": "code",
   "execution_count": null,
   "metadata": {
    "jupyter": {
     "outputs_hidden": false
    },
    "pycharm": {
     "name": "#%%\n"
    }
   },
   "outputs": [],
   "source": [
    "wellbeing_scores_columns = wellbeing_scores.columns.values.tolist()\n",
    "print(wellbeing_scores_columns)"
   ]
  },
  {
   "cell_type": "code",
   "execution_count": null,
   "metadata": {
    "jupyter": {
     "outputs_hidden": false
    },
    "pycharm": {
     "name": "#%%\n"
    }
   },
   "outputs": [],
   "source": [
    "wellbeing_scores_analysis = wellbeing_scores[COLUMNS_SCORES]\\\n",
    "    .dropna().copy()\n",
    "wellbeing_scores_reduced_pca = PCA(n_components=2).fit(\n",
    "    wellbeing_scores_analysis).transform(wellbeing_scores_analysis)"
   ]
  },
  {
   "cell_type": "code",
   "execution_count": null,
   "metadata": {
    "pycharm": {
     "name": "#%%\n"
    }
   },
   "outputs": [],
   "source": [
    "labels = wellbeing_scores_analysis.apply(\n",
    "    lambda row: \"g\" if row['Index Score 2013'] >= 0 else \"r\", axis=1)\n",
    "# Plot the data reduced in 2d space with PCA\n",
    "plt.figure(figsize=(14, 3))\n",
    "plt.scatter(wellbeing_scores_reduced_pca[:, 0],\n",
    "            wellbeing_scores_reduced_pca[:, 1], c=labels, alpha=0.6)"
   ]
  },
  {
   "cell_type": "code",
   "execution_count": null,
   "metadata": {},
   "outputs": [],
   "source": [
    "columns_kmeans_health = ['h_nutrients_calories', 'energy_alcohol']\n",
    "columns_kmeans = ['nutripoints']\n",
    "wellbeing_grocery_kmeans = wellbeing_grocery[columns_kmeans].copy()\n",
    "\n",
    "\n",
    "def plot_sse(X, start=2, end=11):\n",
    "    sse = []\n",
    "    for k in range(start, end):\n",
    "        # Assign the labels to the clusters\n",
    "        kmeans = KMeans(n_clusters=k, random_state=10).fit(X)\n",
    "        sse.append({\"k\": k, \"sse\": kmeans.inertia_})\n",
    "    sse = pd.DataFrame(sse)\n",
    "    # Plot the data\n",
    "    plt.plot(sse.k, sse.sse)\n",
    "    plt.xlabel(\"K\")\n",
    "    plt.ylabel(\"Sum of Squared Errors\")\n",
    "\n",
    "\n",
    "plot_sse(wellbeing_grocery_kmeans)"
   ]
  },
  {
   "cell_type": "code",
   "execution_count": null,
   "metadata": {},
   "outputs": [],
   "source": [
    "#######    silhouette scores to choose k    #########\n",
    "silhouettes = []\n",
    "for k in range(2, 11):  # Try multiple k\n",
    "    # Cluster the data and assigne the labels\n",
    "    labels = KMeans(n_clusters=k, random_state=10).fit_predict(\n",
    "        wellbeing_grocery_kmeans)\n",
    "    # Get the Silhouette score\n",
    "    score = silhouette_score(wellbeing_grocery_kmeans, labels)\n",
    "    silhouettes.append({\"k\": k, \"score\": score})\n",
    "\n",
    "silhouettes = pd.DataFrame(silhouettes)  # Convert to dataframe\n",
    "\n",
    "# Plot the data\n",
    "plt.plot(silhouettes.k, silhouettes.score)\n",
    "plt.xlabel(\"K\")\n",
    "plt.ylabel(\"Silhouette score\")"
   ]
  },
  {
   "cell_type": "code",
   "execution_count": null,
   "metadata": {},
   "outputs": [],
   "source": [
    "fig, axs = plt.subplots(1, 1, figsize=(10, 8), sharey=True, sharex=True)\n",
    "\n",
    "# Cluster the data with the current number of clusters\n",
    "kmean = KMeans(n_clusters=5, random_state=42).fit(wellbeing_grocery_kmeans)\n",
    "\n",
    "# Plot the data by using the labels as color\n",
    "wellbeing_grocery_kmeans['label'] = kmean.labels_\n",
    "sns.swarmplot(data=wellbeing_grocery_kmeans, x='nutripoints',\n",
    "              ax=axs, hue=wellbeing_grocery_kmeans.label)\n",
    "# Plot the centroids\n",
    "# for c in kmean.cluster_centers_:\n",
    "#axs.scatter(c[0], c[1], marker=\"+\", color=\"red\")"
   ]
  },
  {
   "cell_type": "code",
   "execution_count": null,
   "metadata": {
    "scrolled": true
   },
   "outputs": [],
   "source": [
    "wellbeing_grocery[\"nutri_label\"] = kmean.labels_\n",
    "wellbeing_grocery.groupby(\"nutri_label\")[\"nutripoints\"].min()"
   ]
  },
  {
   "cell_type": "markdown",
   "metadata": {},
   "source": [
    "## Predictive Models"
   ]
  },
  {
   "cell_type": "code",
   "execution_count": null,
   "metadata": {},
   "outputs": [],
   "source": [
    "X = wellbeing_grocery[COLUMNS_SCORES]\n",
    "y = wellbeing_grocery[\"nutripoints\"]"
   ]
  },
  {
   "cell_type": "code",
   "execution_count": null,
   "metadata": {},
   "outputs": [],
   "source": [
    "## Linear regression ##\n",
    "\n",
    "# create the model\n",
    "lin_reg = LinearRegression()\n",
    "\n",
    "# train it\n",
    "lin_reg.fit(X, y)"
   ]
  },
  {
   "cell_type": "code",
   "execution_count": null,
   "metadata": {},
   "outputs": [],
   "source": [
    "for f in range(len(COLUMNS_SCORES)):\n",
    "    print(\n",
    "        \"{0} * {1} + \".format(lin_reg.coef_[f], COLUMNS_SCORES[f]))\n",
    "print(lin_reg.intercept_)"
   ]
  },
  {
   "cell_type": "code",
   "execution_count": null,
   "metadata": {
    "scrolled": true
   },
   "outputs": [],
   "source": [
    "reg2_features = 'Q(\"Life Expectancy\")\\\n",
    "                + Q(\"Childhood Obesity\")\\\n",
    "                + Q(\"Incapacity Benefit rate\")\\\n",
    "                + Q(\"Unemployment rate\")\\\n",
    "                + Q(\"Crime rate - Index\")\\\n",
    "                + Q(\"Deliberate Fires\")\\\n",
    "                + Q(\"Average Capped GCSE and Equivalent Point Score Per Pupil\")\\\n",
    "                + Q(\"Unauthorised Absence in All Schools (%)\")\\\n",
    "                + Q(\"Dependent children in out-of-work families\")\\\n",
    "                + Q(\"Public Transport Accessibility\")\\\n",
    "                + Q(\"Homes with access to open space & nature, and % greenspace\")\\\n",
    "                + Q(\"Subjective well-being average score\")\\\n",
    "                + Q(\"Index Score 2013\")'\n",
    "\n",
    "mod = smf.ols(formula='nutripoints ~ ' + reg2_features,\n",
    "              data=wellbeing_grocery_analysis)\n",
    "res = mod.fit()\n",
    "\n",
    "print(res.summary())"
   ]
  },
  {
   "cell_type": "markdown",
   "metadata": {},
   "source": [
    "### Train Gradient Boosting Regressor"
   ]
  },
  {
   "cell_type": "code",
   "execution_count": null,
   "metadata": {},
   "outputs": [],
   "source": [
    "## Gradient Boosting Regression ##\n",
    "gradboost = GradientBoostingRegressor()"
   ]
  },
  {
   "cell_type": "code",
   "execution_count": null,
   "metadata": {},
   "outputs": [],
   "source": [
    "# Select appropriate features using recursive feature elimination\n",
    "\n",
    "selector = RFE(gradboost, n_features_to_select=5, step=1)\n",
    "selector = selector.fit(X, y)\n",
    "print(X.columns)\n",
    "print(selector.ranking_)"
   ]
  },
  {
   "cell_type": "code",
   "execution_count": null,
   "metadata": {},
   "outputs": [],
   "source": [
    "predicted_y = cross_val_predict(gradboost, X, y, cv=5)"
   ]
  },
  {
   "cell_type": "code",
   "execution_count": null,
   "metadata": {},
   "outputs": [],
   "source": [
    "# Plot the results\n",
    "fig, ax = plt.subplots(figsize=(12, 8))\n",
    "ax.scatter(y, predicted_y, edgecolors=(0, 0, 0))\n",
    "ax.set_xlabel('Original')\n",
    "ax.set_ylabel('Predicted')\n",
    "plt.show()"
   ]
  },
  {
   "cell_type": "code",
   "execution_count": null,
   "metadata": {},
   "outputs": [],
   "source": [
    "r2 = r2_score(y, predicted_y)\n",
    "mse = mean_squared_error(y, predicted_y)\n",
    "\n",
    "print(r2, mse)"
   ]
  },
  {
   "cell_type": "markdown",
   "metadata": {},
   "source": [
    "## Conclusions\n",
    "\n",
    "According to our results, ..."
   ]
  }
 ],
 "metadata": {
  "kernelspec": {
   "display_name": "Python 3",
   "language": "python",
   "name": "python3"
  },
  "language_info": {
   "codemirror_mode": {
    "name": "ipython",
    "version": 3
   },
   "file_extension": ".py",
   "mimetype": "text/x-python",
   "name": "python",
   "nbconvert_exporter": "python",
   "pygments_lexer": "ipython3",
   "version": "3.8.5"
  }
 },
 "nbformat": 4,
 "nbformat_minor": 4
}
